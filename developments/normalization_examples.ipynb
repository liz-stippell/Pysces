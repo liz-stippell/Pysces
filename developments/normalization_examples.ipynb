<<<<<<< HEAD
{
 "cells": [
  {
   "cell_type": "code",
   "execution_count": 1,
   "metadata": {},
   "outputs": [],
   "source": [
    "from Pysces import *"
   ]
  },
  {
   "cell_type": "markdown",
   "metadata": {},
   "source": [
    "The conjugate() function will give us the complex conjugate of the wavefunction\n",
    "\n",
    "The normalize_constant() function will give us the normalization constant, as defined in the general notation."
   ]
  },
  {
   "cell_type": "markdown",
   "metadata": {},
   "source": [
    "# Let's take some wavefunctions from Homework 2:\n"
   ]
  },
  {
   "cell_type": "code",
   "execution_count": 2,
   "metadata": {},
   "outputs": [
    {
     "data": {
      "image/png": "iVBORw0KGgoAAAANSUhEUgAAABgAAAAUCAYAAACXtf2DAAAABHNCSVQICAgIfAhkiAAAATRJREFUOI3t1D0oRnEUBvDf66XMYlIMJhLlIwsLkplYZbHZDGKxWSklmUxKBossFoXJgkEyK/QmKcpHGO5f3d7ee329xeCp27n/c57znHPuPffyxzGEB9TGfPM4Q1UxCmRwgOVwnsAl6ooh/o4+PGESt2grpvg79vGM/s8mDGILOTyKnukUsgW43bjDC1o+Es5iFa9BdBFzOA2+lTx+M24wgo3QVCoWgtAsSmP+MuyFWEPw1eIc0+HcFKboShLvCISNhPhYKDCKCpxgKY+zht24I97luGjt7jFToEBjsBlco74AZzipe7gKHX509aaJJKE8JO98JzkNJcFmgq0sdoE4DkVTDCTEOxX+DlKRid33YVP04rdxJJqwGq2iVa35aoF8tGMdF6L/Sw7HonXs+an4P34HbzoIQlPXF1sbAAAAAElFTkSuQmCC\n",
      "text/latex": [
       "$$e^{x}$$"
      ],
      "text/plain": [
       " x\n",
       "ℯ "
      ]
     },
     "execution_count": 2,
     "metadata": {},
     "output_type": "execute_result"
    }
   ],
   "source": [
    "exp(x)"
   ]
  },
  {
   "cell_type": "markdown",
   "metadata": {},
   "source": [
    "Let's look at what the parameters of the normalize_constant() mean:\n",
    "\n",
    "    wavefunc: The WaveFunction/expression of interest\n",
    "    var: What the integral is taken with respect to\n",
    "    lower: The lower bound of the integral. If bounds are not listed, this is -oo\n",
    "    upper: The upper bound of the integral. If bounds are not listed, this is oo\n",
    "    \n",
    "This looks like:\n",
    "\n",
    "normalize_constant(wavefunc, var, lower, upper)\n",
    "\n",
    "Note that in sympy notation, two \"o\"s (oo) represents infinity. If a bound is not given, integrate from (-oo, oo)"
   ]
  },
  {
   "cell_type": "code",
   "execution_count": 3,
   "metadata": {
    "scrolled": true
   },
   "outputs": [
    {
     "data": {
      "image/png": "iVBORw0KGgoAAAANSUhEUgAAAB8AAAAbCAYAAACEP1QvAAAABHNCSVQICAgIfAhkiAAAAYtJREFUSInt1T9IllEUx/FPaoWgg70RDa0GbTUaTkkFQlN/VgcbjCAChyYhcGjQyf5AS7TYFDRZNAQN0RQ0iIgSKA0NgpgSBKbYcK/wou/z8Jx644XqC5fncjjn/M6993Ae/lUOBP27sfEnCqnCFVxslfgDHGpWsraAb3tem60QP4v3zRKOcg+1ZiaMnLyG1VaI92Khgb2G63iBT/iOdbzDcCB/KaM42cA+gh18wbT0NE/wNdufi8+SfTwusJ/DJftPeByfcwGXi5K21+3bMI7D0hXucgRn8KZB/BIWs0g939CJAazgVSPx+oovoA9X9/gM4mVR9SX8yN+tqgGnpUrri3oo3jgdmJVuJDSOl9Gf9wcxFRSGySw8Ew2cwkTen1fSMAXcysLzUr+EGJCaSC6iKxB7MwvPSR0fpgNrOIVHgbjbWXgWx35FeJdpPMONiv53svBHHP0dYbiWk52o4DuWfT8IvnHR6OvGa+k3WsYQnmIb96W5vpfl7BOip4LPXenUZettVPg/fy8/AX1zTYGyZhh0AAAAAElFTkSuQmCC\n",
      "text/latex": [
       "$$\\sqrt{2}$$"
      ],
      "text/plain": [
       "√2"
      ]
     },
     "execution_count": 3,
     "metadata": {},
     "output_type": "execute_result"
    }
   ],
   "source": [
    "normalize_constant(exp(x), x, -oo, 0)"
   ]
  },
  {
   "cell_type": "markdown",
   "metadata": {},
   "source": [
    "Again, this is the normalization constant. To get the normalized wavefunction, simply multiply the calculated normalization constant by the original wavefunction:"
   ]
  },
  {
   "cell_type": "code",
   "execution_count": 4,
   "metadata": {},
   "outputs": [
    {
     "data": {
      "image/png": "iVBORw0KGgoAAAANSUhEUgAAADUAAAAbCAYAAADcQMc2AAAABHNCSVQICAgIfAhkiAAAAm5JREFUWIXt11uITVEcx/EPc4gyD64pMg+iSMglpVEaGuNByu2JJBKJ1BCR8iDzQLkNQokHlJRJSYqi8KSE5DIepIhpyqWQu4e1NOM4Z5+zx4xDzbd2Z+//+v3X/7/2Wuu/9qGT/4MuKfXleFvC+B3CPMwodRLtTT26lzqJQnRNoS2L16cOyqXdSDOoybjRUYmUijr0LXUSmI+PqGhl24NG9E/b2eF2SupP6YKbOBKf1+ElhqbtaBhqc9j7YhnO4jE+4A2uYal0yzsN1fiMjcIRM6EtndRieA77CnzHc5wQluhRvI72MzruLLqBL6hpaweH8tirMMvvMzIQT4WBzW1r0ASq8A7fMC5J2BXbMDPL3gfb2xB4kzCofUVo5+ICmoUjozH6l+XQjhFWwmI0RL+81OCysHxasxCVRSSWzXphULsSNGU4FXWNOIjdeBhtx7P0FXiGzfF5tDBbU5ISGYsmvy6n/dJv+AzuxsSSPqvqo6Yu+vykG67HtpHR1gf3/b4VTguFKZEnWmamG/YWcsjBzpjQ+QTNJOEtN+RpXx77WJI2eCaH7RxmC6Ofiqsp+1wjVMsHWJSgWy1UxvfYmqN9VPxtl+o5DY/i/Q70SuG7Sni794QKmERT1Ba6pqeIn5cMXmEEDqTwWxuTuIsBBbQ9ojbtKvgjTuAkVhap3yAkeQv9itD31DKjf40FMejgIrRbovamUKGK5Xb0m5OnvVLuc6og+TZhOS4KfzeSWIxj+Cocsm9yaJ5ETTbVQnXM4BLuCEfHIIwXKu+QAvFT07sIzVaFN/qVBP+JwvfhC+EDtVnYk4eEgtVJJ538A/wA94GMDbZVK98AAAAASUVORK5CYII=\n",
      "text/latex": [
       "$$\\sqrt{2} e^{x}$$"
      ],
      "text/plain": [
       "    x\n",
       "√2⋅ℯ "
      ]
     },
     "execution_count": 4,
     "metadata": {},
     "output_type": "execute_result"
    }
   ],
   "source": [
    "normalize_constant(exp(x), x, -oo, 0)*(exp(x))"
   ]
  },
  {
   "cell_type": "markdown",
   "metadata": {},
   "source": [
    "Let's try another example over the integral (0,1)\n",
    "\n",
    "This time let's define the function as psi for simplicity:"
   ]
  },
  {
   "cell_type": "code",
   "execution_count": 5,
   "metadata": {},
   "outputs": [],
   "source": [
    "psi = a*x*(x-1)"
   ]
  },
  {
   "cell_type": "code",
   "execution_count": 6,
   "metadata": {
    "scrolled": true
   },
   "outputs": [
    {
     "data": {
      "image/png": "iVBORw0KGgoAAAANSUhEUgAAAF4AAAAvCAYAAABqrH0KAAAABHNCSVQICAgIfAhkiAAABKBJREFUeJzt22uIVVUUwPHfpPnoXWNPMKMyipxRYoKeIiap9UGy0vqglSiRGkVICJEWFRPUh4wkSgqTIok+JH2IHkRPQ9KojLL3w0pTswcTlFn2YZ1hzpy599y53hnvdTp/ODjn7LXWXnc/1t7n7CUFdaGpFzJ7GsCH/yUL6+3AQOSACuWD8Pe+cKSgO+PRUm8nBiKVRnwLNu4LR2rkSPyEU+rtSIZnccveKM7P3C/Ah/g9ud7BpWX0vsaf2IAL96byKrgPT/RzHVnG43n8KDYgV5SQacVOHF6N4dNwUebZNFyC0Un5PWINaE3JzEyezcMZeBAdOLGayqvgIPyq/zs3y1TcjenKNzwx8BbkGZqt++idhwN74cBOXJ+6X4cVGZnP0V5Gf4mYRR3YjscxLCm7En9hVEp+WWLv6JTMTt23pb3R60vyGn4p3i6nOBRT8FTqWTbMZBmEq7FL1wI8BLvFD0+zHK+XsNGEO3G+aKRJ+AGLU+XrdXXkIj1j+TK8XMJuJb2+JK/hp4g2Gp5n4C0MRjNmlJFpEaNzN34RoaeTExInxmd0luDTvIpTPIqVqfuLRehaLNaVtoz8GqXjeyW9viSv4VuT8txOb8dEXIUjysgMwanih7RjB8YkZZ0Nn423S7GphK2RYg3YKMJFh2isuzJya0VHTylh40U8UsbXPL1O7kh8zrsm5OiT3/Cjk/Ix6YeDM0JrRPjYJBasUuzCF8nf63E2bsZc0Qn/4LiMzjFiqqdpxrt4Q4SC7/Fv8uyDlNxEjBVb320l/NkhtpNZKul18hBW55TDdxXK8zgq+Xd7nlCTWBznVGH4VTyZul8nwkWaz/RcXGeLzk0vitfqPi3HJjLX4Dm8UKL+Rfgo86w3en1J3oifK9atiqzAyWXK7hVh5CQR69vFKJ2akpkpZsVcsZ18QISQ9A6D2EHtxmUidN2ILbo6Y1Ti8G2JfGtSVzaMtYhZNiK5761erRyCccm1RwyAcXpum1fhsd4YbM4pW4lvxVZtG17B5BJy8/FNIrdBz8WWaNzlYuHbJmL9/XhNTM9P9Izdz4gNQJa14mNetXq1MEHp9WBlSma4+H3n9HHdDcNkEc4G1duRDAvxUqmCRnN0b/lSzKAt+K3OvqQZh4fxc70dKSgoKCjYd3S+vPT3gXZBQUFBAzNM+TfEWq+6kv062WhMEi9FAy7pqVKWQb05C+/V24n+oJEbvkmDhIX+oJEbvk0ctFTLSPGF82NxoDK9D336X3CrOISvluPFQQhx8rVZpIA0FI084oeJ7/nVskXX0eE2cSA/orx4fWjUhh8lDlJqpU3kBm3uA1sDjsPEMWGaG9Q+SptFnD+vRjsDljnYqns8v71Gm0NF9sKsGu0MeFbpSow6FDflyOal/BHb0KdFvkxBBS7XdUA9A6eXkauU8gcXiKyC91NXkeNfhoPxlWjYasNMNuVvv6BRdjV/iIXwXJFrU45SKX/XKXYtNTEPbyqdg0PsUraKHJnJOFMkTHUon8VV0AuOFS885VJOepPyV7CXTMspq5Tyt1+xPzncJDJ7Z4n/W7Va5Gi2qZxGXVBQUFBQsM/4D7lYJJ4eGhwsAAAAAElFTkSuQmCC\n",
      "text/latex": [
       "$$\\frac{\\sqrt{30} a x \\left(x - 1\\right)}{\\sqrt{a^{2}}}$$"
      ],
      "text/plain": [
       "√30⋅a⋅x⋅(x - 1)\n",
       "───────────────\n",
       "       ____    \n",
       "      ╱  2     \n",
       "    ╲╱  a      "
      ]
     },
     "execution_count": 6,
     "metadata": {},
     "output_type": "execute_result"
    }
   ],
   "source": [
    "normalize_constant(psi, x, 0, 1)*(psi)"
   ]
  },
  {
   "cell_type": "markdown",
   "metadata": {},
   "source": [
    "The same can be done with problems involving complex numbers:"
   ]
  },
  {
   "cell_type": "code",
   "execution_count": 7,
   "metadata": {},
   "outputs": [
    {
     "data": {
      "image/png": "iVBORw0KGgoAAAANSUhEUgAAAD8AAAAdCAYAAAAdO7TiAAAABHNCSVQICAgIfAhkiAAAAwpJREFUWIXt2F+oVFUUx/HPneuVWyaiFT4kSkQ3sijJRCyT/nEzKILUoJCil/RFgvQhkqCH0AcRTE2xIIseim6QBP2DCoLKFx/sn1K+CBKYXEjKQu2WPawt9zjMmX3mzjjz4P3CMOfsvc5av9l7n7X2Hia5NOnrtYAWmY4/ei2iV6zEA70WUeRVvN+lWDsxtUuxKjETV3QhTj92d9phu5zG2Q74ybEUf+L7LsSqxBycww3pfhXOYF7B5hUcwdVtxtqMK9v00VEewl+opfs+HMDr6X4DfsN1HYj1Wgd8dJSN2F/XNox/8LwoS7eXPDsb/2J7hTjXY33G5kuxCu+q4K8jjGichL7FGJY3efYZIfaeCnHWY6hJfx9OisHsRvIFv2BNXdu94lX4D7c1efYTjKqWdPdk+ofEQB6q4CvLCuPizoqE9YILhU4TI7240HarmIGnsC/5aMQMkRj3FtpqeBkP1tnOwqaM3sfFj387Y9eUfryTHB0RS3obfk5tbxVsl4gff3m6n4dfRR6AW8TsN3oHn0j+Hi60LccXeKPOdrUoc83Ymvw9m7Frys7kZDOmFNoH8E3qm5/a1uJwup6VruuX53v4ukGcEZzCYF37ApwwXj2IHWRNc75K2u7M2JWyWMzUvpL+8wnq6YkGSAyKzcpISf9R4zM9IF8NaqKqjIlXsTLF2V0nsubfeKmB7c3pu92T4LDIyB+U9H+IR8SKuVvMajOGxGnvJ5FoJ8QJMbO5z/0TDZDYK5LdjJL++0QVgS3ypWt10vXmRAUNJge5UW6XflFByqoAsRp/x43YVcHnNqF9XatiittSuKpVBy2yTOzPy5Y88e5+jBfxQwWfC9P3gXaEfSdG8NGS/qXaPwXuEOVxdsbusaRlTsauJqrGGC5rVUwxeQ3jI7HsPhdHxxquEaM7gLmtBqjjmMjmuf33dHyGOzJ2N+FHkejeLbEZFeeMLIvEvzLHxeFkVCy9PSIRtcMiMZvPVbSfWcHmSfkE/WnLSi8Cm4SYa3stpBccxsFei5hkkkkuXf4HLZCmEiZwM7gAAAAASUVORK5CYII=\n",
      "text/latex": [
       "$$\\frac{e^{i x}}{\\sqrt{L}}$$"
      ],
      "text/plain": [
       " ⅈ⋅x\n",
       "ℯ   \n",
       "────\n",
       " √L "
      ]
     },
     "execution_count": 7,
     "metadata": {},
     "output_type": "execute_result"
    }
   ],
   "source": [
    "psi = exp(I*x)\n",
    "\n",
    "normalize_constant((psi), x, 0, L).doit()*(psi)"
   ]
  },
  {
   "cell_type": "markdown",
   "metadata": {},
   "source": [
    "Let's look at the fixed gaussian wavefunction, which is called using the fixed_gaussian() function.\n",
    "\n",
    "This function has three variables:\n",
    "\n",
    "    alpha:alpha parameter of the gaussian\n",
    "    x_0: x_0 parameter of the gaussian\n",
    "    p: p parameter of the gaussian\n",
    "\n",
    "And can be written as:\n",
    "\n",
    "fixed_gaussian(alpha, x_0, p)"
   ]
  },
  {
   "cell_type": "code",
   "execution_count": 8,
   "metadata": {
    "scrolled": true
   },
   "outputs": [
    {
     "data": {
      "text/latex": [
       "$$\\begin{cases} \\frac{1}{\\sqrt{\\frac{\\sqrt{\\pi} \\left(- \\operatorname{erfc}{\\left (\\sqrt{\\alpha} x_{0} \\right )} + 2\\right)}{2 \\sqrt{\\alpha}} + \\frac{\\sqrt{\\pi} \\operatorname{erfc}{\\left (\\sqrt{\\alpha} x_{0} \\right )}}{2 \\sqrt{\\alpha}}}} & \\text{for}\\: \\left(\\left(\\frac{\\pi}{2} \\geq \\left|{\\arg{\\left (\\alpha \\right )}}\\right| \\wedge \\pi > \\left|{2 \\arg{\\left (\\alpha \\right )} + 2 \\arg{\\left (x_{0} \\right )}}\\right|\\right) \\vee \\left(\\pi \\geq \\left|{2 \\arg{\\left (\\alpha \\right )} + 2 \\arg{\\left (x_{0} \\right )}}\\right| \\wedge \\frac{\\pi}{2} > \\left|{\\arg{\\left (\\alpha \\right )}}\\right|\\right) \\vee \\left(\\frac{\\pi}{2} > \\left|{\\arg{\\left (\\alpha \\right )}}\\right| \\wedge \\pi > \\left|{2 \\arg{\\left (\\alpha \\right )} + 2 \\arg{\\left (x_{0} \\right )}}\\right|\\right) \\vee \\frac{\\pi}{2} > \\left|{\\arg{\\left (\\alpha \\right )}}\\right|\\right) \\wedge \\left(\\left(\\frac{\\pi}{2} \\geq \\left|{\\arg{\\left (\\alpha \\right )}}\\right| \\wedge \\pi > \\left|{2 \\arg{\\left (\\alpha \\right )} + 2 \\arg{\\left (x_{0} \\right )} + 2 \\pi}\\right|\\right) \\vee \\left(\\pi \\geq \\left|{2 \\arg{\\left (\\alpha \\right )} + 2 \\arg{\\left (x_{0} \\right )} + 2 \\pi}\\right| \\wedge \\frac{\\pi}{2} > \\left|{\\arg{\\left (\\alpha \\right )}}\\right|\\right) \\vee \\left(\\frac{\\pi}{2} > \\left|{\\arg{\\left (\\alpha \\right )}}\\right| \\wedge \\pi > \\left|{2 \\arg{\\left (\\alpha \\right )} + 2 \\arg{\\left (x_{0} \\right )} + 2 \\pi}\\right|\\right) \\vee \\frac{\\pi}{2} > \\left|{\\arg{\\left (\\alpha \\right )}}\\right|\\right) \\\\\\frac{1}{\\sqrt{\\int_{-\\infty}^{\\infty} e^{- \\alpha \\left(x - x_{0}\\right)^{2}}\\, dx}} & \\text{otherwise} \\end{cases}$$"
      ],
      "text/plain": [
       "⎧                     1                            ⎛⎛π                        \n",
       "⎪────────────────────────────────────────────  for ⎜⎜─ ≥ │arg(α)│ ∧ π > │2⋅arg\n",
       "⎪    ________________________________________      ⎝⎝2                        \n",
       "⎪   ╱ √π⋅(-erfc(√α⋅x₀) + 2)   √π⋅erfc(√α⋅x₀)                                  \n",
       "⎪  ╱  ───────────────────── + ──────────────                                  \n",
       "⎪╲╱            2⋅√α                2⋅√α                                       \n",
       "⎪                                                                             \n",
       "⎪                     1                                                       \n",
       "⎨       ─────────────────────────────                                         \n",
       "⎪               _____________________                                         \n",
       "⎪              ╱ ∞                                                            \n",
       "⎪             ╱  ⌠                                                            \n",
       "⎪            ╱   ⎮              2                                             \n",
       "⎪           ╱    ⎮   -α⋅(x - x₀)                                              \n",
       "⎪          ╱     ⎮  ℯ             dx                                          \n",
       "⎪         ╱      ⌡                                                            \n",
       "⎩       ╲╱       -∞                                                           \n",
       "\n",
       "                ⎞   ⎛                             π           ⎞   ⎛π          \n",
       "(α) + 2⋅arg(x₀)│⎟ ∨ ⎜π ≥ │2⋅arg(α) + 2⋅arg(x₀)│ ∧ ─ > │arg(α)│⎟ ∨ ⎜─ > │arg(α)\n",
       "                ⎠   ⎝                             2           ⎠   ⎝2          \n",
       "                                                                              \n",
       "                                                                              \n",
       "                                                                              \n",
       "                                                                              \n",
       "                                                                              \n",
       "                                                                              \n",
       "                                                                              \n",
       "                                                                              \n",
       "                                                                              \n",
       "                                                                              \n",
       "                                                                              \n",
       "                                                                              \n",
       "                                                                              \n",
       "                                                                              \n",
       "\n",
       "                              ⎞   π           ⎞   ⎛⎛π                         \n",
       "│ ∧ π > │2⋅arg(α) + 2⋅arg(x₀)│⎟ ∨ ─ > │arg(α)│⎟ ∧ ⎜⎜─ ≥ │arg(α)│ ∧ π > │2⋅arg(\n",
       "                              ⎠   2           ⎠   ⎝⎝2                         \n",
       "                                                                              \n",
       "                                                                              \n",
       "                                                                              \n",
       "                                                                              \n",
       "                                                                              \n",
       "                                                   otherwise                  \n",
       "                                                                              \n",
       "                                                                              \n",
       "                                                                              \n",
       "                                                                              \n",
       "                                                                              \n",
       "                                                                              \n",
       "                                                                              \n",
       "                                                                              \n",
       "\n",
       "                     ⎞   ⎛                                   π           ⎞   ⎛\n",
       "α) + 2⋅arg(x₀) + 2⋅π│⎟ ∨ ⎜π ≥ │2⋅arg(α) + 2⋅arg(x₀) + 2⋅π│ ∧ ─ > │arg(α)│⎟ ∨ ⎜\n",
       "                     ⎠   ⎝                                   2           ⎠   ⎝\n",
       "                                                                              \n",
       "                                                                              \n",
       "                                                                              \n",
       "                                                                              \n",
       "                                                                              \n",
       "                                                                              \n",
       "                                                                              \n",
       "                                                                              \n",
       "                                                                              \n",
       "                                                                              \n",
       "                                                                              \n",
       "                                                                              \n",
       "                                                                              \n",
       "                                                                              \n",
       "\n",
       "π                                              ⎞   π           ⎞\n",
       "─ > │arg(α)│ ∧ π > │2⋅arg(α) + 2⋅arg(x₀) + 2⋅π│⎟ ∨ ─ > │arg(α)│⎟\n",
       "2                                              ⎠   2           ⎠\n",
       "                                                                \n",
       "                                                                \n",
       "                                                                \n",
       "                                                                \n",
       "                                                                \n",
       "                                                                \n",
       "                                                                \n",
       "                                                                \n",
       "                                                                \n",
       "                                                                \n",
       "                                                                \n",
       "                                                                \n",
       "                                                                \n",
       "                                                                "
      ]
     },
     "execution_count": 8,
     "metadata": {},
     "output_type": "execute_result"
    }
   ],
   "source": [
    "alpha, x_0, p = symbols(\"alpha, x_0, p\")\n",
    "\n",
    "FG = fixed_gaussian(alpha, x_0, p)\n",
    "\n",
    "normalize_constant(FG, x, -oo, oo)"
   ]
  },
  {
   "cell_type": "markdown",
   "metadata": {},
   "source": [
    "The above looks quite complicated, and so the \"simplify()\" function can be used:"
   ]
  },
  {
   "cell_type": "code",
   "execution_count": 9,
   "metadata": {},
   "outputs": [
    {
     "data": {
      "text/latex": [
       "$$\\begin{cases} \\frac{\\sqrt[4]{\\alpha}}{\\sqrt[4]{\\pi}} & \\text{for}\\: \\left(\\frac{\\pi}{2} \\geq \\left|{\\arg{\\left (\\alpha \\right )}}\\right| \\wedge \\pi > \\left|{2 \\arg{\\left (\\alpha \\right )} + 2 \\arg{\\left (x_{0} \\right )}}\\right| \\wedge \\pi > \\left|{2 \\arg{\\left (\\alpha \\right )} + 2 \\arg{\\left (x_{0} \\right )} + 2 \\pi}\\right|\\right) \\vee \\frac{\\pi}{2} > \\left|{\\arg{\\left (\\alpha \\right )}}\\right| \\\\\\frac{1}{\\sqrt{\\int_{-\\infty}^{\\infty} e^{- \\alpha \\left(x - x_{0}\\right)^{2}}\\, dx}} & \\text{otherwise} \\end{cases}$$"
      ],
      "text/plain": [
       "⎧            4 ___                                                            \n",
       "⎪            ╲╱ α                   ⎛π                                        \n",
       "⎪            ─────              for ⎜─ ≥ │arg(α)│ ∧ π > │2⋅arg(α) + 2⋅arg(x₀)│\n",
       "⎪            4 ___                  ⎝2                                        \n",
       "⎪            ╲╱ π                                                             \n",
       "⎪                                                                             \n",
       "⎪              1                                                              \n",
       "⎪─────────────────────────────                                              ot\n",
       "⎨        _____________________                                                \n",
       "⎪       ╱ ∞                                                                   \n",
       "⎪      ╱  ⌠                                                                   \n",
       "⎪     ╱   ⎮              2                                                    \n",
       "⎪    ╱    ⎮   -α⋅(x - x₀)                                                     \n",
       "⎪   ╱     ⎮  ℯ             dx                                                 \n",
       "⎪  ╱      ⌡                                                                   \n",
       "⎪╲╱       -∞                                                                  \n",
       "⎩                                                                             \n",
       "\n",
       "                                                   \n",
       "                                   ⎞   π           \n",
       " ∧ π > │2⋅arg(α) + 2⋅arg(x₀) + 2⋅π│⎟ ∨ ─ > │arg(α)│\n",
       "                                   ⎠   2           \n",
       "                                                   \n",
       "                                                   \n",
       "                                                   \n",
       "herwise                                            \n",
       "                                                   \n",
       "                                                   \n",
       "                                                   \n",
       "                                                   \n",
       "                                                   \n",
       "                                                   \n",
       "                                                   \n",
       "                                                   \n",
       "                                                   "
      ]
     },
     "execution_count": 9,
     "metadata": {},
     "output_type": "execute_result"
    }
   ],
   "source": [
    "ANS = normalize_constant(FG, x, -oo, oo)\n",
    "\n",
    "simplify(ANS)"
   ]
  },
  {
   "cell_type": "markdown",
   "metadata": {},
   "source": [
    "This is a bit simpler, and it is important to note that the bottom value in the piecewise function is the unsolved normalization constant. Therefore, we can use the top value as the correct constant. We can then multiply this once more by the original function to give the normalized wavefunction:"
   ]
  },
  {
   "cell_type": "code",
   "execution_count": 10,
   "metadata": {},
   "outputs": [
    {
     "data": {
      "image/png": "iVBORw0KGgoAAAANSUhEUgAAAG0AAAAlCAYAAABI82dXAAAABHNCSVQICAgIfAhkiAAABJBJREFUaIHt2muIVVUUwPGfVlqmpY1EMzqFmqKQOZaa+aAg0qzsRUUQZBgVRSVEHzKiAim/R0lPo6AsKqSiPvTQDBQiJ0Yzw5K0TMWCMooUI+3DOpfZ3rl3vHced2ac84fD2fuc/Tpr7b3XPnsvco57rsQ2/IB7y6RpxOfYik24IXm3E5vRgrXd1cgSDMVnGFDDOlPq8FEWXoCXsBqXFaV7E3OVl1/VnCiU1YghWaH1JdLVY0oWPhO7svSE0oZ2phEdZAnu7oF6U17ExUl8OJ5P4gPRrH35Vc0svJfEn8SdFeTbjLOz8E7dq7SpWIftQklvCyF8ibOSdOsxMwu/gIc6WF815VyNp5P4clyQxKdnZRSTyq9qbsQzSfwePHGMPNPwndZpaYfoTV/h1o42pAxD8D0mYKTooSswCD8Vpb0C7+MBvNKJOqsppwEbs/AyXF70/lEh45Ri+VXNTdoq7fF20teJKXRW8qwhu9fjW0yusg1bylwNuBYvJ2kPYUz2blOJspqF7RhUZT3VlJNyEnZjsbDpz+Gu5P1ajEjipeSHsFOVslvYswKjxXRXisHC0C7HhuT5nuy+VxjmC/FNFW04r513U/B1Fp4khLlDCGJwUdrpOEN806Eq6zlWOcNE5z6Md/Bh9nwwDmJldqUMEzbtjyRtKfmVbcQaHBCLjjm4GV8IBW8XijtF9IJSPW8AVmk7dZ6aNY6wa81ZfSmj8Tp+x368K4xxJSwVdnaAEFZz8u5HrR10lBh5Y8U03VRh+cWUK+c2zM/Cq5L0TfigTFnXaZVXOfmV5CKhrKUYn2VckzXskizNQmE3tuP+ovwt2X2O6GUtyTU5+7iWrLwtYkWXMhb7RO+alH3kOqGASmgUI20bbhdL/AezdysxW3S2Dcn3XC86RrW0V85SrSP1jSTPEuV/k1ZoXVmWk19J1ov/hAJX4T98UsFHdAUf46miZ/O1ThmdYYajl9fdySLMy8LpSFvjaJuVshEnVFvRKBzBpcmzedmzmaUydDHnZHX9g7+T64AYfV3BYrX5uT4Nr4of6IXZszoxBXYpBQWlP3FLxDRWC64RNuzcEldjO/n6JQXjPEzMo4ez+Olibt5do3b8KxYn+/BXjers84wVI20ZJopVTjP+FL29uxmB38SOy1SMEz+fz+q5/cI+wSNCcAfFsnu4WCHtrVH904Sx3i9GWwserlHdOTk5OTk5OT1AYWV2pEdbkdMvOZYbRG90gejXVOIG0RtdIDrMwJ5uQBcwQyhql9i7XC2O9lP2aj0I/VVsQo+sVQO7muNBaQ1CYQV+ERvg5ZgmTpELeY6II6DucIHoFqo5ue6tlNrmKrewqsNruCNJM1ucqNfjU2HfqjlNrzl9YaRtFQIudT2mtBvEHm2pxgUip5NMEApaINzgGsQ52yKcrDI3iM64QOR0gLniyKiwwpsolDguSVPODaKzLhA5HeQ+oYwCt4hTgH57ZNMXbNr5jvZbbBKjot/u4vQVpW1O4k1F8X5Hb1faQOGOlippDH7umebkVMJ4bRcdbwk3iPklc+Tk5OTk5OT0Gf4HZG8iNfagISQAAAAASUVORK5CYII=\n",
      "text/latex": [
       "$$\\frac{\\alpha^{0.25} e^{- \\frac{\\alpha \\left(x - x_{0}\\right)^{2}}{2}}}{\\pi^{0.25}}$$"
      ],
      "text/plain": [
       "                         2 \n",
       "              -α⋅(x - x₀)  \n",
       "              ─────────────\n",
       " 0.25  -0.25        2      \n",
       "α    ⋅π     ⋅ℯ             "
      ]
     },
     "execution_count": 10,
     "metadata": {},
     "output_type": "execute_result"
    }
   ],
   "source": [
    "(alpha**(1/4)/pi**(1/4))*FG"
   ]
  },
  {
   "cell_type": "code",
   "execution_count": null,
   "metadata": {},
   "outputs": [],
   "source": []
  }
 ],
 "metadata": {
  "kernelspec": {
   "display_name": "Python 3",
   "language": "python",
   "name": "python3"
  },
  "language_info": {
   "codemirror_mode": {
    "name": "ipython",
    "version": 3
   },
   "file_extension": ".py",
   "mimetype": "text/x-python",
   "name": "python",
   "nbconvert_exporter": "python",
   "pygments_lexer": "ipython3",
   "version": "3.7.1"
  }
 },
 "nbformat": 4,
 "nbformat_minor": 2
}
=======
{
 "cells": [
  {
   "cell_type": "code",
   "execution_count": 1,
   "metadata": {},
   "outputs": [],
   "source": [
    "from pysces import *"
   ]
  },
  {
   "cell_type": "markdown",
   "metadata": {},
   "source": [
    "The conjugate() function will give us the complex conjugate of the wavefunction\n",
    "\n",
    "The normalize_constant() function will give us the normalization constant, as defined in the general notation."
   ]
  },
  {
   "cell_type": "markdown",
   "metadata": {},
   "source": [
    "# Let's take some wavefunctions from Homework 2:\n"
   ]
  },
  {
   "cell_type": "code",
   "execution_count": 2,
   "metadata": {},
   "outputs": [
    {
     "data": {
      "image/png": "iVBORw0KGgoAAAANSUhEUgAAABgAAAAUCAYAAACXtf2DAAAABHNCSVQICAgIfAhkiAAAAWlJREFUOI3l1D1I1WEUx/HPVYNmqUnQxSUJHBoESRQHdWhKC1vcE4QGI5KQOygKTi6OQZOQL1CYijg1uOiUo7i4CClBi1KJNvyP8PDnXkXvbeosz8v5Ped7znN4nkKxWPQvrabC88/wC03J3iz2cL8agEXs4l2sRzGIPhxBXYWAC4zhC/Zj3h1z1QDABrYxgSfYSZ3lrqgfazjGb9mdjqG2hLYbrRHre96ZB9RiXna3zVjAHM4xifc5fSuWMYzPobkSMCtr0jQe4CVe4SG2MISW0DZhFTP4gHH0oqMcoC0y+YS3OEt8fyLIpa4e61hJsv4WlU+lgLTJIyjgBMV8qVGF0PyICvP2PL+RAnpifFHiYGoH1/hLAu7KXt5XdN4kwHV22YNCjPeqGTwFnMqa1IKnZbSPlX4HV1rag9eyJ7+EzQDWoAGPcAeNlQA20I43kW0XfuIwgB9vGjwPIPtTBm4TqJxV+l3/B4C/SbM/yN1etVgAAAAASUVORK5CYII=\n",
      "text/latex": [
       "$\\displaystyle e^{x}$"
      ],
      "text/plain": [
       " x\n",
       "ℯ "
      ]
     },
     "execution_count": 2,
     "metadata": {},
     "output_type": "execute_result"
    }
   ],
   "source": [
    "exp(x)"
   ]
  },
  {
   "cell_type": "markdown",
   "metadata": {},
   "source": [
    "Let's look at what the parameters of the normalize_constant() mean:\n",
    "\n",
    "    wavefunc: The WaveFunction/expression of interest\n",
    "    var: What the integral is taken with respect to\n",
    "    lower: The lower bound of the integral. If bounds are not listed, this is -oo\n",
    "    upper: The upper bound of the integral. If bounds are not listed, this is oo\n",
    "    \n",
    "This looks like:\n",
    "\n",
    "normalize_constant(wavefunc, var, lower, upper)\n",
    "\n",
    "Note that in sympy notation, two \"o\"s (oo) represents infinity. If a bound is not given, integrate from (-oo, oo)"
   ]
  },
  {
   "cell_type": "code",
   "execution_count": 3,
   "metadata": {
    "scrolled": true
   },
   "outputs": [
    {
     "data": {
      "image/png": "iVBORw0KGgoAAAANSUhEUgAAAB8AAAAbCAYAAACEP1QvAAAABHNCSVQICAgIfAhkiAAAAcNJREFUSInl1s+LTlEcx/HX/LCSjUnWFtSUf2CsnkmNX0XRLCywYKekLJSaepKFnZRiYWFlJw2NXwt6IkopRWKykJRJfuRHFGNYnKOux7nPvYen7sKnTvf07XzP+3u+53vOPQPtdltTGmyMjOHM8UvwoV/w3JWvw3oM9KPlwlu4kelTqhz4UGxfm4Cvwe1+gXPhG3GpKfgI3jQBX4knCfsI9uA8nuIL3uMWdlfNX/ecb8bFhH0SJ/FSOAXPsRxbcRob4pgf/wJfhdmEfTYGNoOFgv0Q7mJbDORcatLBrv6RGG1RS5Xv9XUhIwtd9jmciv1Wie9v8AmMCWkq6m+r/Fv8zpcNKKb9ihDxtRjUr9WM4WwmeBg7C/Mm1V2N9/FZuFBgEb77M61VOorVQsau1oXDBWyJ/RY6meB9OIDH2NFrYAo+XYBP6BF5QntxHI8wjre58A6WYRSL8akmeD9O4GEEz1U5pODzwl5N4UFN8EEcE2pmHK/qOJVdf9PYLn2rdWtKKLB7WIvXdcCU33CXcQcvKvx34bBwIm4KxdatZziTA/+ITRVgWBG/Q8Kep9Qpg/f667yrAW+rfqu1ypwbfTr/v/CftJpV661OBpgAAAAASUVORK5CYII=\n",
      "text/latex": [
       "$\\displaystyle \\sqrt{2}$"
      ],
      "text/plain": [
       "√2"
      ]
     },
     "execution_count": 3,
     "metadata": {},
     "output_type": "execute_result"
    }
   ],
   "source": [
    "normalize_constant(exp(x), x, -oo, 0)"
   ]
  },
  {
   "cell_type": "code",
   "execution_count": 4,
   "metadata": {},
   "outputs": [
    {
     "data": {
      "image/png": "iVBORw0KGgoAAAANSUhEUgAAAEQAAAAdCAYAAAATksqNAAAABHNCSVQICAgIfAhkiAAABAJJREFUWIXt2X+I33McB/DHftAwZAuFhPxaVs6K2srcyBnzY3cMK3Z/UFokkpS6ukRdIZEiWaHTZuGM5iY1Zn7kx9b8jEWWxAhzjNnszB+vz7d97nOfXzd37v64Z737fO/9eX3er9fn+X69nu/Xp5vQ2dlpHHsxcbQDGGvIEjIR7+PZAvuDsWeYx5hClpCl+KrE/gLMx4RhHGMKaUKOQBseK7FvxmsjGdBoI03IvejAPwW2k5Kxa6SDSqGqhEfEIcwV9fx2ie2civsjgaoSHnY0CJmD87EFK3AhlmVsL8LL/1tk9Up4PnYaRpFvENKFo3EcrkYvrss4n46f9/39hoyqEoYluNUwinzdPuQkfFFwbzquRw++xA704U1Bal0fR6IfD6lXwoeITF5Rc/1amJwz93oy0rgULxWssQiP4HtxAn0jXq4Nj4ugF6nuOS4T5PUYWMJTRP+zzMCsvRJr8UvFukNCHiF5OBmbC+5tFoStNjC978R7uFyQ81yFj1ZRkm8IYruS+WbcZHAJt4uyGlZMzPy+W+xoGtOUa8dakT3ZWt+KR5PfzRVxHIpzk3X6K2zhBJwitC4PC9QX0qb0g+kMacFsHJVx9F9Ol7+T6+4KuwXYH89n5g8S2nVFZn4JlqfWz6JPlPFSfGpgH3MqrhIa9yo+Sj+YzpA1uA0XZ+Zn27f+Y3ISeGPtMrTijyRAokSX40fcl7GdkKz7ZMl6jZeFF9CZGhuT+Sdwl0xmZ0+ATfhTiBrsJ1K47OgrQhdmiux6pcRuiugnevFXMvcb7scGLMTUlP3ZSYwblaNRCpsy87MK5pF/JL4oFJ+o/XUVjvNws8i2z3FthW2LeOGe1NxWfIBuHChEuYF25dnRQIOQDzPzs0QJf5L3UB4hq+wlpEX57ubhRjyIzzBP9bHYKr6PVufcWyk60WuSvw8Q5DxdI44mbBe9UQNTcaLYqJ15D+URsg6HY4YQte01nDdwCx4W7M8TO12GSbhEnFR9Ofd/FUSdJ8S+De/iu4p1D8OxQjDT/c8ZQoNyy4V8QnaLuu/AxxWO07gDDyTO5glBrMJc0en2lNh0J3EuVi2mDZSVC0MkhCibxYq70yw6hIhuELv5U83n2oRgryqxWY1tohTPEqdGFYoEdWZyLdzook61F+/g2xrO28Xx1Y/1QlCz2CKOuSwWiiP9h5L1dwktuUG07ztqxFSUIdOS62lC4wa9XxEhv4tmqQ6OT66ThIbkYZ3BhJyJY0SZVaFbEPJUzZhOF5mXzYSVOAf3iHizPU7pt8y2ms47kzFUtCbXMv1o4C0R/PqaazcVzD+TjELU/bgbCbSKlP66hu0e3D6y4QRGk5AZo+i7EOP/qMpgnJAMxgnJ4F8joQoNC8TcAAAAAABJRU5ErkJggg==\n",
      "text/latex": [
       "$\\displaystyle \\frac{\\sqrt[4]{2}}{\\sqrt[4]{\\pi}}$"
      ],
      "text/plain": [
       "4 ___\n",
       "╲╱ 2 \n",
       "─────\n",
       "4 ___\n",
       "╲╱ π "
      ]
     },
     "execution_count": 4,
     "metadata": {},
     "output_type": "execute_result"
    }
   ],
   "source": [
    "normalize_constant( exp(-x*x), x, -oo, +oo)"
   ]
  },
  {
   "cell_type": "markdown",
   "metadata": {},
   "source": [
    "Again, this is the normalization constant. To get the normalized wavefunction, simply multiply the calculated normalization constant by the original wavefunction:"
   ]
  },
  {
   "cell_type": "code",
   "execution_count": 5,
   "metadata": {},
   "outputs": [
    {
     "data": {
      "image/png": "iVBORw0KGgoAAAANSUhEUgAAADUAAAAbCAYAAADcQMc2AAAABHNCSVQICAgIfAhkiAAAAvZJREFUWIXt2E+oVVUUx/HPe09BiCaaCAZJgxJFceBAFKOXgWWKomLYIB2XKIKKJAmvUBQahCMdBBU08k/wLLVEipeRYEmPFPFfEBIUpkF/MErTBmubx9M+757zuJdQ/MJhn7v3Onuv31l7r7O4XX19fe41uv9vBzrBiIb2D+LXNq7f1ca5/qVppJ7Bs8KZdlwdoamoXnzaAT/aShNRPen6q0O+tI0mombhi0450k6aiHoOBzvlSAOW4U9MKPTtwHmMpZmoMbjSNteGz16cxKvp93osFwnsJ+qn9MdwNtM/BosxH1PxsDhzJ/F2um4Mz/dKbmITDuDbdD8n3aO+qIX4INO/DDvxg8iKFzEOS/AW5iWbm8Nyv5rD+BJbsABfFQfrinoc5zL954TgA+6MyCYcx1IhcF8jl1szB9PE8blUHuwu3W8Rb7fIaNVn6RMRwfIW+xG70n1vDSeX4hAui+17XryYnoztNLyPl7EfW8sGxUjNxUyMTwvcYrhZ71pqrw9h04P3xEG/gD0is81Lzk7EyoL9hOTLG3gXX2MQT+DoLaNipD7COrFHi/0zNf8+jcCKwrxV7EiCtmMSXsJaTElrrsDkZDs6zfWh29H5RmTDbeXFiwziqvjQfo6R+FvzDLY9OXYQH1fYzBBbqB+vlMauiUjMSnan8bMQXub5ckcuUezHIiGqFwMtBJRZIyJ+Bi8OYbdaFLVX0ZcZn5LaxoVvTlS/SNMbxDl7rcF8q8SWOo2nxdutYm5qX2gx58UG6yMvakCUG5PwAH6vOddavIlTQtB/Um2BUWmNz/BkXWfrkiuTrouzsFlUBnXYKAQN4ilDC+L2lnqo5vyNqKr9+sW2yFURZTaLxHBCROhyjWf+EJlrsvg455gt/51qSVVFcQjH8H2L51fidZEhj4okUeY7vJPp3yAqkX04IkR2i/pxusi8j7RYP0uVqN9EkdqKR1PbI85UjgF5UYdFyt4ootKLX0QdeQS7a6yfpev+X2R3CfdF3S38A8t6lQ1glClcAAAAAElFTkSuQmCC\n",
      "text/latex": [
       "$\\displaystyle \\sqrt{2} e^{x}$"
      ],
      "text/plain": [
       "    x\n",
       "√2⋅ℯ "
      ]
     },
     "execution_count": 5,
     "metadata": {},
     "output_type": "execute_result"
    }
   ],
   "source": [
    "normalize_constant(exp(x), x, -oo, 0)*(exp(x))"
   ]
  },
  {
   "cell_type": "markdown",
   "metadata": {},
   "source": [
    "Let's try another example over the integral (0,1)\n",
    "\n",
    "This time let's define the function as psi for simplicity:"
   ]
  },
  {
   "cell_type": "code",
   "execution_count": 6,
   "metadata": {},
   "outputs": [],
   "source": [
    "psi = a*x*(x-1)"
   ]
  },
  {
   "cell_type": "code",
   "execution_count": 7,
   "metadata": {
    "scrolled": true
   },
   "outputs": [
    {
     "data": {
      "image/png": "iVBORw0KGgoAAAANSUhEUgAAAF4AAAAvCAYAAABqrH0KAAAABHNCSVQICAgIfAhkiAAABWlJREFUeJzt23mMXXMUwPHPKDq1hqogisS+VC0Vaq1SWxOkQRGE0IjaqhGRamjEGonE8kctaYoQkQat6PYHUpRqbbXWToW0aqm9tdQf5770vjvvvfum82beHTPf5Gbe/d3z+73zzj2/c373/s60TJo0SS9dz/p1yKzpZB1aOnn8QrJeHTKXC+N01tEjyTN8H/zVFYr0NPIMfxjmd4UiPY08ww/CO12hSAfZAsuwc7MVyTAN4ytdyDN8NrFeisX4OTlewcgK/cbic/yJ13FEO5RdFyZgNj7t5O9JcySewTfCTqdVkLkRE7F59kItw++GJZm2r3EtDsQQPIensW9KZjTuwi3YHy9jFnbI/SnrxkYYgwc7afxqbIy3cVkNmcXCAc/JXkgb/jzl3nsU5mXkp2MmPsZHuA6/YGhKZjym4gF8gCvwLS6potz1iYK/4jtMQWty7XSswo4p+buS7x+QnI/Ev3gpJVNPv44yS3jzkzlyM3B2trFk+L5YnhHYQO0VTR+chU2sTcAbitkwNyM7F4dWGKMlGecS7J2MdzzGJdeniRwzMTm/GmfiBHGT4HARztJhsZ5+XcUCHIR+6cbSA9QqESMnJm2bY0WVgQaJ2N4qvP1UaxPwVsKQyzJ9luHYCmOtwQ2p8y/xLPZIXZ+QtH2afB6uPJbvJOJsdty8fl3FN8KJt0t/fzbGvyiSxghtvbbEEuyHQzAZD2OfjEw2KbdUaIOBuFvcuB9EuLkAS1Myc7EQN+EMLMqM0SqSeJa8fiUmJbrVOoZV6VsPfyR/K3p8ieliun+In6oMtBqfJJ8XiWk0DheJWfIPtsn02VrbWdBfGGaeCAVfi1i9UCStEsMxWDjJ8gr6rBDLySx5/Urci8drXIevcq7XYsvkb1mIy3r8AuHJq9ox8HrWJsPVIt6OyMiM0PZBbGTSbzTm4D0cLFYLbyYyg0XyGiuS1M0Vvv9N7JVpq6dfiRXC0Wodv9fon8cgEW7KHC/r8WvECuOFKoPcJuLmUmwqkvEw5auhO/EIXhNLyYtFfJucGet7kZhLOeJEEYtX4jOxIpmJO/CQMPBb4pngxdQ4c3C7yC8r2tGvo2yCXVLnO4kQ/IPyGXKkyJ9ltFR4LdxfGKUSU3G0CCUrxU26Q/z4NGNxDbbFu7hK26Vpi5jm54oY/biYMUMwSty0eeLGlXhC3MTDM2PNx2PJ0Z5+HWEYnq/Q/hDOTz73E55+HF5NC1UyfHfkeNyDPUWOKQqX4WRh+DLqeS3cHZgjZs/2zVYkw2rxWr0N9WyEdBfubrYCFbi/2oX/i8d3O3oN3yR6Dd8kSjG+sze0e8lQMnyP3XRuFr2hpkkU3fCt4gkx7+3huhxNpejr+GPF7tX/LhQW3eMPwBvNVqIzKLLhS5snTQ8LnUGRDT9E9V2jWgwUr7XfFxsqoxqoU8MosuGPFuUj7eVvXCk2R0aI6oKNGqhXQyiy4Vu1byesxLfWbh0ux49ik6RQFNXwO+KLBowzROzwL80T7GqKYPjNxEZ5mpPE9l1H6C8qIC5UwARdBMOfJkow+qbaBqhe11MPffEUblXQauciGH6KqIE5JjnfVOznVqNWyR+xDJ0qEvMjDda1YRTB8EQ9zynJ5xO13TwvkVfyR9T0jxbVC28lx6DGq9wxivLKYLaoVmjB7qIqoBJ5JX9E8WpRHKoqRVHwN/HAM1Ssw6tRT8lft6AohifCze2iLqYSpZK/bUTJ3xGifHCV8pK/bkGRDD9DhJlqhq+n5K/bUJQYT1RcjVG9ICmv5K9bUSSPJ8JNNWbiPlEiNx+74lGxaincA1IeRfL4PNaIf367tNmKNIKieXyPodfwTaLX8E3iP6AEVo4/r0zXAAAAAElFTkSuQmCC\n",
      "text/latex": [
       "$\\displaystyle \\frac{\\sqrt{30} a x \\left(x - 1\\right)}{\\sqrt{a^{2}}}$"
      ],
      "text/plain": [
       "√30⋅a⋅x⋅(x - 1)\n",
       "───────────────\n",
       "       ____    \n",
       "      ╱  2     \n",
       "    ╲╱  a      "
      ]
     },
     "execution_count": 7,
     "metadata": {},
     "output_type": "execute_result"
    }
   ],
   "source": [
    "normalize_constant(psi, x, 0, 1)*(psi)"
   ]
  },
  {
   "cell_type": "code",
   "execution_count": 8,
   "metadata": {},
   "outputs": [
    {
     "data": {
      "image/png": "iVBORw0KGgoAAAANSUhEUgAAAD4AAAAdCAYAAADy+d/cAAAABHNCSVQICAgIfAhkiAAAAzJJREFUWIXt2F2IFlUYB/Df7loE2QdZKZIXCUWiIEQRVvhRsFnRxxpdeKEG6k1BFAliIC1SoXSRRhdRXYRSF0EtW6jbl7EpRUFUFlFiVNTF2pdYWZK74sUzi8PbvDPjzDvIon8YznA+/uf5n3Oe5zwzXf39/U5HdJ9qA04VJjXMfx7+7DBnVydImt7xW7BYGNuppyNoWvhCvN/wHJXQpPCe5PmvwTkqo0nh1+PDBvlroUnht2FHg/y10KTwKfi9Qf5aSAufglUYwH78i0PYg5VObpGuwLc57ZvwHn5K5vkDn+GxxI4ymIoxPFOFNy3mXryA6/AxNuM1zMGLeFX56+ROvJnT/jDOxTvYgpcxin7sxYwSc9yV2D9QhTedwOxLDN6OY6n6R/EJ7sESsRhFuDLha4fzcSSj/olkvnW4v2COPuFKH1ThTe/4LrFLx1oGjeC55H1hqr4bj+PWlv4XKfbtLOOIU0W4Sh4uwE3C3rEqvGX99mhSjqbqejFPuEgadaL5HUm5t6Df7Tgbr1flLZOrT8Ly5H0oVT8kTsPbYgHHT8o8vFLSoDWYLHbwGtyYGLexYFwfDgtfrsRbRvhGEeB24K2Wts/xj0hW9uAscfRa3aUd1ojoPI4h3Idfc8acI/L/ndof7ULeoqP+IB7BN1jWps8bIsISMWC4gDONaeKmmCYC50xx/VydM6ZX7OZATp9C3jzhD4gr4WssEndiFgadEN7r/6eiDA4IIb3ivt2a07dP5P/b6/C2E/4QnsVXQvRIDvkwLsEscYf+XcKgdvhRLPRsXJzR3iMC1S6RXFXmzRK+Fk8L/12EXwpIR4X/r8eXJ2FMO0xPyrGMtvli5/KOeSneVuHrRTD7FDfjt5Kkg1gqP1sbx1XC91rRLRKNS8VX3cGMPktE4Bysy5uO6iuwQazIbhHYWvEDXsqo34mP8HNGWysW4ymRcX0nkp2pWCCC0AhWtxl7d2L8gbq8aeGXJ2WP8PEsDMsW/pdIKsrgXTyPGzAXF4o7eR+2iY+OrEB6LS4Tblibt2sC/V5+UuTaM/F9XbKJ9Hu5D1/ogGia/73cSczqJNlE2vGO4ozw0w3HAVp+wy2/0Lj1AAAAAElFTkSuQmCC\n",
      "text/latex": [
       "$\\displaystyle \\frac{2 \\sqrt{3}}{3}$"
      ],
      "text/plain": [
       "2⋅√3\n",
       "────\n",
       " 3  "
      ]
     },
     "execution_count": 8,
     "metadata": {},
     "output_type": "execute_result"
    }
   ],
   "source": [
    "normalize_constant( exp(-x)*x*x, x, 0, +oo )"
   ]
  },
  {
   "cell_type": "code",
   "execution_count": 9,
   "metadata": {},
   "outputs": [
    {
     "data": {
      "image/png": "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\n",
      "text/latex": [
       "$\\displaystyle \\frac{4 \\cdot 2^{\\frac{3}{4}} \\sqrt{3}}{3 \\sqrt[4]{\\pi}}$"
      ],
      "text/plain": [
       "   3/4   \n",
       "4⋅2   ⋅√3\n",
       "─────────\n",
       "   4 ___ \n",
       " 3⋅╲╱ π  "
      ]
     },
     "execution_count": 9,
     "metadata": {},
     "output_type": "execute_result"
    }
   ],
   "source": [
    "normalize_constant( exp(-x*x)*x*x, x, 0, +oo )"
   ]
  },
  {
   "cell_type": "markdown",
   "metadata": {},
   "source": [
    "The same can be done with problems involving complex numbers:"
   ]
  },
  {
   "cell_type": "code",
   "execution_count": 10,
   "metadata": {},
   "outputs": [
    {
     "data": {
      "image/png": "iVBORw0KGgoAAAANSUhEUgAAAD8AAAAdCAYAAAAdO7TiAAAABHNCSVQICAgIfAhkiAAAA4JJREFUWIXt2FuIVlUUB/DfzGQIFkIXgop8CJURaexGKFbSw5TZbexCvZTQQxQEQUkXKiYwCnoIi6jXoqeujFZjFoUW9WDRpPSQFkEEUVnRxemiaQ9rH+b7Tt/5zjnzHWYQ+8Nhn3P2f6+1197rss/pGx0ddaSif7YnMJs4arYnUBPH4temhB1uO38xLkFfE1cTxj+FlxqQUwWr8G5Twppw+/uxvwE5ZRhI199NCWzC+J8bkFEFK/BBkwJ7dftTcQiL0/O1+AsLWjgbsQcn9qjrUrzRo4w29Gr8MkwK44jY3yVCAe7C9SJJ/dCjruPxY48y2tCr8UPYiYPp+RDuwzrcgwexBl92GHsS/sETFfQsxOclnHeS/vMryEPvMb8ME7l3W7EDG3AZPioYe6VY/Fcr6LkCm7v09+EssQmfVJCHZnY+b/xF6X0/vu8ydkS48fYKehZhd5f+hZgvvOP3CvJQbPzVGMdeUVr2CHceaOHMw+najR/CK7gNm/Bwgfz5YpE2C9fP5rIBq3Pc45TH+tmp/biE14a82w/geZGkvsCLInuvFoYsxk2Je0Zqd6V2gcjGj+FZ4X4TIgbfy+lZg6PFQmUYxnKcLBY+Q5Usf05qi0KsI/I7v1EY/igGcSvuwFJRY2/EksQdEq44KXZnC14ztds7RfZ/pIPeEezDWy3vtuBOkSda57VceX3v2fjzhLuO4V4caOnbL3Yz48EzYoHgp3R/S07+dViZezdXlL5x/JnrmxCLuSI9zxFhcVAx+nFm4uXzT1e0uv3tImtOYrQDd2lq++oo6IBhHKM4y28SleB9cZbfViJvkfja+0x4U2W0Gj+c2htKxnxdR0EHjIgk+npB/xiexvo0p4dK5E3L5Zkyfq44fm7HhXWF1MAALhcHkl8KONvSXAZFRSkrXZnxtTI9UzGfufIJdQXUxAXimNrtYHNAZPcHTFWSbsjKXO2dz4z/Q2TnJVhbwF2pvc5PB2tF8hor4Y2J8Ot2qqOHZEd7zK8Xcfgy3haL0Y9TxOrOwWl1FeRwlShb35XwxvEhvinhZaGxD08WcPaK74z/oNX4raLE3C12eZWIy2/FYrxQMpEynCs+gR+vwP1NHITKkLn8PNxcwHmzaHD+hLcD11RQOh2MpLbKhwzVfpI8l65pYSZ/YI7gU3w1gzq7YiZ/XQ+WU2YWh9uv60bxv/FHKv4F1HqnQ0Os6XAAAAAASUVORK5CYII=\n",
      "text/latex": [
       "$\\displaystyle \\frac{e^{i x}}{\\sqrt{L}}$"
      ],
      "text/plain": [
       " ⅈ⋅x\n",
       "ℯ   \n",
       "────\n",
       " √L "
      ]
     },
     "execution_count": 10,
     "metadata": {},
     "output_type": "execute_result"
    }
   ],
   "source": [
    "psi = exp(I*x)\n",
    "\n",
    "normalize_constant((psi), x, 0, L).doit()*(psi)"
   ]
  },
  {
   "cell_type": "markdown",
   "metadata": {},
   "source": [
    "Let's look at the fixed gaussian wavefunction, which is called using the fixed_gaussian() function.\n",
    "\n",
    "This function has three variables:\n",
    "\n",
    "    alpha:alpha parameter of the gaussian\n",
    "    x_0: x_0 parameter of the gaussian\n",
    "    p: p parameter of the gaussian\n",
    "\n",
    "And can be written as:\n",
    "\n",
    "fixed_gaussian(alpha, x_0, p)"
   ]
  },
  {
   "cell_type": "code",
   "execution_count": 11,
   "metadata": {
    "scrolled": true
   },
   "outputs": [
    {
     "data": {
      "text/latex": [
       "$\\displaystyle \\begin{cases} \\frac{\\sqrt[4]{\\alpha}}{\\sqrt[4]{\\pi}} & \\text{for}\\: \\left(\\left|{\\arg{\\left(\\alpha \\right)}}\\right| \\leq \\frac{\\pi}{2} \\wedge \\left|{2 \\arg{\\left(\\alpha \\right)} + 2 \\arg{\\left(x_{0} \\right)}}\\right| < \\pi \\wedge \\left|{2 \\arg{\\left(\\alpha \\right)} + 2 \\arg{\\left(x_{0} \\right)} + 2 \\pi}\\right| < \\pi\\right) \\vee \\left|{\\arg{\\left(\\alpha \\right)}}\\right| < \\frac{\\pi}{2} \\\\\\frac{1}{\\sqrt{\\int\\limits_{-\\infty}^{\\infty} e^{- \\alpha \\left(x - x_{0}\\right)^{2}}\\, dx}} & \\text{otherwise} \\end{cases}$"
      ],
      "text/plain": [
       "⎧            4 ___                                                            \n",
       "⎪            ╲╱ α                   ⎛           π                             \n",
       "⎪            ─────              for ⎜│arg(α)│ ≤ ─ ∧ │2⋅arg(α) + 2⋅arg(x₀)│ < π\n",
       "⎪            4 ___                  ⎝           2                             \n",
       "⎪            ╲╱ π                                                             \n",
       "⎪                                                                             \n",
       "⎪              1                                                              \n",
       "⎪─────────────────────────────                                              ot\n",
       "⎨        _____________________                                                \n",
       "⎪       ╱ ∞                                                                   \n",
       "⎪      ╱  ⌠                                                                   \n",
       "⎪     ╱   ⎮              2                                                    \n",
       "⎪    ╱    ⎮   -α⋅(x - x₀)                                                     \n",
       "⎪   ╱     ⎮  ℯ             dx                                                 \n",
       "⎪  ╱      ⌡                                                                   \n",
       "⎪╲╱       -∞                                                                  \n",
       "⎩                                                                             \n",
       "\n",
       "                                                   \n",
       "                                   ⎞              π\n",
       " ∧ │2⋅arg(α) + 2⋅arg(x₀) + 2⋅π│ < π⎟ ∨ │arg(α)│ < ─\n",
       "                                   ⎠              2\n",
       "                                                   \n",
       "                                                   \n",
       "                                                   \n",
       "herwise                                            \n",
       "                                                   \n",
       "                                                   \n",
       "                                                   \n",
       "                                                   \n",
       "                                                   \n",
       "                                                   \n",
       "                                                   \n",
       "                                                   \n",
       "                                                   "
      ]
     },
     "execution_count": 11,
     "metadata": {},
     "output_type": "execute_result"
    }
   ],
   "source": [
    "alpha, x_0, p = symbols(\"alpha, x_0, p\")\n",
    "\n",
    "FG = fixed_gaussian(alpha, x_0, p)\n",
    "\n",
    "normalize_constant(FG, x, -oo, oo)"
   ]
  },
  {
   "cell_type": "markdown",
   "metadata": {},
   "source": [
    "The above looks quite complicated, and so the \"simplify()\" function can be used:"
   ]
  },
  {
   "cell_type": "code",
   "execution_count": 9,
   "metadata": {},
   "outputs": [
    {
     "data": {
      "text/latex": [
       "$$\\begin{cases} \\frac{\\sqrt[4]{\\alpha}}{\\sqrt[4]{\\pi}} & \\text{for}\\: \\left(\\frac{\\pi}{2} \\geq \\left|{\\arg{\\left (\\alpha \\right )}}\\right| \\wedge \\pi > \\left|{2 \\arg{\\left (\\alpha \\right )} + 2 \\arg{\\left (x_{0} \\right )}}\\right| \\wedge \\pi > \\left|{2 \\arg{\\left (\\alpha \\right )} + 2 \\arg{\\left (x_{0} \\right )} + 2 \\pi}\\right|\\right) \\vee \\frac{\\pi}{2} > \\left|{\\arg{\\left (\\alpha \\right )}}\\right| \\\\\\frac{1}{\\sqrt{\\int_{-\\infty}^{\\infty} e^{- \\alpha \\left(x - x_{0}\\right)^{2}}\\, dx}} & \\text{otherwise} \\end{cases}$$"
      ],
      "text/plain": [
       "⎧            4 ___                                                            \n",
       "⎪            ╲╱ α                   ⎛π                                        \n",
       "⎪            ─────              for ⎜─ ≥ │arg(α)│ ∧ π > │2⋅arg(α) + 2⋅arg(x₀)│\n",
       "⎪            4 ___                  ⎝2                                        \n",
       "⎪            ╲╱ π                                                             \n",
       "⎪                                                                             \n",
       "⎪              1                                                              \n",
       "⎪─────────────────────────────                                              ot\n",
       "⎨        _____________________                                                \n",
       "⎪       ╱ ∞                                                                   \n",
       "⎪      ╱  ⌠                                                                   \n",
       "⎪     ╱   ⎮              2                                                    \n",
       "⎪    ╱    ⎮   -α⋅(x - x₀)                                                     \n",
       "⎪   ╱     ⎮  ℯ             dx                                                 \n",
       "⎪  ╱      ⌡                                                                   \n",
       "⎪╲╱       -∞                                                                  \n",
       "⎩                                                                             \n",
       "\n",
       "                                                   \n",
       "                                   ⎞   π           \n",
       " ∧ π > │2⋅arg(α) + 2⋅arg(x₀) + 2⋅π│⎟ ∨ ─ > │arg(α)│\n",
       "                                   ⎠   2           \n",
       "                                                   \n",
       "                                                   \n",
       "                                                   \n",
       "herwise                                            \n",
       "                                                   \n",
       "                                                   \n",
       "                                                   \n",
       "                                                   \n",
       "                                                   \n",
       "                                                   \n",
       "                                                   \n",
       "                                                   \n",
       "                                                   "
      ]
     },
     "execution_count": 9,
     "metadata": {},
     "output_type": "execute_result"
    }
   ],
   "source": [
    "ANS = normalize_constant(FG, x, -oo, oo)\n",
    "\n",
    "simplify(ANS)"
   ]
  },
  {
   "cell_type": "markdown",
   "metadata": {},
   "source": [
    "This is a bit simpler, and it is important to note that the bottom value in the piecewise function is the unsolved normalization constant. Therefore, we can use the top value as the correct constant. We can then multiply this once more by the original function to give the normalized wavefunction:"
   ]
  },
  {
   "cell_type": "code",
   "execution_count": 10,
   "metadata": {},
   "outputs": [
    {
     "data": {
      "image/png": "iVBORw0KGgoAAAANSUhEUgAAAG0AAAAlCAYAAABI82dXAAAABHNCSVQICAgIfAhkiAAABJBJREFUaIHt2muIVVUUwPGfVlqmpY1EMzqFmqKQOZaa+aAg0qzsRUUQZBgVRSVEHzKiAim/R0lPo6AsKqSiPvTQDBQiJ0Yzw5K0TMWCMooUI+3DOpfZ3rl3vHced2ac84fD2fuc/Tpr7b3XPnsvco57rsQ2/IB7y6RpxOfYik24IXm3E5vRgrXd1cgSDMVnGFDDOlPq8FEWXoCXsBqXFaV7E3OVl1/VnCiU1YghWaH1JdLVY0oWPhO7svSE0oZ2phEdZAnu7oF6U17ExUl8OJ5P4gPRrH35Vc0svJfEn8SdFeTbjLOz8E7dq7SpWIftQklvCyF8ibOSdOsxMwu/gIc6WF815VyNp5P4clyQxKdnZRSTyq9qbsQzSfwePHGMPNPwndZpaYfoTV/h1o42pAxD8D0mYKTooSswCD8Vpb0C7+MBvNKJOqsppwEbs/AyXF70/lEh45Ri+VXNTdoq7fF20teJKXRW8qwhu9fjW0yusg1bylwNuBYvJ2kPYUz2blOJspqF7RhUZT3VlJNyEnZjsbDpz+Gu5P1ajEjipeSHsFOVslvYswKjxXRXisHC0C7HhuT5nuy+VxjmC/FNFW04r513U/B1Fp4khLlDCGJwUdrpOEN806Eq6zlWOcNE5z6Md/Bh9nwwDmJldqUMEzbtjyRtKfmVbcQaHBCLjjm4GV8IBW8XijtF9IJSPW8AVmk7dZ6aNY6wa81ZfSmj8Tp+x368K4xxJSwVdnaAEFZz8u5HrR10lBh5Y8U03VRh+cWUK+c2zM/Cq5L0TfigTFnXaZVXOfmV5CKhrKUYn2VckzXskizNQmE3tuP+ovwt2X2O6GUtyTU5+7iWrLwtYkWXMhb7RO+alH3kOqGASmgUI20bbhdL/AezdysxW3S2Dcn3XC86RrW0V85SrSP1jSTPEuV/k1ZoXVmWk19J1ov/hAJX4T98UsFHdAUf46miZ/O1ThmdYYajl9fdySLMy8LpSFvjaJuVshEnVFvRKBzBpcmzedmzmaUydDHnZHX9g7+T64AYfV3BYrX5uT4Nr4of6IXZszoxBXYpBQWlP3FLxDRWC64RNuzcEldjO/n6JQXjPEzMo4ez+Olibt5do3b8KxYn+/BXjers84wVI20ZJopVTjP+FL29uxmB38SOy1SMEz+fz+q5/cI+wSNCcAfFsnu4WCHtrVH904Sx3i9GWwserlHdOTk5OTk5OT1AYWV2pEdbkdMvOZYbRG90gejXVOIG0RtdIDrMwJ5uQBcwQyhql9i7XC2O9lP2aj0I/VVsQo+sVQO7muNBaQ1CYQV+ERvg5ZgmTpELeY6II6DucIHoFqo5ue6tlNrmKrewqsNruCNJM1ucqNfjU2HfqjlNrzl9YaRtFQIudT2mtBvEHm2pxgUip5NMEApaINzgGsQ52yKcrDI3iM64QOR0gLniyKiwwpsolDguSVPODaKzLhA5HeQ+oYwCt4hTgH57ZNMXbNr5jvZbbBKjot/u4vQVpW1O4k1F8X5Hb1faQOGOlippDH7umebkVMJ4bRcdbwk3iPklc+Tk5OTk5OT0Gf4HZG8iNfagISQAAAAASUVORK5CYII=\n",
      "text/latex": [
       "$$\\frac{\\alpha^{0.25} e^{- \\frac{\\alpha \\left(x - x_{0}\\right)^{2}}{2}}}{\\pi^{0.25}}$$"
      ],
      "text/plain": [
       "                         2 \n",
       "              -α⋅(x - x₀)  \n",
       "              ─────────────\n",
       " 0.25  -0.25        2      \n",
       "α    ⋅π     ⋅ℯ             "
      ]
     },
     "execution_count": 10,
     "metadata": {},
     "output_type": "execute_result"
    }
   ],
   "source": [
    "(alpha**(1/4)/pi**(1/4))*FG"
   ]
  },
  {
   "cell_type": "code",
   "execution_count": 27,
   "metadata": {},
   "outputs": [
    {
     "data": {
      "text/latex": [
       "$\\displaystyle \\begin{cases} \\frac{1.0}{\\sqrt[4]{\\pi} \\sqrt{\\frac{1}{a}} \\sqrt[4]{\\operatorname{polar\\_lift}{\\left(a \\right)}}} & \\text{for}\\: \\left|{\\arg{\\left(a \\right)}}\\right| \\leq \\frac{\\pi}{2} \\\\\\frac{1}{\\sqrt{\\int\\limits_{-\\infty}^{\\infty} e^{- 1.0 a x^{2}}\\, dx}} & \\text{otherwise} \\end{cases}$"
      ],
      "text/plain": [
       "⎧              1.0                               π\n",
       "⎪───────────────────────────────  for │arg(a)│ ≤ ─\n",
       "⎪          ___                                   2\n",
       "⎪4 ___    ╱ 1  4 _______________                  \n",
       "⎪╲╱ π ⋅  ╱  ─ ⋅╲╱ polar_lift(a)                   \n",
       "⎪      ╲╱   a                                     \n",
       "⎪                                                 \n",
       "⎪              1                                  \n",
       "⎨  ──────────────────────────        otherwise    \n",
       "⎪          __________________                     \n",
       "⎪         ╱ ∞                                     \n",
       "⎪        ╱  ⌠                                     \n",
       "⎪       ╱   ⎮           2                         \n",
       "⎪      ╱    ⎮   -1.0⋅a⋅x                          \n",
       "⎪     ╱     ⎮  ℯ          dx                      \n",
       "⎪    ╱      ⌡                                     \n",
       "⎩  ╲╱       -∞                                    "
      ]
     },
     "execution_count": 27,
     "metadata": {},
     "output_type": "execute_result"
    }
   ],
   "source": [
    "a, x0 = symbols(\"a, x0\")\n",
    "\n",
    "simplify( normalize_constant( exp( -0.5*a*x*x ), x, -oo, +oo) )"
   ]
  },
  {
   "cell_type": "code",
   "execution_count": null,
   "metadata": {},
   "outputs": [],
   "source": []
  }
 ],
 "metadata": {
  "kernelspec": {
   "display_name": "Python 3",
   "language": "python",
   "name": "python3"
  },
  "language_info": {
   "codemirror_mode": {
    "name": "ipython",
    "version": 3
   },
   "file_extension": ".py",
   "mimetype": "text/x-python",
   "name": "python",
   "nbconvert_exporter": "python",
   "pygments_lexer": "ipython3",
   "version": "3.7.6"
  }
 },
 "nbformat": 4,
 "nbformat_minor": 2
}
>>>>>>> a4f82647d44132ad313b967d421082d2b21c9708
