{
 "cells": [
  {
   "cell_type": "markdown",
   "id": "municipal-drink",
   "metadata": {},
   "source": [
    "## The following code is for deriving the value of the p operator (to higher powers) using natural variables"
   ]
  },
  {
   "cell_type": "code",
   "execution_count": 1,
   "id": "returning-omega",
   "metadata": {},
   "outputs": [],
   "source": [
    "from pysces import *"
   ]
  },
  {
   "cell_type": "markdown",
   "id": "absent-facing",
   "metadata": {},
   "source": [
    "#### For this example, we are calculating the following:\n",
    "\n",
    "#### $$ \\frac{d<p>}{dt} = -<V'> $$\n",
    "\n",
    "_(Equation 2.2 in J. Chem. Phys. 137, 224115 (2012); doi: 10.1063/1.4770224)_\n",
    "\n",
    "\n",
    "We can derive the above using the heisenberg equation of motion:\n",
    "\n",
    "#### $$ i*\\hbar*\\frac{d<A>}{dt} = <[A, H]> $$"
   ]
  },
  {
   "cell_type": "markdown",
   "id": "peaceful-model",
   "metadata": {},
   "source": [
    "We first must define the hamiltonian and the heisenberg equation of motion, as shown below, named `ham` and `heom` respectively:"
   ]
  },
  {
   "cell_type": "code",
   "execution_count": 2,
   "id": "collect-cambridge",
   "metadata": {},
   "outputs": [],
   "source": [
    "hbar = Symbol(\"hbar\")\n",
    "\n",
    "def ham(p, q):\n",
    "    p, m, q, v = symbols(\"p m q v\")\n",
    "    v = Function(\"v\")\n",
    "    return Operator((lin_mom(q, 2))/(2*m)) + Operator(v(q))\n",
    "\n",
    "#def heom(a):\n",
    "#    return Operator(i*h_b*comm_1(Operator(a), Operator(ham(p, q)), None))"
   ]
  },
  {
   "cell_type": "code",
   "execution_count": 3,
   "id": "otherwise-traveler",
   "metadata": {},
   "outputs": [
    {
     "data": {
      "image/png": "[encoded data removed]",
      "text/latex": [
       "$\\displaystyle - \\frac{\\hbar i \\frac{\\partial}{\\partial q} \\left(- \\hbar i \\frac{d}{d q} 1\\right)}{2 m} + v{\\left(q \\right)}$"
      ],
      "text/plain": [
       "     ∂ ⎛     d    ⎞        \n",
       "-h̅⋅i⋅──⎜-h̅⋅i⋅──(1)⎟        \n",
       "     ∂q⎝     dq   ⎠        \n",
       "──────────────────── + v(q)\n",
       "        2⋅m                "
      ]
     },
     "execution_count": 3,
     "metadata": {},
     "output_type": "execute_result"
    }
   ],
   "source": [
    "ham(p, q)"
   ]
  },
  {
   "cell_type": "markdown",
   "id": "fewer-course",
   "metadata": {},
   "source": [
    "_Note: For this example, we do not use the `heom` function, although it is defined._\n",
    "\n",
    "_Note: Oftentimes in the pysces code, a `1` is put as a place holder in a derivative. If this was left blank, an error message would occur._"
   ]
  },
  {
   "cell_type": "markdown",
   "id": "stupid-feeling",
   "metadata": {},
   "source": [
    "By defining the functions as an `Operator`, we are able to choose where in the expression the function will be placed. Since we are computing the commutator, we also need an auxiliary function, defined by `aux` below using the predefined `Function` in the SymPy library. Here, we define the heisenberg equation of motion by `h1`.\n",
    "\n",
    "In order to manipulate the expression, we must turn it into strings to perform the proper replacements. Here, we are calculating the p operator to the first power, however, that can be changed to a higher power."
   ]
  },
  {
   "cell_type": "code",
   "execution_count": 5,
   "id": "quarterly-commissioner",
   "metadata": {},
   "outputs": [
    {
     "name": "stdout",
     "output_type": "stream",
     "text": [
      "p*-hbar*i*Derivative(-hbar*i*Derivative(1, q), q)/(2*m)*f(q) + p*v(q)*f(q) - -hbar*i*Derivative(-hbar*i*Derivative(1, q), q)/(2*m)*p*f(q) - v(q)*p*f(q)\n",
      "-hbar*i*Derivative(1, q)\n",
      "-0*-hbar*i*Derivative(1, q)*f(q) + -hbar*i*Derivative(1, q)*0*f(q) + -hbar*i*Derivative(1, q)*v(q)*f(q) - v(q)*-hbar*i*Derivative(1, q)*f(q)\n"
     ]
    }
   ],
   "source": [
    "aux = Operator(Function(\"f\")(q))\n",
    "\n",
    "h1 = expand(((Commutator(Operator(p),ham(p, q)).expand(commutator=True))*aux).doit())\n",
    "\n",
    "print(h1)\n",
    "# Below is the lin_mom function that describes the p operator (linear momentum operator) to the first power.\n",
    "p1 = str(lin_mom(q, 1))\n",
    "print(p1)\n",
    "\n",
    "# Below we replace the `p` operator in the h1 equation with the correct linear momentum operator (defined above)\n",
    "h1 = (str(simplify(h1)).replace(\"p\", str(Operator(p1))))\n",
    "\n",
    "print(h1)"
   ]
  },
  {
   "cell_type": "markdown",
   "id": "surprising-singing",
   "metadata": {},
   "source": [
    "Now, we have the string version of the heisenberg equation of motion. However, we still have the `1` values in the derivatives, which must be replaced for proper calculation. In order to do this, we must first find what to replace the `1` values with. This is done in the below cell, where we locate the start and ends points of the expression of interest to replace the `1`."
   ]
  },
  {
   "cell_type": "code",
   "execution_count": 6,
   "id": "attached-stand",
   "metadata": {},
   "outputs": [],
   "source": [
    "start_points = []\n",
    "end_points = []\n",
    "\n",
    "start = 0\n",
    "\n",
    "# The below searches through the string to find the phrase of interest,\n",
    "# By first finding the end of the derivative phrase, and then by finding the end of the auxiliary function\n",
    "# The phrase of interest is found between the derivative phrase and the auxiliary function\n",
    "while s != -1:\n",
    "    s = h1.find(\"Derivative(1, q)\", start)\n",
    "    start = s + len(f\"Derivative(1, q)\")\n",
    "    start_points.append(s)\n",
    "    if s == -1:\n",
    "        break\n",
    "    \n",
    "    e = h1.find(\"f(q)\", start) + 4\n",
    "    end_points.append(e)"
   ]
  },
  {
   "cell_type": "markdown",
   "id": "muslim-somerset",
   "metadata": {},
   "source": [
    "The above code may add a value of `-1` to the lists as it finds the phrases. To delete the extra value and check the start and end points, the below function is used. The first start value goes with the first end value, and so on."
   ]
  },
  {
   "cell_type": "code",
   "execution_count": 7,
   "id": "satisfied-egyptian",
   "metadata": {},
   "outputs": [
    {
     "name": "stdout",
     "output_type": "stream",
     "text": [
      "[11, 43, 77, 119]\n",
      "[32, 66, 103, 140]\n"
     ]
    }
   ],
   "source": [
    "if start_points[-1] == -1:\n",
    "    start_points.remove(start_points[-1])\n",
    "\n",
    "print(start_points)\n",
    "print(end_points)\n",
    "\n"
   ]
  },
  {
   "cell_type": "markdown",
   "id": "separate-saying",
   "metadata": {},
   "source": [
    "The below code finds the position of all of the `1` placeholder values within the derivative function, appends it to a list, while also appending the phrase of interest (the `new_derivative_function`) to a separate list."
   ]
  },
  {
   "cell_type": "code",
   "execution_count": 8,
   "id": "green-genius",
   "metadata": {},
   "outputs": [
    {
     "name": "stdout",
     "output_type": "stream",
     "text": [
      "['*f(q)', '*0*f(q)', '*v(q)*f(q)', '*f(q)']\n"
     ]
    }
   ],
   "source": [
    "new_derivative_function = []\n",
    "replace_spot = []\n",
    "\n",
    "for i in range(len(start_points)):\n",
    "    func = h1[start_points[i]:end_points[i]]\n",
    "    func = start_points[i] + len(f\"Derivative(1, {q})\")\n",
    "    func1 = h1.find(\"*\", func, end_points[i])\n",
    "        \n",
    "    repl = h1[start_points[i]:end_points[i]].find(\"1\") + start_points[i]\n",
    "    replace_spot.append(repl)\n",
    "\n",
    "\n",
    "    new_func = h1[func1:end_points[i]]\n",
    "    new_derivative_function.append(new_func)\n",
    "\n",
    "print(new_derivative_function)"
   ]
  },
  {
   "cell_type": "markdown",
   "id": "differential-courage",
   "metadata": {},
   "source": [
    "Since there are multiple derivates and multiple phrases of interest, we need to cut the string into parts in order to ensure the correct phrases of interest replace the `1` placeholders. This is done in the cell below. Once this is completed, the string slices are recombined, and `sympify` is used to turn the string into a form that can be read by the SymPy library, and therefore compute the derivative."
   ]
  },
  {
   "cell_type": "code",
   "execution_count": 9,
   "id": "sapphire-transition",
   "metadata": {},
   "outputs": [
    {
     "data": {
      "image/png": "[encoded data removed]",
      "text/latex": [
       "$\\displaystyle - \\hbar i f{\\left(q \\right)} \\frac{d}{d q} v{\\left(q \\right)}$"
      ],
      "text/plain": [
       "          d       \n",
       "-h̅⋅i⋅f(q)⋅──(v(q))\n",
       "          dq      "
      ]
     },
     "execution_count": 9,
     "metadata": {},
     "output_type": "execute_result"
    }
   ],
   "source": [
    "temp = h1.split(\" \")\n",
    "position_list = []\n",
    "string_list = []\n",
    "temp_list = []\n",
    "\n",
    "for i in range(len(temp)):\n",
    "\n",
    "    for r in range(1, len(new_derivative_function)):\n",
    "        if temp[i].find(new_derivative_function[r]) != -1:\n",
    "            temp[i] = temp[i].replace(new_derivative_function[r], \"\") \n",
    "\n",
    "    if temp[i].find(\"Derivative\") == -1:\n",
    "        continue\n",
    "    \n",
    "    else:\n",
    "        position = temp[i].find(\"1,\")\n",
    "        if position != -1:\n",
    "            position_list.append(position)\n",
    "            temp_list.append(i)\n",
    "    \n",
    "\n",
    "TL = len(temp_list) - 1\n",
    "nested_list = []\n",
    "while TL > -1: \n",
    "    r = [temp_list[TL], position_list[TL]]\n",
    "    nested_list.append(r) \n",
    "    TL -= 1 \n",
    "    if TL == -1:\n",
    "        break\n",
    "\n",
    "nested_list.reverse()\n",
    "\n",
    "for i in range(len(nested_list)):\n",
    "    temp[nested_list[i][0]] = \\\n",
    "        temp[nested_list[i][0]].replace(temp[nested_list[i][0]][nested_list[i][1]], new_derivative_function[i][1:])\n",
    "\n",
    "string = \" \".join(temp)\n",
    "s = sympify(string)\n",
    "\n",
    "s1 = expand(s.doit())\n",
    "\n",
    "#i = sqrt(-1)\n",
    "\n",
    "s1"
   ]
  },
  {
   "cell_type": "code",
   "execution_count": null,
   "id": "9a29b56c",
   "metadata": {},
   "outputs": [],
   "source": []
  },
  {
   "cell_type": "markdown",
   "id": "floppy-mapping",
   "metadata": {},
   "source": [
    "Here we can see the value of $ \\frac{d}{dq}*v(q) $ which is the same as $<V>$ in the original equation that we had hoped to derive. Please note there is an extra factor of $ i\\hbar $ which is still a concern (although can be divided by both sides to produce $ f(q) * (-<v>) $ which matches the original equation. The $ f(q) $ can also be removed, as it was the auxiliary function."
   ]
  },
  {
   "cell_type": "markdown",
   "id": "dying-right",
   "metadata": {},
   "source": [
    "### Notes.\n",
    "\n",
    "This is not yet complete. When I move to higher derivatives, it becomes harder to see the correct derivation. More insight into how the functions are derived by hand is needed to accurately improve the above course of action. In theory, the p operator can be computed to higher powers, thus increasing the accuracy as described by Akimov et. al, and may provide computational cost benefits.\n",
    "\n",
    "There also exists code to calculate the q operator similarly to higher powers."
   ]
  },
  {
   "cell_type": "code",
   "execution_count": null,
   "id": "explicit-woman",
   "metadata": {},
   "outputs": [],
   "source": []
  },
  {
   "cell_type": "code",
   "execution_count": null,
   "id": "7803c996",
   "metadata": {},
   "outputs": [],
   "source": []
  },
  {
   "cell_type": "code",
   "execution_count": null,
   "id": "d45b898c",
   "metadata": {},
   "outputs": [],
   "source": []
  },
  {
   "cell_type": "code",
   "execution_count": null,
   "id": "81e10a8a",
   "metadata": {},
   "outputs": [],
   "source": []
  }
 ],
 "metadata": {
  "kernelspec": {
   "display_name": "Python 3",
   "language": "python",
   "name": "python3"
  },
  "language_info": {
   "codemirror_mode": {
    "name": "ipython",
    "version": 3
   },
   "file_extension": ".py",
   "mimetype": "text/x-python",
   "name": "python",
   "nbconvert_exporter": "python",
   "pygments_lexer": "ipython3",
   "version": "3.8.8"
  }
 },
 "nbformat": 4,
 "nbformat_minor": 5
}
