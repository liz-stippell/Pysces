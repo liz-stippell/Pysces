{
 "cells": [
  {
   "cell_type": "code",
   "execution_count": 1,
   "id": "4da05040",
   "metadata": {},
   "outputs": [],
   "source": [
    "from pysces import *"
   ]
  },
  {
   "cell_type": "markdown",
   "id": "688ce5b7",
   "metadata": {},
   "source": [
    "#### For this example, we are calculating the following:\n",
    "\n",
    "#### $$ \\frac{d<q>}{dt} = \\frac{<p>}{m} $$\n",
    "\n",
    "_(Equation 2.1 in J. Chem. Phys. 137, 224115 (2012); doi: 10.1063/1.4770224)_\n",
    "\n",
    "\n",
    "We can derive the above using the heisenberg equation of motion:\n",
    "\n",
    "#### $$ i*\\hbar*\\frac{d<A>}{dt} = <[A, H]> $$"
   ]
  },
  {
   "cell_type": "markdown",
   "id": "8f809bb4",
   "metadata": {},
   "source": [
    "We first must define the hamiltonian and the heisenberg equation of motion, as shown below, named `ham` and `heom` respectively:"
   ]
  },
  {
   "cell_type": "code",
   "execution_count": 2,
   "id": "368c414a",
   "metadata": {},
   "outputs": [],
   "source": [
    "def ham(p, q):\n",
    "    p, m, q, v = symbols(\"p m q v\")\n",
    "    v = Function(\"v\")\n",
    "    return Operator((lin_mom(q, 2))/(2*m)) + Operator(v(q))\n",
    "\n",
    "#def heom(a):\n",
    "#    return Operator(i*h_b*comm_1(Operator(a), Operator(ham(p, q)), None))"
   ]
  },
  {
   "cell_type": "code",
   "execution_count": 3,
   "id": "60dc3c4a",
   "metadata": {},
   "outputs": [
    {
     "data": {
      "image/png": "[encoded data removed]",
      "text/latex": [
       "$\\displaystyle - \\frac{\\hbar i \\frac{\\partial}{\\partial q} \\left(- \\hbar i \\frac{d}{d q} 1\\right)}{2 m} + v{\\left(q \\right)}$"
      ],
      "text/plain": [
       "     ∂ ⎛     d    ⎞        \n",
       "-h̅⋅i⋅──⎜-h̅⋅i⋅──(1)⎟        \n",
       "     ∂q⎝     dq   ⎠        \n",
       "──────────────────── + v(q)\n",
       "        2⋅m                "
      ]
     },
     "execution_count": 3,
     "metadata": {},
     "output_type": "execute_result"
    }
   ],
   "source": [
    "ham(p, q)"
   ]
  },
  {
   "cell_type": "markdown",
   "id": "21735079",
   "metadata": {},
   "source": [
    "Note: For this example, we do not use the `heom` function, although it is defined.\n",
    "\n",
    "Note: Oftentimes in the pysces code, a `1` is put as a place holder in a derivative. If this was left blank, an error message would occur.\n",
    "\n",
    "By defining the functions as an `Operator`, we are able to choose where in the expression the function will be placed. Since we are computing the commutator, we also need an auxiliary function, defined by `aux` below using the predefined `Function` in the SymPy library. Here, we define the heisenberg equation of motion by `h1`.\n",
    "\n",
    "In order to manipulate the expression, we must turn it into strings to perform the proper replacements. Here, we are calculating the p operator to the first power, however, that can be changed to a higher power."
   ]
  },
  {
   "cell_type": "code",
   "execution_count": 42,
   "id": "9749791a",
   "metadata": {},
   "outputs": [
    {
     "data": {
      "text/plain": [
       "'-q**2*-hbar*i*Derivative(-hbar*i*Derivative(1, q), q)/(2*m)*f(q) - q**2*v(q)*f(q) - hbar*i*Derivative(-hbar*i*Derivative(1, q), q)/(2*m)*q**2*f(q) + v(q)*q**2*f(q)'"
      ]
     },
     "execution_count": 42,
     "metadata": {},
     "output_type": "execute_result"
    }
   ],
   "source": [
    "aux = Operator(Function(\"f\")(q))\n",
    "\n",
    "h1 = expand(((Commutator(ham(p, q), Operator(q**2)).expand(commutator=True))*aux).doit())\n",
    "\n",
    "\n",
    "# Below is the lin_mom function that describes the p operator (linear momentum operator) to the first power.\n",
    "# p1 = str(lin_mom(q, 1))\n",
    "\n",
    "# Below we replace the `p` operator in the h1 equation with the correct linear momentum operator (defined above)\n",
    "# h1 = (str(simplify(h1)).replace(\"p\", str(Operator(p1))))\n",
    "\n",
    "h1 = str(h1)\n",
    "\n",
    "h1"
   ]
  },
  {
   "cell_type": "markdown",
   "id": "a17b555a",
   "metadata": {},
   "source": [
    "Now, we have the string version of the heisenberg equation of motion. However, we still have the `1` values in the derivatives, which must be replaced for proper calculation. In order to do this, we must first find what to replace the `1` values with. This is done in the below cell, where we locate the start and ends points of the expression of interest to replace the `1`."
   ]
  },
  {
   "cell_type": "code",
   "execution_count": 43,
   "id": "1196b2ec",
   "metadata": {},
   "outputs": [],
   "source": [
    "start_points = []\n",
    "end_points = []\n",
    "\n",
    "start = 0\n",
    "\n",
    "# The below searches through the string to find the phrase of interest,\n",
    "# By first finding the end of the derivative phrase, and then by finding the end of the auxiliary function\n",
    "# The phrase of interest is found between the derivative phrase and the auxiliary function\n",
    "while s != -1:\n",
    "    s = h1.find(\"Derivative(1, q)\", start)\n",
    "    start = s + len(f\"Derivative(1, q)\")\n",
    "    start_points.append(s)\n",
    "    if s == -1:\n",
    "        break\n",
    "    \n",
    "    e = h1.find(\"f(q)\", start) + 4\n",
    "    end_points.append(e)"
   ]
  },
  {
   "cell_type": "markdown",
   "id": "a706e865",
   "metadata": {},
   "source": [
    "The above code may add a value of `-1` to the lists as it finds the phrases. To delete the extra value and check the start and end points, the below function is used. The first start value goes with the first end value, and so on."
   ]
  },
  {
   "cell_type": "code",
   "execution_count": 44,
   "id": "a3080f23",
   "metadata": {},
   "outputs": [
    {
     "name": "stdout",
     "output_type": "stream",
     "text": [
      "[33, 110]\n",
      "[64, 146]\n"
     ]
    }
   ],
   "source": [
    "if start_points[-1] == -1:\n",
    "    start_points.remove(start_points[-1])\n",
    "\n",
    "print(start_points)\n",
    "print(end_points)"
   ]
  },
  {
   "cell_type": "markdown",
   "id": "a77f16ab",
   "metadata": {},
   "source": [
    "The below code finds the position of all of the `1` placeholder values within the derivative function, appends it to a list, while also appending the phrase of interest (the `new_derivative_function`) to a separate list."
   ]
  },
  {
   "cell_type": "code",
   "execution_count": 45,
   "id": "13e4cec6",
   "metadata": {},
   "outputs": [
    {
     "name": "stdout",
     "output_type": "stream",
     "text": [
      "['/(2*m)*f(q)', '/(2*m)*q**2*f(q)']\n",
      "/(2*m)*q**2*f(q)\n"
     ]
    }
   ],
   "source": [
    "new_derivative_function = []\n",
    "replace_spot = []\n",
    "\n",
    "for i in range(len(start_points)):\n",
    "    func = h1[start_points[i]:end_points[i]]\n",
    "    func = start_points[i] + len(f\"Derivative(1, {q})\")\n",
    "    func1 = h1.find(\"*\", func, end_points[i])\n",
    "        \n",
    "    repl = h1[start_points[i]:end_points[i]].find(\"1\") + start_points[i]\n",
    "    replace_spot.append(repl)\n",
    "\n",
    "\n",
    "    new_func = h1[func1 - 3:end_points[i]]\n",
    "    new_derivative_function.append(new_func)\n",
    "    \n",
    "print(new_derivative_function)\n",
    "print(new_func)"
   ]
  },
  {
   "cell_type": "markdown",
   "id": "5a91c6c6",
   "metadata": {},
   "source": [
    "Since there are multiple derivates and multiple phrases of interest, we need to cut the string into parts in order to ensure the correct phrases of interest replace the `1` placeholders. This is done in the cell below. Once this is completed, the string slices are recombined, and `sympify` is used to turn the string into a form that can be read by the SymPy library, and therefore compute the derivative."
   ]
  },
  {
   "cell_type": "code",
   "execution_count": 46,
   "id": "d8deb979",
   "metadata": {},
   "outputs": [
    {
     "data": {
      "image/png": "[encoded data removed]",
      "text/latex": [
       "$\\displaystyle \\frac{2 \\hbar^{2} i^{2} q \\frac{d}{d q} f{\\left(q \\right)}}{m} + \\frac{\\hbar^{2} i^{2} f{\\left(q \\right)}}{m}$"
      ],
      "text/plain": [
       "   2  2   d                    \n",
       "2⋅h̅ ⋅i ⋅q⋅──(f(q))    2  2     \n",
       "          dq         h̅ ⋅i ⋅f(q)\n",
       "────────────────── + ──────────\n",
       "        m                m     "
      ]
     },
     "execution_count": 46,
     "metadata": {},
     "output_type": "execute_result"
    }
   ],
   "source": [
    "temp = h1.split(\" \")\n",
    "position_list = []\n",
    "string_list = []\n",
    "temp_list = []\n",
    "\n",
    "for i in range(len(temp)):\n",
    "\n",
    "    for r in range(0, len(new_derivative_function)):\n",
    "        if temp[i].find(new_derivative_function[r]) != -1:\n",
    "            temp[i] = temp[i].replace(new_derivative_function[r], \"\")   \n",
    "\n",
    "    if temp[i].find(\"Derivative\") == -1:\n",
    "        continue\n",
    "    \n",
    "    else:\n",
    "        position = temp[i].find(\"1,\")\n",
    "        if position != -1:\n",
    "            position_list.append(position)\n",
    "            temp_list.append(i)\n",
    "            \n",
    "\n",
    "TL = len(temp_list) - 1\n",
    "nested_list = []\n",
    "while TL > -1: \n",
    "    r = [temp_list[TL], position_list[TL]]\n",
    "    nested_list.append(r) \n",
    "    TL -= 1 \n",
    "    if TL == -1:\n",
    "        break\n",
    "\n",
    "nested_list.reverse()\n",
    "\n",
    "for i in range(len(nested_list)):\n",
    "    temp[nested_list[i][0]] = \\\n",
    "        temp[nested_list[i][0]].replace(temp[nested_list[i][0]][nested_list[i][1]], \"1/\" + new_derivative_function[i][1:])\n",
    "\n",
    "string = \" \".join(temp)\n",
    "\n",
    "s = sympify(string)\n",
    "\n",
    "s1 = expand(s.doit())\n",
    "\n",
    "s1"
   ]
  },
  {
   "cell_type": "markdown",
   "id": "f28e49d2",
   "metadata": {},
   "source": [
    "### Notes.\n",
    "\n",
    "There is a slight difference in this code versus the code for the linear momentum. This is due to the division term in the derivative, and so it must be handled differently."
   ]
  },
  {
   "cell_type": "code",
   "execution_count": null,
   "id": "82c63323",
   "metadata": {},
   "outputs": [],
   "source": []
  }
 ],
 "metadata": {
  "kernelspec": {
   "display_name": "Python 3",
   "language": "python",
   "name": "python3"
  },
  "language_info": {
   "codemirror_mode": {
    "name": "ipython",
    "version": 3
   },
   "file_extension": ".py",
   "mimetype": "text/x-python",
   "name": "python",
   "nbconvert_exporter": "python",
   "pygments_lexer": "ipython3",
   "version": "3.8.8"
  }
 },
 "nbformat": 4,
 "nbformat_minor": 5
}
