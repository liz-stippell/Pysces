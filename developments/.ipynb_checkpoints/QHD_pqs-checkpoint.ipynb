{
 "cells": [
  {
   "cell_type": "code",
   "execution_count": 19,
   "id": "5875cb6d",
   "metadata": {},
   "outputs": [],
   "source": [
    "from pysces import *"
   ]
  },
  {
   "cell_type": "code",
   "execution_count": 20,
   "id": "5924cca7",
   "metadata": {},
   "outputs": [],
   "source": [
    "def ham(p, q):\n",
    "    p, m, q, v = symbols(\"p m q v\")\n",
    "    v = Function(\"v\")\n",
    "    return Operator((lin_mom(q, 2))/(2*m)) + Operator(v(q))"
   ]
  },
  {
   "cell_type": "code",
   "execution_count": 21,
   "id": "14ab1e35",
   "metadata": {},
   "outputs": [
    {
     "data": {
      "image/png": "[encoded data removed]",
      "text/latex": [
       "$\\displaystyle - \\frac{\\hbar i \\frac{\\partial}{\\partial q} \\left(- \\hbar i \\frac{d}{d q} 1\\right)}{2 m} \\frac{p q}{2} + \\frac{q p}{2} f{\\left(q \\right)} - \\frac{p q}{2} + \\frac{q p}{2} \\cdot - \\frac{\\hbar i \\frac{\\partial}{\\partial q} \\left(- \\hbar i \\frac{d}{d q} 1\\right)}{2 m} f{\\left(q \\right)} - \\frac{p q}{2} + \\frac{q p}{2} v{\\left(q \\right)} f{\\left(q \\right)} + v{\\left(q \\right)} \\frac{p q}{2} + \\frac{q p}{2} f{\\left(q \\right)}$"
      ],
      "text/plain": [
       "     ∂ ⎛     d    ⎞                                    ∂ ⎛     d    ⎞         \n",
       "-h̅⋅i⋅──⎜-h̅⋅i⋅──(1)⎟                               -h̅⋅i⋅──⎜-h̅⋅i⋅──(1)⎟     \n",
       "     ∂q⎝     dq   ⎠  ⎛p⋅q   q⋅p⎞        p⋅q   q⋅p      ∂q⎝     dq   ⎠         \n",
       "────────────────────⋅⎜─── + ───⎟⋅f(q) - ─── + ───⋅────────────────────⋅f(q) - \n",
       "        2⋅m          ⎝ 2     2 ⎠         2     2          2⋅m                 \n",
       "\n",
       "                                           \n",
       "                                               \n",
       "p⋅q   q⋅p                  ⎛p⋅q   q⋅p⎞     \n",
       "─── + ───⋅v(q)⋅f(q) + v(q)⋅⎜─── + ───⎟⋅f(q)\n",
       " 2     2                   ⎝ 2     2 ⎠     "
      ]
     },
     "execution_count": 21,
     "metadata": {},
     "output_type": "execute_result"
    }
   ],
   "source": [
    "aux = Operator(Function(\"f\")(q))\n",
    "\n",
    "pq_s = (Operator(p)*Operator(q)+Operator(q)*Operator(p))/2\n",
    "\n",
    "h1 = expand(((Commutator(ham(p, q), Operator(pq_s)).expand(commutator=True))*aux).doit())\n",
    "\n",
    "h1"
   ]
  },
  {
   "cell_type": "code",
   "execution_count": 22,
   "id": "59f0d6bb",
   "metadata": {},
   "outputs": [
    {
     "name": "stdout",
     "output_type": "stream",
     "text": [
      "-hbar*i*Derivative(-hbar*i*Derivative(1, q), q)/(2*m)*p*q/2 + q*p/2*f(q) - p*q/2 + q*p/2*-hbar*i*Derivative(-hbar*i*Derivative(1, q), q)/(2*m)*f(q) - p*q/2 + q*p/2*v(q)*f(q) + v(q)*p*q/2 + q*p/2*f(q)\n"
     ]
    }
   ],
   "source": [
    "# Below is the lin_mom function that describes the p operator (linear momentum operator) to the first power.\n",
    "# p1 = str(Operator(lin_mom(q, 1)))\n",
    "\n",
    "# Below we replace the `p` operator in the h1 equation with the correct linear momentum operator (defined above)\n",
    "# h1 = (str(h1).replace(\"p\", p1))\n",
    "\n",
    "# No simplify h1 in this case.\n",
    "h1 = str(h1)\n",
    "print(h1)"
   ]
  },
  {
   "cell_type": "code",
   "execution_count": 23,
   "id": "83b186cb",
   "metadata": {},
   "outputs": [
    {
     "name": "stdout",
     "output_type": "stream",
     "text": [
      "[59, 147]\n"
     ]
    }
   ],
   "source": [
    "start_points = []\n",
    "end_points = []\n",
    "\n",
    "start = 0\n",
    "\n",
    "# The below searches through the string to find the phrase of interest,\n",
    "# By first finding the end of the derivative phrase, and then by finding the end of the auxiliary function\n",
    "# The phrase of interest is found between the derivative phrase and the auxiliary function\n",
    "while s != -1:\n",
    "    s = h1.find(\"Derivative(1, q)\", start)\n",
    "    start = s + len(f\"Derivative(1, q) \")\n",
    "    start_points.append(s)\n",
    "    if s == -1:\n",
    "        break\n",
    "\n",
    "    e = h1.find(\" \", start + 1)\n",
    "    end_points.append(e)\n",
    "print(end_points)\n"
   ]
  },
  {
   "cell_type": "code",
   "execution_count": 24,
   "id": "50c91954",
   "metadata": {},
   "outputs": [
    {
     "name": "stdout",
     "output_type": "stream",
     "text": [
      "[27, 116]\n",
      "[59, 147]\n"
     ]
    }
   ],
   "source": [
    "if start_points[-1] == -1:\n",
    "    start_points.remove(start_points[-1])\n",
    "\n",
    "print(start_points)\n",
    "print(end_points)"
   ]
  },
  {
   "cell_type": "code",
   "execution_count": 29,
   "id": "369243b8",
   "metadata": {},
   "outputs": [
    {
     "name": "stdout",
     "output_type": "stream",
     "text": [
      "['/(2*m)*p*q/2', '/(2*m)*f(q)']\n"
     ]
    }
   ],
   "source": [
    "new_derivative_function = []\n",
    "replace_spot = []\n",
    "\n",
    "for i in range(len(start_points)):\n",
    "    func = h1[start_points[i]:end_points[i]]\n",
    "    func = start_points[i] + len(f\"Derivative(1, {q})\")\n",
    "    func1 = h1.find(\"/\", func, end_points[i])\n",
    "        \n",
    "    repl = h1[start_points[i]:end_points[i]].find(\"1\") + start_points[i]\n",
    "    replace_spot.append(repl)\n",
    "\n",
    "\n",
    "    new_func = h1[func1:end_points[i]]\n",
    "    new_derivative_function.append(new_func)\n",
    "    \n",
    "print(new_derivative_function)"
   ]
  },
  {
   "cell_type": "code",
   "execution_count": 30,
   "id": "6287c66e",
   "metadata": {},
   "outputs": [
    {
     "data": {
      "image/png": "[encoded data removed]",
      "text/latex": [
       "$\\displaystyle \\frac{\\hbar^{2} i^{2} p q \\frac{d^{2}}{d q^{2}} f{\\left(q \\right)}}{4 m} + \\frac{p q f{\\left(q \\right)} v{\\left(q \\right)}}{2} + p q f{\\left(q \\right)} + \\frac{p q v{\\left(q \\right)}}{2} - p q$"
      ],
      "text/plain": [
       "            2                                                  \n",
       " 2  2      d                                                   \n",
       "h̅ ⋅i ⋅p⋅q⋅───(f(q))                                            \n",
       "            2                                                  \n",
       "          dq          p⋅q⋅f(q)⋅v(q)              p⋅q⋅v(q)      \n",
       "─────────────────── + ───────────── + p⋅q⋅f(q) + ──────── - p⋅q\n",
       "        4⋅m                 2                       2          "
      ]
     },
     "execution_count": 30,
     "metadata": {},
     "output_type": "execute_result"
    }
   ],
   "source": [
    "temp = h1.split(\" \")\n",
    "position_list = []\n",
    "string_list = []\n",
    "temp_list = []\n",
    "\n",
    "for i in range(len(temp)):\n",
    "\n",
    "    for r in range(0, len(new_derivative_function)):\n",
    "        if temp[i].find(new_derivative_function[r]) != -1:\n",
    "            temp[i] = temp[i].replace(new_derivative_function[r], \"\")   \n",
    "\n",
    "    if temp[i].find(\"Derivative\") == -1:\n",
    "        continue\n",
    "    \n",
    "    else:\n",
    "        position = temp[i].find(\"1,\")\n",
    "        if position != -1:\n",
    "            position_list.append(position)\n",
    "            temp_list.append(i)\n",
    "            \n",
    "\n",
    "TL = len(temp_list) - 1\n",
    "nested_list = []\n",
    "while TL > -1: \n",
    "    r = [temp_list[TL], position_list[TL]]\n",
    "    nested_list.append(r) \n",
    "    TL -= 1 \n",
    "    if TL == -1:\n",
    "        break\n",
    "\n",
    "nested_list.reverse()\n",
    "\n",
    "for i in range(len(nested_list)):\n",
    "    temp[nested_list[i][0]] = \\\n",
    "        temp[nested_list[i][0]].replace(temp[nested_list[i][0]][nested_list[i][1]], \"1/\" + new_derivative_function[i][1:])\n",
    "\n",
    "string = \" \".join(temp)\n",
    "\n",
    "s = sympify(string)\n",
    "\n",
    "s1 = expand(s.doit())\n",
    "\n",
    "s1"
   ]
  },
  {
   "cell_type": "code",
   "execution_count": null,
   "id": "ce7c1877",
   "metadata": {},
   "outputs": [],
   "source": []
  }
 ],
 "metadata": {
  "kernelspec": {
   "display_name": "Python 3",
   "language": "python",
   "name": "python3"
  },
  "language_info": {
   "codemirror_mode": {
    "name": "ipython",
    "version": 3
   },
   "file_extension": ".py",
   "mimetype": "text/x-python",
   "name": "python",
   "nbconvert_exporter": "python",
   "pygments_lexer": "ipython3",
   "version": "3.8.8"
  }
 },
 "nbformat": 4,
 "nbformat_minor": 5
}
