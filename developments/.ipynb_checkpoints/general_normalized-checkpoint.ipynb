{
 "cells": [
  {
   "cell_type": "code",
   "execution_count": 8,
   "metadata": {
    "scrolled": true
   },
   "outputs": [],
   "source": [
    "from Pysces import *"
   ]
  },
  {
   "cell_type": "markdown",
   "metadata": {},
   "source": [
    "The normalize_constant() function will compute the normalization constant for a given WaveFunction over an interval."
   ]
  },
  {
   "cell_type": "markdown",
   "metadata": {},
   "source": [
    "# General Notation"
   ]
  },
  {
   "cell_type": "markdown",
   "metadata": {},
   "source": [
    "From a quantum mechanics lens, normalizing a WaveFunction is equivalent to:"
   ]
  },
  {
   "cell_type": "code",
   "execution_count": 9,
   "metadata": {
    "scrolled": true
   },
   "outputs": [
    {
     "data": {
      "image/png": "[encoded data removed]",
      "text/latex": [
       "$$\\int A^{2} \\psi \\psi^{\\dagger}\\, dx$$"
      ],
      "text/plain": [
       "⌠           \n",
       "⎮  2    †   \n",
       "⎮ A ⋅ψ⋅ψ  dx\n",
       "⌡           "
      ]
     },
     "execution_count": 9,
     "metadata": {},
     "output_type": "execute_result"
    }
   ],
   "source": [
    "Integral((A**2)*psi*Dagger(psi), x)"
   ]
  },
  {
   "cell_type": "markdown",
   "metadata": {},
   "source": [
    "And so A, the normalization constant is equal to:"
   ]
  },
  {
   "cell_type": "code",
   "execution_count": 10,
   "metadata": {},
   "outputs": [
    {
     "data": {
      "image/png": "[encoded data removed]",
      "text/latex": [
       "$$\\frac{1}{\\sqrt{\\int \\psi \\psi^{\\dagger}\\, dx}}$$"
      ],
      "text/plain": [
       "       1        \n",
       "────────────────\n",
       "     ___________\n",
       "    ╱ ⌠         \n",
       "   ╱  ⎮    †    \n",
       "  ╱   ⎮ ψ⋅ψ  dx \n",
       "╲╱    ⌡         "
      ]
     },
     "execution_count": 10,
     "metadata": {},
     "output_type": "execute_result"
    }
   ],
   "source": [
    "1/sqrt(Integral(psi*Dagger(psi), x))"
   ]
  },
  {
   "cell_type": "markdown",
   "metadata": {},
   "source": [
    "This is the basis for the normalize_constant() function defined in Pysces."
   ]
  },
  {
   "cell_type": "markdown",
   "metadata": {},
   "source": [
    "The generalized notation for the WaveFunction can be given by the normalize_constant() function, with four arguments:\n",
    "\n",
    "the first is the WaveFunction of interest, \n",
    "\n",
    "the second is what the integral is with respect to, this is usually \"x\",\n",
    "\n",
    "the third is the lower bound of the integral\n",
    "\n",
    "the fourth is the upper bound of the integral."
   ]
  },
  {
   "cell_type": "code",
   "execution_count": 11,
   "metadata": {},
   "outputs": [
    {
     "data": {
      "image/png": "[encoded data removed]",
      "text/latex": [
       "$$\\frac{1}{\\sqrt{\\int_{-\\infty}^{\\infty} \\psi^{2}\\, dx}}$$"
      ],
      "text/plain": [
       "        1        \n",
       "─────────────────\n",
       "       __________\n",
       "      ╱ ∞        \n",
       "     ╱  ⌠        \n",
       "    ╱   ⎮   2    \n",
       "   ╱    ⎮  ψ  dx \n",
       "  ╱     ⌡        \n",
       "╲╱      -∞       "
      ]
     },
     "execution_count": 11,
     "metadata": {},
     "output_type": "execute_result"
    }
   ],
   "source": [
    "normalize_constant(psi, x, -oo, oo)"
   ]
  },
  {
   "cell_type": "markdown",
   "metadata": {},
   "source": [
    "The .doit() method will perform the integration.\n",
    "\n",
    "Note that if bounds are not stated explicitly, -oo (negative infinity) should be the lower bound, oo (infinity) should be the upper bound.\n",
    "\n",
    "Note that in sympy notation, two \"o\"s (oo) represents infinity. If a bound is not given, integrate from (-oo, oo)"
   ]
  },
  {
   "cell_type": "markdown",
   "metadata": {},
   "source": [
    "Note that the conjugate() function is also used within the normalize_constant() function:"
   ]
  },
  {
   "cell_type": "code",
   "execution_count": 12,
   "metadata": {},
   "outputs": [
    {
     "data": {
      "image/png": "[encoded data removed]",
      "text/latex": [
       "$$A$$"
      ],
      "text/plain": [
       "A"
      ]
     },
     "execution_count": 12,
     "metadata": {},
     "output_type": "execute_result"
    }
   ],
   "source": [
    "conjugate(A)"
   ]
  },
  {
   "cell_type": "code",
   "execution_count": 13,
   "metadata": {},
   "outputs": [
    {
     "data": {
      "image/png": "[encoded data removed]",
      "text/latex": [
       "$$x + i$$"
      ],
      "text/plain": [
       "x + ⅈ"
      ]
     },
     "execution_count": 13,
     "metadata": {},
     "output_type": "execute_result"
    }
   ],
   "source": [
    "conjugate(-I + x)"
   ]
  },
  {
   "cell_type": "markdown",
   "metadata": {},
   "source": [
    "This function only affects the sign of imaginary numbers, and provides the complex conjugate needed for the normalize_constant() function."
   ]
  },
  {
   "cell_type": "code",
   "execution_count": null,
   "metadata": {},
   "outputs": [],
   "source": []
  }
 ],
 "metadata": {
  "kernelspec": {
   "display_name": "Python 3",
   "language": "python",
   "name": "python3"
  },
  "language_info": {
   "codemirror_mode": {
    "name": "ipython",
    "version": 3
   },
   "file_extension": ".py",
   "mimetype": "text/x-python",
   "name": "python",
   "nbconvert_exporter": "python",
   "pygments_lexer": "ipython3",
   "version": "3.8.8"
  }
 },
 "nbformat": 4,
 "nbformat_minor": 2
}
