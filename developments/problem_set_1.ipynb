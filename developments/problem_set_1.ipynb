<<<<<<< HEAD:Problem Sets/problem_set_1.ipynb
{
 "cells": [
  {
   "cell_type": "code",
   "execution_count": 2,
   "metadata": {},
   "outputs": [],
   "source": [
    "from Pysces import *"
   ]
  },
  {
   "cell_type": "markdown",
   "metadata": {},
   "source": [
    "If you don't know how to use certain functions, check out either the \"tutorial\" folder, or look at the documentation using the \"help()\" function.\n",
    "\n",
    "Example:\n",
    "\n",
    "    help(normalize_constant)"
   ]
  },
  {
   "cell_type": "markdown",
   "metadata": {},
   "source": [
    "# Normalizing Wave Functions"
   ]
  },
  {
   "cell_type": "markdown",
   "metadata": {},
   "source": [
    "1. wave function = x \n",
    "\n",
    "    on the bounds [0, 1]\n",
    "\n",
    "hint: try using the normalize_constant() function."
   ]
  },
  {
   "cell_type": "code",
   "execution_count": null,
   "metadata": {},
   "outputs": [],
   "source": []
  },
  {
   "cell_type": "markdown",
   "metadata": {},
   "source": [
    "2. wave function = planewave\n",
    "\n",
    "    on the bounds [a, b]\n",
    "    \n",
    "hint: try using the planewave() function."
   ]
  },
  {
   "cell_type": "code",
   "execution_count": null,
   "metadata": {},
   "outputs": [],
   "source": []
  },
  {
   "cell_type": "markdown",
   "metadata": {},
   "source": [
    "3. wave function = fixed gaussian\n",
    "\n",
    "    on the bounds [-oo, oo]\n",
    "    \n",
    "hint: try using the fixed_gaussian() function, and the simplify() function"
   ]
  },
  {
   "cell_type": "code",
   "execution_count": 18,
   "metadata": {},
   "outputs": [],
   "source": [
    "alpha, x_0, p_0 = symbols(\"alpha, x_0, p_0\")"
   ]
  },
  {
   "cell_type": "code",
   "execution_count": null,
   "metadata": {},
   "outputs": [],
   "source": []
  },
  {
   "cell_type": "markdown",
   "metadata": {},
   "source": [
    "# Operators and Commutators"
   ]
  },
  {
   "cell_type": "markdown",
   "metadata": {},
   "source": [
    "1. Starting simply, let's have:\n",
    "\n",
    "    A = Derivative(1, x)\n",
    "    \n",
    "    B = x\n",
    "    \n",
    "*please note that the \"1\" is a placeholder in the derivative.*"
   ]
  },
  {
   "cell_type": "code",
   "execution_count": 32,
   "metadata": {},
   "outputs": [],
   "source": [
    "A = Derivative(1, x)\n",
    "B = x"
   ]
  },
  {
   "cell_type": "code",
   "execution_count": null,
   "metadata": {},
   "outputs": [],
   "source": []
  },
  {
   "cell_type": "markdown",
   "metadata": {},
   "source": [
    "2. Let's look at the commutator:\n",
    "\n",
    "    [z, p_z]\n",
    "    \n",
    "hint: try using the comm() function and the p_operator() function\n",
    "\n",
    "    note: p with a subscript (p_z) is the \"p\" operator (linear momentum operator)"
   ]
  },
  {
   "cell_type": "code",
   "execution_count": null,
   "metadata": {},
   "outputs": [],
   "source": []
  },
  {
   "cell_type": "markdown",
   "metadata": {},
   "source": [
    "3. Let's try another one:\n",
    "\n",
    "    [L_x, z]\n",
    "\n",
    "hint: you might need to solve more than one commutator.\n",
    "\n",
    "    note: the \"L_x\" notation is the angular momentum operator"
   ]
  },
  {
   "cell_type": "code",
   "execution_count": 28,
   "metadata": {},
   "outputs": [],
   "source": [
    "L_x = Symbol(\"L_x\")"
   ]
  },
  {
   "cell_type": "code",
   "execution_count": null,
   "metadata": {},
   "outputs": [],
   "source": []
  },
  {
   "cell_type": "code",
   "execution_count": null,
   "metadata": {},
   "outputs": [],
   "source": []
  },
  {
   "cell_type": "markdown",
   "metadata": {},
   "source": [
    "# Expectation Values"
   ]
  },
  {
   "cell_type": "markdown",
   "metadata": {},
   "source": [
    "1. Starting off simple:\n",
    "\n",
    "    wave function = x^2\n",
    "    \n",
    "    operator = x\n",
    "    \n",
    "    over the region [0, 1]\n",
    "    \n",
    "hint: try using the expectation_value() function"
   ]
  },
  {
   "cell_type": "code",
   "execution_count": null,
   "metadata": {},
   "outputs": [],
   "source": []
  }
 ],
 "metadata": {
  "kernelspec": {
   "display_name": "Python 3",
   "language": "python",
   "name": "python3"
  },
  "language_info": {
   "codemirror_mode": {
    "name": "ipython",
    "version": 3
   },
   "file_extension": ".py",
   "mimetype": "text/x-python",
   "name": "python",
   "nbconvert_exporter": "python",
   "pygments_lexer": "ipython3",
   "version": "3.7.1"
  }
 },
 "nbformat": 4,
 "nbformat_minor": 2
}
=======
{
 "cells": [
  {
   "cell_type": "code",
   "execution_count": 1,
   "metadata": {},
   "outputs": [],
   "source": [
    "from pysces import *"
   ]
  },
  {
   "cell_type": "markdown",
   "metadata": {},
   "source": [
    "If you don't know how to use certain functions, check out either the \"tutorial\" folder, or look at the documentation using the \"help()\" function.\n",
    "\n",
    "Example:\n",
    "\n",
    "    help(normalize_constant)"
   ]
  },
  {
   "cell_type": "markdown",
   "metadata": {},
   "source": [
    "# Normalizing Wave Functions"
   ]
  },
  {
   "cell_type": "markdown",
   "metadata": {},
   "source": [
    "1. wave function = x \n",
    "\n",
    "    on the bounds [0, 1]\n",
    "\n",
    "hint: try using the normalize_constant() function."
   ]
  },
  {
   "cell_type": "code",
   "execution_count": null,
   "metadata": {},
   "outputs": [],
   "source": []
  },
  {
   "cell_type": "markdown",
   "metadata": {},
   "source": [
    "2. wave function = planewave\n",
    "\n",
    "    on the bounds [a, b]\n",
    "    \n",
    "hint: try using the planewave() function."
   ]
  },
  {
   "cell_type": "code",
   "execution_count": null,
   "metadata": {},
   "outputs": [],
   "source": []
  },
  {
   "cell_type": "markdown",
   "metadata": {},
   "source": [
    "3. wave function = fixed gaussian\n",
    "\n",
    "    on the bounds [-oo, oo]\n",
    "    \n",
    "hint: try using the fixed_gaussian() function, and the simplify() function"
   ]
  },
  {
   "cell_type": "code",
   "execution_count": 2,
   "metadata": {},
   "outputs": [],
   "source": [
    "alpha, x_0, p_0 = symbols(\"alpha, x_0, p_0\")"
   ]
  },
  {
   "cell_type": "code",
   "execution_count": null,
   "metadata": {},
   "outputs": [],
   "source": []
  },
  {
   "cell_type": "markdown",
   "metadata": {},
   "source": [
    "# Operators and Commutators"
   ]
  },
  {
   "cell_type": "markdown",
   "metadata": {},
   "source": [
    "1. Starting simply, let's have:\n",
    "\n",
    "    A = Derivative(1, x)\n",
    "    \n",
    "    B = x\n",
    "    \n",
    "*please note that the \"1\" is a placeholder in the derivative.*"
   ]
  },
  {
   "cell_type": "code",
   "execution_count": 3,
   "metadata": {},
   "outputs": [],
   "source": [
    "A = Derivative(1, x)\n",
    "B = x"
   ]
  },
  {
   "cell_type": "code",
   "execution_count": null,
   "metadata": {},
   "outputs": [],
   "source": []
  },
  {
   "cell_type": "markdown",
   "metadata": {},
   "source": [
    "2. Let's look at the commutator:\n",
    "\n",
    "    [z, p_z]\n",
    "    \n",
    "hint: try using the comm() function and the p_operator() function\n",
    "\n",
    "    note: p with a subscript (p_z) is the \"p\" operator (linear momentum operator)"
   ]
  },
  {
   "cell_type": "code",
   "execution_count": null,
   "metadata": {},
   "outputs": [],
   "source": []
  },
  {
   "cell_type": "markdown",
   "metadata": {},
   "source": [
    "3. Let's try another one:\n",
    "\n",
    "    [L_x, z]\n",
    "\n",
    "hint: you might need to solve more than one commutator.\n",
    "\n",
    "    note: the \"L_x\" notation is the angular momentum operator"
   ]
  },
  {
   "cell_type": "code",
   "execution_count": 28,
   "metadata": {},
   "outputs": [],
   "source": [
    "L_x = Symbol(\"L_x\")"
   ]
  },
  {
   "cell_type": "code",
   "execution_count": null,
   "metadata": {},
   "outputs": [],
   "source": []
  },
  {
   "cell_type": "code",
   "execution_count": null,
   "metadata": {},
   "outputs": [],
   "source": []
  },
  {
   "cell_type": "markdown",
   "metadata": {},
   "source": [
    "# Expectation Values"
   ]
  },
  {
   "cell_type": "markdown",
   "metadata": {},
   "source": [
    "1. Starting off simple:\n",
    "\n",
    "    wave function = x^2\n",
    "    \n",
    "    operator = x\n",
    "    \n",
    "    over the region [0, 1]\n",
    "    \n",
    "hint: try using the expectation_value() function"
   ]
  },
  {
   "cell_type": "code",
   "execution_count": null,
   "metadata": {},
   "outputs": [],
   "source": []
  }
 ],
 "metadata": {
  "kernelspec": {
   "display_name": "Python 3",
   "language": "python",
   "name": "python3"
  },
  "language_info": {
   "codemirror_mode": {
    "name": "ipython",
    "version": 3
   },
   "file_extension": ".py",
   "mimetype": "text/x-python",
   "name": "python",
   "nbconvert_exporter": "python",
   "pygments_lexer": "ipython3",
   "version": "3.7.6"
  }
 },
 "nbformat": 4,
 "nbformat_minor": 2
}
>>>>>>> a4f82647d44132ad313b967d421082d2b21c9708:tutorials/problem_set_1.ipynb
