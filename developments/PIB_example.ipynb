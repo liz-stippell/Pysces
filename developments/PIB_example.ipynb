{
 "cells": [
  {
   "cell_type": "code",
   "execution_count": 1,
   "metadata": {},
   "outputs": [
    {
     "ename": "ModuleNotFoundError",
     "evalue": "No module named 'Pysces'",
     "output_type": "error",
     "traceback": [
      "\u001b[1;31m---------------------------------------------------------------------------\u001b[0m",
      "\u001b[1;31mModuleNotFoundError\u001b[0m                       Traceback (most recent call last)",
      "\u001b[1;32m<ipython-input-1-fb2f092f9927>\u001b[0m in \u001b[0;36m<module>\u001b[1;34m\u001b[0m\n\u001b[1;32m----> 1\u001b[1;33m \u001b[1;32mfrom\u001b[0m \u001b[0mPysces\u001b[0m \u001b[1;32mimport\u001b[0m \u001b[1;33m*\u001b[0m\u001b[1;33m\u001b[0m\u001b[1;33m\u001b[0m\u001b[0m\n\u001b[0m",
      "\u001b[1;31mModuleNotFoundError\u001b[0m: No module named 'Pysces'"
     ]
    }
   ],
   "source": [
    "from Pysces import *"
   ]
  },
  {
   "cell_type": "markdown",
   "metadata": {},
   "source": [
    "# Normalizing Particle in a Box"
   ]
  },
  {
   "cell_type": "markdown",
   "metadata": {},
   "source": [
    "This can be done in one line, using the PIB() function, and the normalize_constant() function\n",
    "\n",
    "For the PIB() function, there are three parameters:\n",
    "\n",
    "    x: a variable.\n",
    "    L: Length of the box.\n",
    "    n: an integer.\n",
    "\n",
    "This looks like:\n",
    "\n",
    "PIB(x, L, n)\n",
    "\n",
    "These variables do not change, unless given explicit values.\n",
    "\n",
    "For the normalize_constant() function, there are four parameters:\n",
    "\n",
    "    WaveFunc: The WaveFunction/expression of interest\n",
    "    var: What the integral is taken with respect to\n",
    "    lower: The lower bound of the integral. If bounds are not listed, this is -oo\n",
    "    upper: The upper bound of the integral. If bounds are not listed, this is oo\n",
    "    \n",
    "This looks like:\n",
    "\n",
    "normalize_constant(WaveFunc, var, lower, upper)\n",
    "\n",
    "Since this is a Particle in a Box example, the lower bound is \"0\", and the upper bound is \"L\", the length of the box.\n"
   ]
  },
  {
   "cell_type": "code",
   "execution_count": 2,
   "metadata": {
    "scrolled": false
   },
   "outputs": [
    {
     "data": {
      "text/latex": [
       "$$\\begin{cases} \\frac{\\sqrt{2}}{\\sqrt{L}} & \\text{for}\\: \\frac{n \\pi}{L} \\neq 0 \\\\\\tilde{\\infty} & \\text{otherwise} \\end{cases}$$"
      ],
      "text/plain": [
       "⎧√2       n⋅π    \n",
       "⎪──   for ─── ≠ 0\n",
       "⎨√L        L     \n",
       "⎪                \n",
       "⎩zoo   otherwise "
      ]
     },
     "execution_count": 2,
     "metadata": {},
     "output_type": "execute_result"
    }
   ],
   "source": [
    "normalize_constant(PIB(x, L, n), x, 0, L)"
   ]
  },
  {
   "cell_type": "markdown",
   "metadata": {},
   "source": [
    "The above is a piecewise function. The top expression is what we are interested in, and is the NORMALIZATION CONSTANT for the given WaveFunction.\n",
    "\n",
    "The value can then be multiplied by the original WaveFunction to yield the normalized Particle in a Box."
   ]
  },
  {
   "cell_type": "code",
   "execution_count": 3,
   "metadata": {},
   "outputs": [
    {
     "data": {
      "image/png": "[encoded data removed]",
      "text/latex": [
       "$$\\sqrt{2} \\sqrt{\\frac{1}{L}} \\sin{\\left (\\frac{n \\pi x}{L} \\right )}$$"
      ],
      "text/plain": [
       "       ___           \n",
       "      ╱ 1     ⎛n⋅π⋅x⎞\n",
       "√2⋅  ╱  ─ ⋅sin⎜─────⎟\n",
       "   ╲╱   L     ⎝  L  ⎠"
      ]
     },
     "execution_count": 3,
     "metadata": {},
     "output_type": "execute_result"
    }
   ],
   "source": [
    "(sqrt(2/L))*PIB(x, L, n)"
   ]
  },
  {
   "cell_type": "markdown",
   "metadata": {},
   "source": [
    "# Expectation Value of the Position Operator for Particle in a Box"
   ]
  },
  {
   "cell_type": "markdown",
   "metadata": {},
   "source": [
    "We can also do a simple positional expectation value using the normalized Particle in a Box.\n",
    "\n",
    "The normalized Particle in a Box, although we were able to compute it, is given by the function PIB_normalize() with the same parameters as the PIB() function.\n",
    "\n",
    "The expectation_value() function calculates the expectation value for an operator of interest. In this example we are using the \"x\", or positional, operator.\n",
    "\n",
    "The expectation_value() function has SIX positional arguments:\n",
    "\n",
    "    wavefunc_1: The \"bra\" normalized WaveFunction\n",
    "    operator: The operator of interest\n",
    "    wavefunc_2: The \"ket\" normalized WaveFunction\n",
    "    var: What the integral is taken with respect to\n",
    "    lower: The lower bound of the integral. If bounds are not listed, this is -oo\n",
    "    upper: The upper bound of the integral. If bounds are not listed, this is oo\n",
    "\n",
    "This looks like:\n",
    "\n",
    "expectation_value(wavefunc_1, operator, wavefunc_2, var, lower, upper)\n",
    "\n",
    "Since this is a Particle in a Box example, the lower bound is \"0\", and the upper bound is \"L\", the length of the box.\n",
    "\n",
    "\n"
   ]
  },
  {
   "cell_type": "code",
   "execution_count": 10,
   "metadata": {},
   "outputs": [
    {
     "data": {
      "text/latex": [
       "$$\\begin{cases} 0 & \\text{for}\\: n = 0 \\vee \\pi = 0 \\\\\\frac{L}{2} & \\text{otherwise} \\end{cases}$$"
      ],
      "text/plain": [
       "⎧0  for n = 0 ∨ π = 0\n",
       "⎪                    \n",
       "⎨L                   \n",
       "⎪─      otherwise    \n",
       "⎩2                   "
      ]
     },
     "execution_count": 10,
     "metadata": {},
     "output_type": "execute_result"
    }
   ],
   "source": [
    "W = expectation_value(PIB_normalized(x, L, n), x, PIB_normalized(x, L, n), x, 0, L)\n",
    "\n",
    "simplify(W)"
   ]
  },
  {
   "cell_type": "markdown",
   "metadata": {},
   "source": [
    "The expectation value is the average value of an operator for a given WaveFunction between certain bounds. This quantity, L/2, for the positional operator, indicates the most likely location to find the particle in a 1-dimensional box at L/2, which is the center of the box."
   ]
  },
  {
   "cell_type": "markdown",
   "metadata": {},
   "source": [
    "# Expectation Value of the Kinetic Energy Operator for Particle in a Box"
   ]
  },
  {
   "cell_type": "code",
   "execution_count": 11,
   "metadata": {},
   "outputs": [
    {
     "data": {
      "text/latex": [
       "$$\\begin{cases} \\frac{\\pi^{2} h_{b}^{2} n^{2}}{2 L^{2} m} & \\text{for}\\: \\frac{\\pi n}{L} \\neq 0 \\\\0 & \\text{otherwise} \\end{cases}$$"
      ],
      "text/plain": [
       "⎧ 2    2  2             \n",
       "⎪π ⋅h_b ⋅n       π⋅n    \n",
       "⎪──────────  for ─── ≠ 0\n",
       "⎨     2           L     \n",
       "⎪  2⋅L ⋅m               \n",
       "⎪                       \n",
       "⎩    0        otherwise "
      ]
     },
     "execution_count": 11,
     "metadata": {},
     "output_type": "execute_result"
    }
   ],
   "source": [
    "expectation_value(PIB_normalized(x, L, n), kinetic_energy(x), PIB_normalized(x, L, n), x, 0, L)"
   ]
  },
  {
   "cell_type": "markdown",
   "metadata": {},
   "source": [
    "# Graphing the WaveFunction of Particle in a Box"
   ]
  },
  {
   "cell_type": "markdown",
   "metadata": {},
   "source": [
    "Again, we know that the PIB_normalized() function has the following parameters:\n",
    "\n",
    "    x: a variable.\n",
    "    L: Length of the box.\n",
    "    n: an integer.\n",
    "\n",
    "Let's take n = 1 , and L = 1\n",
    "\n",
    "Note that L is the length of the box, and so it is easiest to observe when equal to 1\n",
    "\n",
    "We can then use plot_function() , which has four arguments:\n",
    "\n",
    "    func: The function/Normalized WaveFunction of interest\n",
    "    B: This is \"x\" usually (x-axis)\n",
    "    lower: The lower bound of the x-axis domain (for Particle in a Box, 0)\n",
    "    upper: The upper bound of the x-axis domain (for Particle in a Box, 1)\n",
    "    \n",
    "\n",
    "This looks like:\n",
    "\n",
    "plot_function(func, B, lower, upper)"
   ]
  },
  {
   "cell_type": "code",
   "execution_count": 13,
   "metadata": {},
   "outputs": [
    {
     "data": {
      "image/png": "[encoded data removed]",
      "text/plain": [
       "<Figure size 432x288 with 1 Axes>"
      ]
     },
     "metadata": {
      "needs_background": "light"
     },
     "output_type": "display_data"
    },
    {
     "data": {
      "text/plain": [
       "<sympy.plotting.plot.Plot at 0x1e19a500198>"
      ]
     },
     "execution_count": 13,
     "metadata": {},
     "output_type": "execute_result"
    }
   ],
   "source": [
    "L = 1\n",
    "n = 1\n",
    "\n",
    "plot_function(PIB_normalized(x, 1, 1), x, 0, 1)"
   ]
  },
  {
   "cell_type": "markdown",
   "metadata": {},
   "source": [
    "Note: The WaveFunction will not print if the n and L arguments are not assigned numerical values.\n",
    "\n",
    "L should be kept at L = 1, but the n argument can change to any integer.\n",
    "\n",
    "Sometimes, the plot is not graphed when the cell is run. It normally has to be run twice to have the correct output."
   ]
  },
  {
   "cell_type": "code",
   "execution_count": null,
   "metadata": {},
   "outputs": [],
   "source": []
  }
 ],
 "metadata": {
  "kernelspec": {
   "display_name": "Python 3",
   "language": "python",
   "name": "python3"
  },
  "language_info": {
   "codemirror_mode": {
    "name": "ipython",
    "version": 3
   },
   "file_extension": ".py",
   "mimetype": "text/x-python",
   "name": "python",
   "nbconvert_exporter": "python",
   "pygments_lexer": "ipython3",
   "version": "3.8.8"
  }
 },
 "nbformat": 4,
 "nbformat_minor": 2
}
