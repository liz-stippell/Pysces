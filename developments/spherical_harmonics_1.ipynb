{
 "cells": [
  {
   "cell_type": "code",
   "execution_count": 1,
   "metadata": {
    "scrolled": true
   },
   "outputs": [],
   "source": [
    "from Pysces import *"
   ]
  },
  {
   "cell_type": "markdown",
   "metadata": {},
   "source": [
    "Certain operators for spherical harmonics are defined in the Pysces library, such as L_2, L_z, the L_lowering_operator, the L_raising_operator, and the L_x operator."
   ]
  },
  {
   "cell_type": "markdown",
   "metadata": {},
   "source": [
    "### The L_2() function"
   ]
  },
  {
   "cell_type": "markdown",
   "metadata": {},
   "source": [
    "Note that this is the \"L^2\" operator, which is an eigenvalue in spherical harmonics and is the vector magnitude."
   ]
  },
  {
   "cell_type": "code",
   "execution_count": 2,
   "metadata": {},
   "outputs": [
    {
     "data": {
      "image/png": "[encoded data removed]",
      "text/latex": [
       "$$h_{b}^{2} j \\left(j + 1\\right)$$"
      ],
      "text/plain": [
       "   2          \n",
       "h_b ⋅j⋅(j + 1)"
      ]
     },
     "execution_count": 2,
     "metadata": {},
     "output_type": "execute_result"
    }
   ],
   "source": [
    "L_2(j, m)"
   ]
  },
  {
   "cell_type": "markdown",
   "metadata": {},
   "source": [
    "This is the general notation, with j and m variables.\n",
    "\n",
    "Let's look at an example, where:\n",
    "\n",
    "j = 2\n",
    "\n",
    "m = 1"
   ]
  },
  {
   "cell_type": "code",
   "execution_count": 3,
   "metadata": {},
   "outputs": [
    {
     "data": {
      "image/png": "[encoded data removed]",
      "text/latex": [
       "$$6 h_{b}^{2}$$"
      ],
      "text/plain": [
       "     2\n",
       "6⋅h_b "
      ]
     },
     "execution_count": 3,
     "metadata": {},
     "output_type": "execute_result"
    }
   ],
   "source": [
    "L_2(2, 1)"
   ]
  },
  {
   "cell_type": "markdown",
   "metadata": {},
   "source": [
    "Please note that the dirac notation is automatically simplified, and therefore is not shown."
   ]
  },
  {
   "cell_type": "markdown",
   "metadata": {},
   "source": [
    "### The L_z() function"
   ]
  },
  {
   "cell_type": "markdown",
   "metadata": {},
   "source": [
    "Now, let's look at the L_z eigenvalue, which in spherical harmonics is the projection on a preferred direction, in this case the z direction."
   ]
  },
  {
   "cell_type": "code",
   "execution_count": 4,
   "metadata": {},
   "outputs": [
    {
     "data": {
      "image/png": "[encoded data removed]",
      "text/latex": [
       "$$h_{b} m$$"
      ],
      "text/plain": [
       "h_b⋅m"
      ]
     },
     "execution_count": 4,
     "metadata": {},
     "output_type": "execute_result"
    }
   ],
   "source": [
    "L_z(j, m)"
   ]
  },
  {
   "cell_type": "markdown",
   "metadata": {},
   "source": [
    "This is the general notation, with j and m variables.\n",
    "\n",
    "Let's look at an example, where:\n",
    "\n",
    "j = 2\n",
    "\n",
    "m = 1"
   ]
  },
  {
   "cell_type": "code",
   "execution_count": 5,
   "metadata": {},
   "outputs": [
    {
     "data": {
      "image/png": "[encoded data removed]",
      "text/latex": [
       "$$h_{b}$$"
      ],
      "text/plain": [
       "h_b"
      ]
     },
     "execution_count": 5,
     "metadata": {},
     "output_type": "execute_result"
    }
   ],
   "source": [
    "L_z(2, 1)"
   ]
  },
  {
   "cell_type": "markdown",
   "metadata": {},
   "source": [
    "### The L_lowering_operator() function and the L_raising_operator() function"
   ]
  },
  {
   "cell_type": "markdown",
   "metadata": {},
   "source": [
    "We also have defined the lowering and raising operators in spherical harmonics."
   ]
  },
  {
   "cell_type": "raw",
   "metadata": {},
   "source": [
    "def L_raising_operator(var_1 = None, var_2 = None):\n",
    "    \"\"\"\n",
    "    The following may be important notation:\n",
    "    Bra(str(j), str(\",\"), str(m))*h_b*sqrt(j*(j+1)-m*(m+1))*Ket(str(j), str(','), str(m+1))\n",
    "    \"\"\"\n",
    "    \n",
    "    L_x, L_y, h_b, j, m = symbols(\"L_x L_y h_b j m\")\n",
    "    if var_1 == None and var_2 == None:\n",
    "        return Operator(L_x) + I*Operator(L_y)\n",
    "    if (str(var_1), str(\",\"), str(var_2)) == (str(var_1), str(','), str(var_2+1)):\n",
    "        return h_b*sqrt(var_1*(var_1+1)-var_2*(var_2+1))\n",
    "    if var_1 == j and var_2 == m:\n",
    "        return Bra(str(j), str(\",\"), str(m))*h_b*sqrt(j*(j+1)-m*(m+1))*Ket(str(j), str(','), str(m+1))\n",
    "    else:\n",
    "        return 0"
   ]
  },
  {
   "cell_type": "code",
   "execution_count": 6,
   "metadata": {},
   "outputs": [
    {
     "data": {
      "image/png": "[encoded data removed]",
      "text/latex": [
       "$$h_{b} \\sqrt{j \\left(j + 1\\right) - m \\left(m - 1\\right)} {\\left\\langle j,m\\right|} {\\left|j,m - 1\\right\\rangle }$$"
      ],
      "text/plain": [
       "      _______________________                \n",
       "h_b⋅╲╱ j⋅(j + 1) - m⋅(m - 1) ⋅⟨j,m❘⋅❘j,m - 1⟩"
      ]
     },
     "metadata": {},
     "output_type": "display_data"
    },
    {
     "data": {
      "image/png": "[encoded data removed]",
      "text/latex": [
       "$$h_{b} \\sqrt{j \\left(j + 1\\right) - m \\left(m + 1\\right)} {\\left\\langle j,m\\right|} {\\left|j,m + 1\\right\\rangle }$$"
      ],
      "text/plain": [
       "      _______________________                \n",
       "h_b⋅╲╱ j⋅(j + 1) - m⋅(m + 1) ⋅⟨j,m❘⋅❘j,m + 1⟩"
      ]
     },
     "metadata": {},
     "output_type": "display_data"
    }
   ],
   "source": [
    "display(L_lowering(j, m))\n",
    "\n",
    "display(L_raising(j, m))"
   ]
  },
  {
   "cell_type": "markdown",
   "metadata": {},
   "source": [
    "Let's look at an example where:\n",
    "\n",
    "j = 2\n",
    "\n",
    "m = 2\n",
    "\n",
    "for both the lowering and raising operators."
   ]
  },
  {
   "cell_type": "code",
   "execution_count": 7,
   "metadata": {
    "scrolled": true
   },
   "outputs": [
    {
     "data": {
      "image/png": "[encoded data removed]",
      "text/latex": [
       "$$0$$"
      ],
      "text/plain": [
       "0"
      ]
     },
     "execution_count": 7,
     "metadata": {},
     "output_type": "execute_result"
    }
   ],
   "source": [
    "L_lowering(2, 2)"
   ]
  },
  {
   "cell_type": "code",
   "execution_count": 8,
   "metadata": {},
   "outputs": [
    {
     "data": {
      "image/png": "[encoded data removed]",
      "text/latex": [
       "$$0$$"
      ],
      "text/plain": [
       "0"
      ]
     },
     "execution_count": 8,
     "metadata": {},
     "output_type": "execute_result"
    }
   ],
   "source": [
    "L_raising(2, 2)"
   ]
  },
  {
   "cell_type": "markdown",
   "metadata": {},
   "source": [
    "These can be used in the L_x operator for spherical harmonics. The general expression can be found using the L_x() function without any variables:"
   ]
  },
  {
   "cell_type": "code",
   "execution_count": 9,
   "metadata": {},
   "outputs": [
    {
     "data": {
      "image/png": "[encoded data removed]",
      "text/latex": [
       "$$0.5 L_{+} + 0.5 L_{-}$$"
      ],
      "text/plain": [
       "0.5⋅L₊ + 0.5⋅L₋"
      ]
     },
     "execution_count": 9,
     "metadata": {},
     "output_type": "execute_result"
    }
   ],
   "source": [
    "L_x()"
   ]
  },
  {
   "cell_type": "markdown",
   "metadata": {},
   "source": [
    "It can also be shown as:"
   ]
  },
  {
   "cell_type": "code",
   "execution_count": 10,
   "metadata": {
    "scrolled": true
   },
   "outputs": [
    {
     "data": {
      "image/png": "[encoded data removed]",
      "text/latex": [
       "$$0.5 \\left(h_{b} \\sqrt{j \\left(j + 1\\right) - m \\left(m - 1\\right)} {\\left\\langle j,m\\right|} {\\left|j,m - 1\\right\\rangle } + h_{b} \\sqrt{j \\left(j + 1\\right) - m \\left(m + 1\\right)} {\\left\\langle j,m\\right|} {\\left|j,m + 1\\right\\rangle }\\right)$$"
      ],
      "text/plain": [
       "    ⎛      _______________________                         ___________________\n",
       "0.5⋅⎝h_b⋅╲╱ j⋅(j + 1) - m⋅(m - 1) ⋅⟨j,m❘⋅❘j,m - 1⟩ + h_b⋅╲╱ j⋅(j + 1) - m⋅(m +\n",
       "\n",
       "____                ⎞\n",
       " 1) ⋅⟨j,m❘⋅❘j,m + 1⟩⎠"
      ]
     },
     "execution_count": 10,
     "metadata": {},
     "output_type": "execute_result"
    }
   ],
   "source": [
    "L_x(j, m)"
   ]
  },
  {
   "cell_type": "markdown",
   "metadata": {},
   "source": [
    "The following example is used with:\n",
    "\n",
    "j = 2\n",
    "\n",
    "m = 2"
   ]
  },
  {
   "cell_type": "code",
   "execution_count": 11,
   "metadata": {},
   "outputs": [
    {
     "data": {
      "image/png": "[encoded data removed]",
      "text/latex": [
       "$$0.0$$"
      ],
      "text/plain": [
       "0.0"
      ]
     },
     "execution_count": 11,
     "metadata": {},
     "output_type": "execute_result"
    }
   ],
   "source": [
    "L_x(2, 2)"
   ]
  },
  {
   "cell_type": "markdown",
   "metadata": {},
   "source": [
    "Since the \"bra\" and \"ket\" notation are different-valued, it equals zero, and therefore the entire expression is equal to zero."
   ]
  },
  {
   "cell_type": "code",
   "execution_count": null,
   "metadata": {},
   "outputs": [],
   "source": []
  }
 ],
 "metadata": {
  "kernelspec": {
   "display_name": "Python 3",
   "language": "python",
   "name": "python3"
  },
  "language_info": {
   "codemirror_mode": {
    "name": "ipython",
    "version": 3
   },
   "file_extension": ".py",
   "mimetype": "text/x-python",
   "name": "python",
   "nbconvert_exporter": "python",
   "pygments_lexer": "ipython3",
   "version": "3.7.1"
  }
 },
 "nbformat": 4,
 "nbformat_minor": 2
}
