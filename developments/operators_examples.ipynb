<<<<<<< HEAD
{
 "cells": [
  {
   "cell_type": "code",
   "execution_count": 1,
   "metadata": {
    "scrolled": true
   },
   "outputs": [],
   "source": [
    "from Pysces import *"
   ]
  },
  {
   "cell_type": "markdown",
   "metadata": {},
   "source": [
    "# Example 1:\n",
    "\n",
    "[p_x, x]"
   ]
  },
  {
   "cell_type": "markdown",
   "metadata": {},
   "source": [
    "The comm() function can be called for a commutator problem.\n",
    "\n",
    "    commutator_1: the first operator\n",
    "    commutator_2: the second operator\n",
    "    aux: the auxiliary function\n",
    "    \n",
    "This looks like:\n",
    "\n",
    "comm(commutator_1, commutator_2, aux)"
   ]
  },
  {
   "cell_type": "code",
   "execution_count": 2,
   "metadata": {},
   "outputs": [
    {
     "data": {
      "image/png": "iVBORw0KGgoAAAANSUhEUgAAAFAAAAAXCAYAAACcTMh5AAAABHNCSVQICAgIfAhkiAAAA7RJREFUWIXtmEloFFEQhr8xGrO4gCCouKEhJoLGDY074oYeXQ7xoqKCuIELil70oBhcLnpwQSSIGgWDiogSEQ8uuBE3SPSgRkHjcnDFuOuhqpmXl9czne6JiswPw/T89eqv19316tUbSOOfwwrgF1Diw89qhpjtgB1ALfBV46xR2wHgFZAbQX+was6LoBEYhzVYvsUfVL6gGWKeUu3TwEZgA1AIDAF+Ii8vKo4DdUCbFGglRHfkIcUsvhr4CLRIcbwC5OGdddgqgbdAdgriDNU461Kg1WTkAj+AS82gvQi5sQUWn49k394UxqoBngAZKdRsgHHIzWyx+JHK7wD6Isv5BZKRV4BhIWJNV03XpwAo1evxPv6Vap9m8TGgTG2llm298pNDzDcQVuLeQJYpfxL4hNSsLUjN+gW8BNo2MdYIpNa9Ar7p9QbkJjOAm8B3/DePImRVVNMwo7brnFyZO0Ft25o418A4pAH6WHwZ8Qc1yLJVqG10iHgZyAu5a/G5yMO7l8Tfm9cc/b1Ofx/FXavbq/16iLkGQg3wwRH8rgae4vDZqLaJBrcJOBcgXj/1LbP4fOUrk/h3BeqR9mcJ8c0oM4FPPVJ+nKjFv664PgcNX2+juGhpZiFL7KFPTK/t6WVwpwm2TGar7zKLH048k5JhM/H7uQzkJBn/DMluAFpaxofA5wBBPTw3rouQzKuyxhRpHL9sGAS8Ax4b3ACgPEB8rxzcsvh6/c4KoPHauJ6HlIREyDb0UwpvCcyxeK/NmO/waYtk7QWD60j8xHIeuaE7QLHD/yLSqtgbUBfVSNY2lah/nY7flWR8Cx3vt5oiYb9Oor/F71N+oMNnDI13tUnKVQFjkZbkDNJ/mSsmBrwHHjh0Y8ju/Nph8zAVOfbdQ15aDVJqEp2UCnVuFQnGhMZtJLXtslAFfAFaOXyW0/h8vFrH9zC4/jouz+D6KHfEZz7HHD4eRiGZ/QjorNwMHX/CRw9gro5ZkmBMKLRG3qa9vWcqf8PHzzsfm21POdIOmehN4/N1iXKrfbQ9+2KLL0KOd3Wqa+IGiVuqcmQD6eZjDw3v34rdPvweHz9X21MDrLLGzURu2szurao9wUc7E2k3rhlcnnJvaFxqIN4oX3XY2iMrLFGG/nXkIG94rcHFkM1gZwi9tfjX36ZiKeEb/j+GYqSQVyPn4zxkmdcCHULoZSGbz6mI88pGWrZjEXWaHQuB+8gB/ylS6CuAThE0xyDn4yh/qBYi5+yeETTSSCONNP47/AYDTQT6sJgWgAAAAABJRU5ErkJggg==\n",
      "text/latex": [
       "$$- i h_{b} f{\\left (x \\right )}$$"
      ],
      "text/plain": [
       "-ⅈ⋅h_b⋅f(x)"
      ]
     },
     "execution_count": 2,
     "metadata": {},
     "output_type": "execute_result"
    }
   ],
   "source": [
    "comm(p_operator(x), x, f(x))"
   ]
  },
  {
   "cell_type": "markdown",
   "metadata": {},
   "source": [
    "Note that the answer is retrieved automatically by this notation."
   ]
  },
  {
   "cell_type": "markdown",
   "metadata": {},
   "source": [
    "# Example 2:\n",
    "\n",
    "#### [L_y, z]"
   ]
  },
  {
   "cell_type": "markdown",
   "metadata": {},
   "source": [
    "This example also utilizes the comm() function:"
   ]
  },
  {
   "cell_type": "code",
   "execution_count": 4,
   "metadata": {},
   "outputs": [
    {
     "data": {
      "image/png": "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\n",
      "text/latex": [
       "$$- \\left[z,p_{x} z\\right] f{\\left (z \\right )} + \\left[z,p_{z} x\\right] f{\\left (z \\right )}$$"
      ],
      "text/plain": [
       "-[z,pₓ⋅z]⋅f(z) + [z,p_z⋅x]⋅f(z)"
      ]
     },
     "execution_count": 4,
     "metadata": {},
     "output_type": "execute_result"
    }
   ],
   "source": [
    "comm(L_y, z, f(z))"
   ]
  },
  {
   "cell_type": "markdown",
   "metadata": {},
   "source": [
    "Note that this is not the final answer. One more step is needed, using the comm() function again for each commutator:"
   ]
  },
  {
   "cell_type": "code",
   "execution_count": 5,
   "metadata": {},
   "outputs": [
    {
     "data": {
      "image/png": "iVBORw0KGgoAAAANSUhEUgAAAEkAAAAXCAYAAABH92JbAAAABHNCSVQICAgIfAhkiAAABCNJREFUWIXtmG9o1lUUxz/bbDmXjYQgIzJkzE3TUqOszIg2Rd8EWS/sRZtYUKJBf8zyTQWK/fGVif2lppQoNMx/lAuR0EWJrangkvLPglrqi1IrKW3rxfdcnvtc7332+OwZvXm+MH6733vuOef3u+ece+4DJRSEZ4B+YF6Ee+R/8SgbVwOrgRPAP8ivpTa3HjgFVBegd6rpWpCP8AYTrvO4j4yrL8B4sbEN+bIDWA68DDQAtwF9aEMLxWagF7hqIMEb0cco87jDwB9A+SAcKAbq0Qf6PDLXDvwOVA1C/+2mf9nlLqwG/gX2DsJ4sbAQvcTjAV+HoujdItjoBnqAipTAfebE6x53t3GrgfEo9X5FkfUVcEeBzrSb3gcDvgxotblXjZtr49hfvcn1A/cnbHXkWN8PfOnJvmTcLEcMC5RNsed3HjfVnmOA/cAuVCAnAHOArUAtcC7hYApLgE5UV7agaAVYBTQD7wEvGNcLvIIi6RpghfH9wA9Ao63/OmFrM/BFhJ+Pystuj+uwZxOwM6bsYzM8zuNajTtJ5iM6tNncPQnnBoLT3WLjZTbexKX1rwL4CzgY8NXAReDQZdp+w2x9GNiqMX5famE3igh/0UFbNDsiv9zmmgJ+BfGdC3EDcB4d54vIFOXKiOxEm28N+Drj2/OwB0rntbZmDdkHlMN5VFIugSvQezxuOHABOJow6NqFsQG/A6VNPlhJpjZ0ACMScs0m81TA30km+gZCBbDO5F/LIfczik4gO2JusXFnwA0jvUtTgDPA8YC/FejKw2mA097/C1BKpWxBdr0E7TpoQ3PhCmAj8CjqrZbmkK3y9GbBhXuLx7kj97GI/EgUebsD/loy3fku9NIHgGkRHfPQ0d1ra97K4fgekx0Z8Nfb2lwtynBgu8k9m0MOFCh9JLLnA1MyyePeN25yRH6GzYVpNdP4TuBedER/hnoP/zSdg64Vh9CH7UapHevqy4CzwJHE3CmyI9JHNdqsPuDJhIyPBvO/LTbZhULMf5FO4G8UqiGeJn6fe97WjPG4SSZba+PpKMKOAaONe8hkPo3YGmdzG2OOA58E+h1qUJ27iNIsH8w3XYsc4T7IlahR7CJTsCqBm1GqXIgoc/3TtwE/2Zzu8bg/7VmO6tx2VMuaUKpha/YDD6CWwj9AXD3y66WPNtRwzgJ+9PgNwF3oOB+LalGIlWhTHWaiMrIlFHQ34Lcj3DsJx2LtguOfC7iH0b2qFh2tv5Gd1g6NZjNsCl1P05jwpdL0fuNx5eZfrk77ZKCnBmVTLJqLhhEoEl/0uDJUVN8cSsNmM1U/88ViBtcc54VpKDUPoztdLbrrnQBGDaVhdIL1oJ9SCkEV8AtK+yHFE8D36NL6EyrObcB1Q23YMANdUAv50a0B1aybiuhPCSWUUELR8R/LJRxsBryLUwAAAABJRU5ErkJggg==\n",
      "text/latex": [
       "$$i h_{b} x f{\\left (z \\right )}$$"
      ],
      "text/plain": [
       "ⅈ⋅h_b⋅x⋅f(z)"
      ]
     },
     "execution_count": 5,
     "metadata": {},
     "output_type": "execute_result"
    }
   ],
   "source": [
    "comm(Operator(z), p_operator(z)*(x), f(z)) - comm(z, p_operator(x)*z, f(z))"
   ]
  },
  {
   "cell_type": "markdown",
   "metadata": {},
   "source": [
    "# Example 3:\n",
    "\n",
    "#### [L_x, L_y]"
   ]
  },
  {
   "cell_type": "markdown",
   "metadata": {},
   "source": [
    "Once again, this question is started by using the comm() function:"
   ]
  },
  {
   "cell_type": "code",
   "execution_count": 6,
   "metadata": {},
   "outputs": [
    {
     "data": {
      "image/png": "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\n",
      "text/latex": [
       "$$\\left[p_{x} z,p_{y} z\\right] f{\\left (z \\right )} - \\left[p_{x} z,p_{z} y\\right] f{\\left (z \\right )} + \\left[p_{y} z,p_{z} x\\right] f{\\left (z \\right )} + \\left[p_{z} x,p_{z} y\\right] f{\\left (z \\right )}$$"
      ],
      "text/plain": [
       "[pₓ⋅z,p_y⋅z]⋅f(z) - [pₓ⋅z,p_z⋅y]⋅f(z) + [p_y⋅z,p_z⋅x]⋅f(z) + [p_z⋅x,p_z⋅y]⋅f(z\n",
       ")"
      ]
     },
     "execution_count": 6,
     "metadata": {},
     "output_type": "execute_result"
    }
   ],
   "source": [
    "comm(L_x, L_y, f(z))"
   ]
  },
  {
   "cell_type": "markdown",
   "metadata": {},
   "source": [
    "You can then use the factorization() function which has the following parameters:\n",
    "\n",
    "    expr: the expression of interest\n",
    "    var: the variable of interest. This is most likely going to be the same variable used in the auxiliary function.\n",
    "    \n",
    "This looks like:\n",
    "\n",
    "factorization(expr, var)"
   ]
  },
  {
   "cell_type": "code",
   "execution_count": 7,
   "metadata": {},
   "outputs": [
    {
     "data": {
      "image/png": "iVBORw0KGgoAAAANSUhEUgAAAFMAAAAaCAYAAADL5WCkAAAABHNCSVQICAgIfAhkiAAABKxJREFUaIHtmGuMXVMUx393qo9xVVFCRFRkzKOlnU6L0iiinYb4pOmH9gMR0YjHh2mF1gevtIl4RLQliki9RU08GiltEI/WEMYoZipeLWKoR2l1GnQ6PvzXZt9j73Pv3HtGI7n/5Obcs9Ze/73O3muvvfaGKoYUC4EBYN5/0Mf8IeA+GFgObAX+sH6uNd3DwHYgXwH/FOO8pJTGj1vjek/2isnOqMAJH48aX2NGfD7WGvcLwFLgRqAJmArsQxNZKZ4BeoGDijU8Fn1kzt5zwC9AfynGJaIb+A2oyYjPoREN5IsB3Xr0HbUZ9HOK9XPdYA3rzbA7AydAS6wfeDMjPh+XI18vTcjrUVTel2FfPcA2YFiswdnmzK2ebJ7JHsnIienGtxwYj5b8dyhSNwGnlsE5xzhDv0bgFvt/TsB2kekWRbgbgN+B1xPyG8xuthMckGjQYs/3PdlUe74b/ZTBYYo9xxnny2hjmACcBzwP1AG7BsHZC9yEIvNQYJnJB4BPgZloNXQEbN0KmRbhXoGi78qEfKM9ZwEvhQwfMwcaPNlrJpse6WywWG183/PP5Dm0U/5GNwzoAzYn5HlgL/BhxG642X0V0M01f+4K6MaY7p2YQz0oItzGUAPsNGcqKSd8bDYnzg3olppuVkK+DNhQhPcks12dkLucvz7F1gXM0Z4sD3yNJn1MxG4PSlFA4W6at467ULJ2jowGtgC7U5wpFaNQmfIFsC6gP96enyfkzcAHRbhdlHcm5GPtuSPF1i1Zf6lfDxyDatRfI3Y/A4e7F38wJ9m770zW+XISytOxKGlBjn+ZkDejSU5DKN+Dogc0kTG4wXSbXyPQBrwFPJRiV+vxFwxm2ubzXgqhwzf8uyBuRjvheHt3m0+IbzRwgvU/4MmPQMtvH9qs+lCUJjeMFrNLDvp2e44ljk1m6zhXohx8RcIXHzXAIR5/AR40w4me7A2TnZbiiMMa4ImE7FVzzOEB45scsJ9hutsT8laTdwJnoqhZh2o8V43kUG7/JMCbQx/8QxH/P0apbL71d0+R9k3Wrj2k7EIh6xysQbXfXko7NSwEPvPe56Cc4kdEJ4rU4QH7NsLn9WvMZpwnm2ht6+y9wd6fjPj2dKJ9CKuszS408IeltAW42Nr/XTK5gRuJlmIXGjzQyOfRbK2IEP4ILLb/HcAd5sRuVPjfDPxk+hHAiWiJ/hngiqWAyWgwtnkytxm6NBXbfBza0eTOpnDCfWwEFqAjcxsKhDS0otr1uaTC3YTc68kuJH6qcD//DDwSRVArGuAtFEag62NVxLlkWebLr07I5qJztguG24x7ZoR7BCph3o7oQbWtqxtzKe1ApdIe4Nki7SpCB4rincD5GfAdiFbKEk+WQ6eW2GqJYQnxfA06efUDJ5fAdRXZ3qIFcSfadYPHqzIwDaWEblS21KGz/FaK57QkRqFUsTagc5vOyoAuiVrgW5R6hhQXoUiakBHfZShdXICOe30o/x1VJt8MdEGRR1eNi4H7UXr6CK2EYmhCd6THlelDydgA3D3UnWSEBSgadwBPUXiU3G+oAY5EF6W96NamijJxFsqTPcDp+9eVKqqooooq/i/4C2/uKdpi08ODAAAAAElFTkSuQmCC\n",
      "text/latex": [
       "$$i L_{y} h_{b} f{\\left (y \\right )}$$"
      ],
      "text/plain": [
       "ⅈ⋅L_y⋅h_b⋅f(y)"
      ]
     },
     "execution_count": 7,
     "metadata": {},
     "output_type": "execute_result"
    }
   ],
   "source": [
    "S = comm(L_z, L_x, f(y))\n",
    "\n",
    "S\n",
    "\n",
    "factorization(S, y)"
   ]
  },
  {
   "cell_type": "markdown",
   "metadata": {},
   "source": [
    "###### This last example is still under development."
   ]
  },
  {
   "cell_type": "code",
   "execution_count": null,
   "metadata": {},
   "outputs": [],
   "source": []
  }
 ],
 "metadata": {
  "kernelspec": {
   "display_name": "Python 3",
   "language": "python",
   "name": "python3"
  },
  "language_info": {
   "codemirror_mode": {
    "name": "ipython",
    "version": 3
   },
   "file_extension": ".py",
   "mimetype": "text/x-python",
   "name": "python",
   "nbconvert_exporter": "python",
   "pygments_lexer": "ipython3",
   "version": "3.7.1"
  }
 },
 "nbformat": 4,
 "nbformat_minor": 2
}
=======
{
 "cells": [
  {
   "cell_type": "code",
   "execution_count": 13,
   "metadata": {
    "scrolled": true
   },
   "outputs": [],
   "source": [
    "from pysces import *"
   ]
  },
  {
   "cell_type": "markdown",
   "metadata": {},
   "source": [
    "# Example 1:\n",
    "\n",
    "[p_x, x]"
   ]
  },
  {
   "cell_type": "markdown",
   "metadata": {},
   "source": [
    "The comm() function can be called for a commutator problem.\n",
    "\n",
    "    commutator_1: the first operator\n",
    "    commutator_2: the second operator\n",
    "    aux: the auxiliary function\n",
    "    \n",
    "This looks like:\n",
    "\n",
    "comm(commutator_1, commutator_2, aux)"
   ]
  },
  {
   "cell_type": "code",
   "execution_count": 7,
   "metadata": {
    "scrolled": true
   },
   "outputs": [
    {
     "data": {
      "image/png": "iVBORw0KGgoAAAANSUhEUgAAAFAAAAAXCAYAAACcTMh5AAAABHNCSVQICAgIfAhkiAAABDRJREFUWIXt2GuIVVUUB/DfmJbTUAYWRIVJmKaYXscgAwsqNaigsk9GWmRQQRSE9sJoFHvQg15EUF8qjcocqIhCKyIj6eGYPZVMswdqCkZlJfawD2uf5nTmnrnj3HvBYP5w2ff8995r7bP22mutfVo6OjoMoP8Y1ASZN2AfZpXwlzRB5+F4GFuwN+m5KfU9jR1oq0P+5CRzbrFjcB1Cy3BKarsKfHtq1zZB5zM4H69iKf7Ey2ktl2Iefq1DfhdexGI8j91ZRzMMeDMWYWOBbxcv8WWD9Z0kjLcC5xX6VuJnPNYAPXfhfVyHOzOyGUf4W2wQLp+hDWOwDn83WN9Zqe0s8KMxDcvwewP0fCDe6yoclJGNNuCZwnD3FPhK0rUW48Qx2y6Owmqc2g9dFyddj6bnx9PzPuGVV6BFHLlqWJnGzizwLXgy9d1d6HsOI8TGoPEGzOLcRwV+cmqPxxoME8H9bZwm4tVh+6lrGxZip4h5C9OvQ4SPafgL75XMny9Ow2I5j8J9uAxPiHCUx7upnZ4RjY6BZYki46dgaqG/U3hBBe/sh67VIibdiPXCcBnakrz1ypPHx1gijDVbeN2tolpYhqurzPkwtWdkRDM8cLfqCQQu19O461M7NMfdgdf7oG8cWqvIPFZ41bYa8xdgjzD+tUnvCmHQarH6pzR+REYUDbhFdxzpy29pbm6bCNzFRDEUY7EZr1VZ1Amp3ZTjKsJDaqHM44en9sca87/HgyK0PCK8eqaoJcuwC0dmD8UjvElYuK/Ymvs/UXeiUOAHi6BdDe1iZ7/OcRU82wf9ZTE3y7pD1cbO3P+5+K3G+Nac/B4GPLsPCstQK4EUC2sicZyIVbrLnqNwjPDiN0WS2SjKh2JCaE/z1hX4HakdrnfMEkljO47G9biml/GDcITcZjcyBtZKINUMOCmtoavAEbeHRWn+VlGO5De8RXj3RvxSkLtNeNaYXtZ7Lp7C55ggarwrRQlUhjFJ778b1mgD7sEXVfi9+KzKnMw780avpPEXiTJng7jXjsDI3LjRwoOLHk945SoRq0ZV6Z+K5SIGzhDGvk1sULH2y2NKat/KiEYZ8BCRET8VNVmGgzEen+CPKvOqHe9J4uW+yXFZKZJfb627dXYzOafAT8QrIu5O152pl4sa9QKcXiJzhqgtX8qIRhlwPIbo+TInl/AZJutZ9lT09Kos0WwucHqR3YkfMCfHjRJlyj5h2E2FObek9t4q8obhQmH87zKyUYV0l4gNfeUzjC08HyqSypAc1yKC+xL/9e756VeGvXhIXPwniU35SiSLMrzRy3rniKx+f55sxseEejBBeMdscT8eJQx3HG7vh7wHxMeNRXWuq1V4Z6fCbelAM2BFHKsFeEHEzlYRvHf1Q94esRlr1PdBdaT4WDGv2NEy8Em/PhxoHvi/w4AB68SAAevEP07Q+983E3rCAAAAAElFTkSuQmCC\n",
      "text/latex": [
       "$\\displaystyle - i h_{b} f{\\left(x \\right)}$"
      ],
      "text/plain": [
       "-ⅈ⋅h_b⋅f(x)"
      ]
     },
     "execution_count": 7,
     "metadata": {},
     "output_type": "execute_result"
    }
   ],
   "source": [
    "comm(p_operator(x), x, f(x))"
   ]
  },
  {
   "cell_type": "markdown",
   "metadata": {},
   "source": [
    "Note that the answer is retrieved automatically by this notation."
   ]
  },
  {
   "cell_type": "markdown",
   "metadata": {},
   "source": [
    "# Example 2:\n",
    "\n",
    "#### [L_y, z]"
   ]
  },
  {
   "cell_type": "markdown",
   "metadata": {},
   "source": [
    "This example also utilizes the comm() function:"
   ]
  },
  {
   "cell_type": "code",
   "execution_count": 8,
   "metadata": {},
   "outputs": [
    {
     "ename": "NameError",
     "evalue": "name 'L_y' is not defined",
     "output_type": "error",
     "traceback": [
      "\u001b[0;31m---------------------------------------------------------------------------\u001b[0m",
      "\u001b[0;31mNameError\u001b[0m                                 Traceback (most recent call last)",
      "\u001b[0;32m<ipython-input-8-223db75223c6>\u001b[0m in \u001b[0;36m<module>\u001b[0;34m\u001b[0m\n\u001b[0;32m----> 1\u001b[0;31m \u001b[0mcomm\u001b[0m\u001b[0;34m(\u001b[0m\u001b[0mL_y\u001b[0m\u001b[0;34m,\u001b[0m \u001b[0mz\u001b[0m\u001b[0;34m,\u001b[0m \u001b[0mf\u001b[0m\u001b[0;34m(\u001b[0m\u001b[0mz\u001b[0m\u001b[0;34m)\u001b[0m\u001b[0;34m)\u001b[0m\u001b[0;34m\u001b[0m\u001b[0;34m\u001b[0m\u001b[0m\n\u001b[0m",
      "\u001b[0;31mNameError\u001b[0m: name 'L_y' is not defined"
     ]
    }
   ],
   "source": [
    "comm(L_y, z, f(z))"
   ]
  },
  {
   "cell_type": "markdown",
   "metadata": {},
   "source": [
    "Note that this is not the final answer. One more step is needed, using the comm() function again for each commutator:"
   ]
  },
  {
   "cell_type": "code",
   "execution_count": 14,
   "metadata": {},
   "outputs": [
    {
     "data": {
      "image/png": "iVBORw0KGgoAAAANSUhEUgAAAEkAAAAXCAYAAABH92JbAAAABHNCSVQICAgIfAhkiAAABJtJREFUWIXt2GuIVlUUBuBnRi1NysKCqDAR0zSzmTFKwopCDSyorD9G2sWgEikIzQqjUTQljW5YUASWFWkOZXRBS6JC6aKmUSnZvUgzKLqb1Uw/1j7OmTPnm5lmpn7EvPCx57x7n732WXutd689VfX19XrQNqpLuBvQhCkl3CX/xaLawSG4F59hn1jXnNT3KPagfyfmHZPmml7s6F0y+OTUbs5xdand0gnj3Y3HcR5ewGP4E8+KdV+KWfilE/NuxjNYgJX4Oesoc9JNmI+dOa4uGf6wE8a7E8cLB63FuYW+dfgRD3Rh/kV4E9fh9owsS7cvsEOEHhG6w7EVjV1YQHfg7NQ2FPhhGI9V+K0L878lvv1q9MrIopPOEs65I8fVpHFbMFKE+G4RjhtxaicXtC7Zmlzgq7A89S1O3EXpeVl6fjA9N4noujK9t7KCrQ258WW/V3Njn8Qg4XS0TrdMe97JcWNSeyw2Yb0QyBMwSejBUPxUYYGVMFs4fgHW4K/EL8VleEikPuzCPMzAYViY+CYhC+PT+29UsPU0XirhrxAOeSXHbUjtBJHWFZ20pYQbi3GFvgYRCTV4vcICK2EbVgiHTBXRc4s4SVfhmtzYjUIrbsR21Of6+if721UW7KUl3BLhoOVCgzO8ndozMqKYbnUijYqiDZdrfbptT23fAr9Q+c4VMRd7xUfPTO+tFU4r6t9I9CtZw9FCP3Z1wB6RlveLU3CZSNW8rR/SmgZlRN5J/YUA5gW6L0bgE7xYYnBIaj8u8DUiUtrDV7hbpPJ9ImImi/qniEplyMDUft8Be71E5FwrdHem5gMqj+9wePaQd9JJmgU6z/UWIluGOuH5Twt8jXB2R/Bt7u/p+LUNW7TUS5pPs2I0F9FHiPI0Eblz2hjbLzdvCye1Jdr5wjLDwTgujc/vxhE4SkTjevHR24SmFTFF6MXu9Hx9GwuvS3aKzt+T2oEqo68Q74tFms1rY2w1Ds3NW+qkMtEuc1Jter/YV5vaWUIQ6/C1OJ7zB8UkPIL3MVrUJ1eJI72IKhHVO7U+RXeJaBxe8h4hI88nezNwZ4VxGYYne/s3o+ikvfigwO3DeyWTZVFW1Iia9M6Fov7YIUJ7EAanMeOwWmjSRPGRtwonLtYaw0TkFlONiK7XhIYMLfQNEFJxpjh4OlKNZxG/vyzIdvZAcXpsFXchOACjRKr8UTJZpVSsFQ74PMdlR3O1iIjnhJZN0HwqrRZ12Pk4XcuSor27Y4MoOM/BRzn+CZwmKukhWpYOGRbh99zzRFFzrcmIzEmjhLDlF3FiCZfHGK3LBSKSHi5wmcA3iiO+KX1Q8VS8WZQOS7TUsI446RshyllVXq251jkl/YrYo6XjBuACsYlfZmTmpM0iD/Mo4/IYUcIdJMS8T46rEoK8QuzykW3M+XIFm7PTrxL24R5xKa0VadkoUvSfYJoQ+Ra6VXbB7QpGiyiZKu50Q4VzjsFt3WyriLvE5Xx+ewMroJ+I5AaF20N3O6lGpNBcPIV3k/GxokD7N7FXbM4mnfun22BxcZ5V7Kjq+fdt++juSPpfosdJHUCPkzqAvwE1+hKk9LhprQAAAABJRU5ErkJggg==\n",
      "text/latex": [
       "$\\displaystyle i h_{b} x f{\\left(z \\right)}$"
      ],
      "text/plain": [
       "ⅈ⋅h_b⋅x⋅f(z)"
      ]
     },
     "execution_count": 14,
     "metadata": {},
     "output_type": "execute_result"
    }
   ],
   "source": [
    "comm(Operator(z), p_operator(z)*(x), f(z)) - comm(z, p_operator(x)*z, f(z))"
   ]
  },
  {
   "cell_type": "markdown",
   "metadata": {},
   "source": [
    "# Example 3:\n",
    "\n",
    "#### [L_x, L_y]"
   ]
  },
  {
   "cell_type": "markdown",
   "metadata": {},
   "source": [
    "Once again, this question is started by using the comm() function:"
   ]
  },
  {
   "cell_type": "code",
   "execution_count": 15,
   "metadata": {},
   "outputs": [
    {
     "ename": "NameError",
     "evalue": "name 'L_y' is not defined",
     "output_type": "error",
     "traceback": [
      "\u001b[0;31m---------------------------------------------------------------------------\u001b[0m",
      "\u001b[0;31mNameError\u001b[0m                                 Traceback (most recent call last)",
      "\u001b[0;32m<ipython-input-15-d38ddb81bf02>\u001b[0m in \u001b[0;36m<module>\u001b[0;34m\u001b[0m\n\u001b[0;32m----> 1\u001b[0;31m \u001b[0mcomm\u001b[0m\u001b[0;34m(\u001b[0m\u001b[0mL_x\u001b[0m\u001b[0;34m,\u001b[0m \u001b[0mL_y\u001b[0m\u001b[0;34m,\u001b[0m \u001b[0mf\u001b[0m\u001b[0;34m(\u001b[0m\u001b[0mz\u001b[0m\u001b[0;34m)\u001b[0m\u001b[0;34m)\u001b[0m\u001b[0;34m\u001b[0m\u001b[0;34m\u001b[0m\u001b[0m\n\u001b[0m",
      "\u001b[0;31mNameError\u001b[0m: name 'L_y' is not defined"
     ]
    }
   ],
   "source": [
    "comm(L_x, L_y, f(z))"
   ]
  },
  {
   "cell_type": "markdown",
   "metadata": {},
   "source": [
    "You can then use the factorization() function which has the following parameters:\n",
    "\n",
    "    expr: the expression of interest\n",
    "    var: the variable of interest. This is most likely going to be the same variable used in the auxiliary function.\n",
    "    \n",
    "This looks like:\n",
    "\n",
    "factorization(expr, var)"
   ]
  },
  {
   "cell_type": "code",
   "execution_count": 7,
   "metadata": {},
   "outputs": [
    {
     "data": {
      "image/png": "iVBORw0KGgoAAAANSUhEUgAAAFMAAAAaCAYAAADL5WCkAAAABHNCSVQICAgIfAhkiAAABKxJREFUaIHtmGuMXVMUx393qo9xVVFCRFRkzKOlnU6L0iiinYb4pOmH9gMR0YjHh2mF1gevtIl4RLQliki9RU08GiltEI/WEMYoZipeLWKoR2l1GnQ6PvzXZt9j73Pv3HtGI7n/5Obcs9Ze/73O3muvvfaGKoYUC4EBYN5/0Mf8IeA+GFgObAX+sH6uNd3DwHYgXwH/FOO8pJTGj1vjek/2isnOqMAJH48aX2NGfD7WGvcLwFLgRqAJmArsQxNZKZ4BeoGDijU8Fn1kzt5zwC9AfynGJaIb+A2oyYjPoREN5IsB3Xr0HbUZ9HOK9XPdYA3rzbA7AydAS6wfeDMjPh+XI18vTcjrUVTel2FfPcA2YFiswdnmzK2ebJ7JHsnIienGtxwYj5b8dyhSNwGnlsE5xzhDv0bgFvt/TsB2kekWRbgbgN+B1xPyG8xuthMckGjQYs/3PdlUe74b/ZTBYYo9xxnny2hjmACcBzwP1AG7BsHZC9yEIvNQYJnJB4BPgZloNXQEbN0KmRbhXoGi78qEfKM9ZwEvhQwfMwcaPNlrJpse6WywWG183/PP5Dm0U/5GNwzoAzYn5HlgL/BhxG642X0V0M01f+4K6MaY7p2YQz0oItzGUAPsNGcqKSd8bDYnzg3olppuVkK+DNhQhPcks12dkLucvz7F1gXM0Z4sD3yNJn1MxG4PSlFA4W6at467ULJ2jowGtgC7U5wpFaNQmfIFsC6gP96enyfkzcAHRbhdlHcm5GPtuSPF1i1Zf6lfDxyDatRfI3Y/A4e7F38wJ9m770zW+XISytOxKGlBjn+ZkDejSU5DKN+Dogc0kTG4wXSbXyPQBrwFPJRiV+vxFwxm2ubzXgqhwzf8uyBuRjvheHt3m0+IbzRwgvU/4MmPQMtvH9qs+lCUJjeMFrNLDvp2e44ljk1m6zhXohx8RcIXHzXAIR5/AR40w4me7A2TnZbiiMMa4ImE7FVzzOEB45scsJ9hutsT8laTdwJnoqhZh2o8V43kUG7/JMCbQx/8QxH/P0apbL71d0+R9k3Wrj2k7EIh6xysQbXfXko7NSwEPvPe56Cc4kdEJ4rU4QH7NsLn9WvMZpwnm2ht6+y9wd6fjPj2dKJ9CKuszS408IeltAW42Nr/XTK5gRuJlmIXGjzQyOfRbK2IEP4ILLb/HcAd5sRuVPjfDPxk+hHAiWiJ/hngiqWAyWgwtnkytxm6NBXbfBza0eTOpnDCfWwEFqAjcxsKhDS0otr1uaTC3YTc68kuJH6qcD//DDwSRVArGuAtFEag62NVxLlkWebLr07I5qJztguG24x7ZoR7BCph3o7oQbWtqxtzKe1ApdIe4Nki7SpCB4rincD5GfAdiFbKEk+WQ6eW2GqJYQnxfA06efUDJ5fAdRXZ3qIFcSfadYPHqzIwDaWEblS21KGz/FaK57QkRqFUsTagc5vOyoAuiVrgW5R6hhQXoUiakBHfZShdXICOe30o/x1VJt8MdEGRR1eNi4H7UXr6CK2EYmhCd6THlelDydgA3D3UnWSEBSgadwBPUXiU3G+oAY5EF6W96NamijJxFsqTPcDp+9eVKqqooooq/i/4C2/uKdpi08ODAAAAAElFTkSuQmCC\n",
      "text/latex": [
       "$$i L_{y} h_{b} f{\\left (y \\right )}$$"
      ],
      "text/plain": [
       "ⅈ⋅L_y⋅h_b⋅f(y)"
      ]
     },
     "execution_count": 7,
     "metadata": {},
     "output_type": "execute_result"
    }
   ],
   "source": [
    "S = comm(L_z, L_x, f(y))\n",
    "\n",
    "S\n",
    "\n",
    "factorization(S, y)"
   ]
  },
  {
   "cell_type": "markdown",
   "metadata": {},
   "source": [
    "###### This last example is still under development."
   ]
  },
  {
   "cell_type": "code",
   "execution_count": null,
   "metadata": {},
   "outputs": [],
   "source": []
  }
 ],
 "metadata": {
  "kernelspec": {
   "display_name": "Python 3",
   "language": "python",
   "name": "python3"
  },
  "language_info": {
   "codemirror_mode": {
    "name": "ipython",
    "version": 3
   },
   "file_extension": ".py",
   "mimetype": "text/x-python",
   "name": "python",
   "nbconvert_exporter": "python",
   "pygments_lexer": "ipython3",
   "version": "3.7.6"
  }
 },
 "nbformat": 4,
 "nbformat_minor": 2
}
>>>>>>> a4f82647d44132ad313b967d421082d2b21c9708
