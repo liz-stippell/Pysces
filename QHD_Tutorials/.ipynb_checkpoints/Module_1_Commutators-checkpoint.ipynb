{
 "cells": [
  {
   "cell_type": "code",
   "execution_count": 1,
   "id": "97a6bd40",
   "metadata": {},
   "outputs": [],
   "source": [
    "from pysces import *"
   ]
  },
  {
   "cell_type": "markdown",
   "id": "8e2fb190",
   "metadata": {},
   "source": [
    "# 1. Introduction to Commutators"
   ]
  },
  {
   "cell_type": "markdown",
   "id": "9636b58a",
   "metadata": {},
   "source": [
    "**1.1 Momentum and Position**\n",
    "\n",
    "In this first example, the momentum operator (defined in pysces as `lin_mom(x, exp)` where `x` is the variable of interest, and the position `q` is shown. You can calculate the commutator by using the `comm(commutator_1, commutator_2, aux)` function. The first arguement is the first variable, the second argument is the second variable, and the `aux` argument describes the auxilliary function, usually of the form `f(var)` where `var` represents the variable of interest, which is usually what the first and second variables are with respect to."
   ]
  },
  {
   "cell_type": "code",
   "execution_count": 3,
   "id": "cbb846c4",
   "metadata": {},
   "outputs": [
    {
     "data": {
      "image/png": "[encoded data removed]",
      "text/latex": [
       "$\\displaystyle - \\hbar i f{\\left(q \\right)}$"
      ],
      "text/plain": [
       "-h̅⋅i⋅f(q)"
      ]
     },
     "execution_count": 3,
     "metadata": {},
     "output_type": "execute_result"
    }
   ],
   "source": [
    "p = lin_mom(q, 1)\n",
    "\n",
    "comm(p, q, f(q))"
   ]
  },
  {
   "cell_type": "markdown",
   "id": "483164bf",
   "metadata": {},
   "source": [
    "A non-zero answer shows that both the momentum and position cannot be known simulataneously. "
   ]
  },
  {
   "cell_type": "markdown",
   "id": "a79c6b2d",
   "metadata": {},
   "source": [
    "**1.2 Momentum and Momentum**"
   ]
  },
  {
   "cell_type": "markdown",
   "id": "4258cdb0",
   "metadata": {},
   "source": [
    "Now, we can calculate the commutator between two different momenta, `p` (as defined in part **1**) and `p1`, which is taken with respect to `x`."
   ]
  },
  {
   "cell_type": "code",
   "execution_count": 4,
   "id": "ac2c827d",
   "metadata": {
    "scrolled": true
   },
   "outputs": [
    {
     "data": {
      "image/png": "[encoded data removed]",
      "text/latex": [
       "$\\displaystyle 0$"
      ],
      "text/plain": [
       "0"
      ]
     },
     "execution_count": 4,
     "metadata": {},
     "output_type": "execute_result"
    }
   ],
   "source": [
    "p1 = lin_mom(x, 1)\n",
    "\n",
    "comm(p, p1, f(q))"
   ]
  },
  {
   "cell_type": "markdown",
   "id": "19df3919",
   "metadata": {},
   "source": [
    "Since we received `0` as our answer, both momenta can be known simulataneously."
   ]
  },
  {
   "cell_type": "markdown",
   "id": "cb8168cd",
   "metadata": {},
   "source": [
    "**1.3 Angular Momentum**"
   ]
  },
  {
   "cell_type": "markdown",
   "id": "098fe3c7",
   "metadata": {},
   "source": [
    "Lastly, we can calculate the commutator between two angular momentum operators. Note that this is a two-step process. First, we shall use the `comm()` function as described in the previous two sections. Then, we must simplify further."
   ]
  },
  {
   "cell_type": "code",
   "execution_count": 5,
   "id": "d12ad067",
   "metadata": {},
   "outputs": [
    {
     "data": {
      "image/png": "[encoded data removed]",
      "text/latex": [
       "$\\displaystyle - \\left(p_{x} y p_{x} z - p_{x} z p_{x} y\\right) f{\\left(x \\right)} + \\left(p_{x} y p_{z} x - p_{z} x p_{x} y\\right) f{\\left(x \\right)} - \\left(p_{x} z p_{y} x - p_{y} x p_{x} z\\right) f{\\left(x \\right)} - \\left(p_{y} x p_{z} x - p_{z} x p_{y} x\\right) f{\\left(x \\right)}$"
      ],
      "text/plain": [
       "-(pₓ⋅y⋅pₓ⋅z - pₓ⋅z⋅pₓ⋅y)⋅f(x) + (pₓ⋅y⋅p_z⋅x - p_z⋅x⋅pₓ⋅y)⋅f(x) - (pₓ⋅z⋅p_y⋅x -\n",
       " p_y⋅x⋅pₓ⋅z)⋅f(x) - (p_y⋅x⋅p_z⋅x - p_z⋅x⋅p_y⋅x)⋅f(x)"
      ]
     },
     "execution_count": 5,
     "metadata": {},
     "output_type": "execute_result"
    }
   ],
   "source": [
    "L_z, L_y = symbols(\"L_z, L_y\")\n",
    "\n",
    "xl = comm(L_z, L_y, f(x)).doit()\n",
    "\n",
    "xl"
   ]
  },
  {
   "cell_type": "markdown",
   "id": "1aabf43e",
   "metadata": {},
   "source": [
    "Now, we are able to simplify the above expression by using the `factorization(var, var)` command where the second argument is the variable in which the auxilliary function (`f(x)`) is taken with respect to."
   ]
  },
  {
   "cell_type": "code",
   "execution_count": 6,
   "id": "e81588f5",
   "metadata": {},
   "outputs": [
    {
     "data": {
      "image/png": "[encoded data removed]",
      "text/latex": [
       "$\\displaystyle L_{x} \\hbar i f{\\left(x \\right)}$"
      ],
      "text/plain": [
       "Lₓ⋅h̅⋅i⋅f(x)"
      ]
     },
     "execution_count": 6,
     "metadata": {},
     "output_type": "execute_result"
    }
   ],
   "source": [
    "factorization(xl, x)"
   ]
  },
  {
   "cell_type": "markdown",
   "id": "1bd834c2",
   "metadata": {},
   "source": [
    "# 2. Heisenberg Equations of Motion"
   ]
  },
  {
   "cell_type": "markdown",
   "id": "056a643d",
   "metadata": {},
   "source": [
    "For the Heisenberg EOM's, we must first import the QHD library, which is a part of pysces."
   ]
  },
  {
   "cell_type": "code",
   "execution_count": 7,
   "id": "a313a91b",
   "metadata": {},
   "outputs": [],
   "source": [
    "from QHD import *"
   ]
  },
  {
   "cell_type": "markdown",
   "id": "f2a2a257",
   "metadata": {},
   "source": [
    "We will be using the `ham(p, q)` function, which is the Hamiltonian."
   ]
  },
  {
   "cell_type": "code",
   "execution_count": 8,
   "id": "45e3a1b7",
   "metadata": {},
   "outputs": [
    {
     "data": {
      "image/png": "[encoded data removed]",
      "text/latex": [
       "$\\displaystyle - \\frac{\\hbar i \\frac{\\partial}{\\partial q} \\left(- \\hbar i \\frac{d}{d q} 1\\right)}{2 mass} + v{\\left(q \\right)}$"
      ],
      "text/plain": [
       "     ∂ ⎛     d    ⎞        \n",
       "-h̅⋅i⋅──⎜-h̅⋅i⋅──(1)⎟        \n",
       "     ∂q⎝     dq   ⎠        \n",
       "──────────────────── + v(q)\n",
       "       2⋅mass              "
      ]
     },
     "execution_count": 8,
     "metadata": {},
     "output_type": "execute_result"
    }
   ],
   "source": [
    "ham(p, q)"
   ]
  },
  {
   "cell_type": "markdown",
   "id": "18f748f5",
   "metadata": {},
   "source": [
    "Please note that the placeholder of `1` is used when printing the Hamiltonian.\n",
    "\n",
    "In this example, we will calculate the commutator:\n",
    "\n",
    "$$[q, H]$$\n",
    "\n",
    "This represents the commutator between `q`, the position, and `H`, the Hamiltonian. Because we are looking at the position, `q`, the auxilliary function as defined in the next cell is with respect to `q` as well."
   ]
  },
  {
   "cell_type": "code",
   "execution_count": 9,
   "id": "6d4e9b26",
   "metadata": {},
   "outputs": [],
   "source": [
    "aux = Operator(Function(\"f\")(q))"
   ]
  },
  {
   "cell_type": "markdown",
   "id": "932e7596",
   "metadata": {},
   "source": [
    "For simplicity, we may take the commutator, using the `time_deriv(var, order)` function as defined in QHD. This function utilizes the `comm` function as described in the previous parts."
   ]
  },
  {
   "cell_type": "code",
   "execution_count": 10,
   "id": "420737fd",
   "metadata": {},
   "outputs": [
    {
     "data": {
      "image/png": "[encoded data removed]",
      "text/latex": [
       "$\\displaystyle \\frac{p}{mass}$"
      ],
      "text/plain": [
       " p  \n",
       "────\n",
       "mass"
      ]
     },
     "execution_count": 10,
     "metadata": {},
     "output_type": "execute_result"
    }
   ],
   "source": [
    "time_deriv(q, 1)"
   ]
  },
  {
   "cell_type": "markdown",
   "id": "2782052e",
   "metadata": {},
   "source": [
    "We can also take the commutator of `p` and the Hamiltonian, `ham`."
   ]
  },
  {
   "cell_type": "code",
   "execution_count": 14,
   "id": "b2b690bb",
   "metadata": {},
   "outputs": [
    {
     "data": {
      "image/png": "[encoded data removed]",
      "text/latex": [
       "$\\displaystyle - \\frac{d}{d q} v{\\left(q \\right)}$"
      ],
      "text/plain": [
       " d       \n",
       "-──(v(q))\n",
       " dq      "
      ]
     },
     "execution_count": 14,
     "metadata": {},
     "output_type": "execute_result"
    }
   ],
   "source": [
    "time_deriv(p, 1)"
   ]
  },
  {
   "cell_type": "code",
   "execution_count": null,
   "id": "989f19f6",
   "metadata": {},
   "outputs": [],
   "source": []
  }
 ],
 "metadata": {
  "kernelspec": {
   "display_name": "Python 3",
   "language": "python",
   "name": "python3"
  },
  "language_info": {
   "codemirror_mode": {
    "name": "ipython",
    "version": 3
   },
   "file_extension": ".py",
   "mimetype": "text/x-python",
   "name": "python",
   "nbconvert_exporter": "python",
   "pygments_lexer": "ipython3",
   "version": "3.8.8"
  }
 },
 "nbformat": 4,
 "nbformat_minor": 5
}
