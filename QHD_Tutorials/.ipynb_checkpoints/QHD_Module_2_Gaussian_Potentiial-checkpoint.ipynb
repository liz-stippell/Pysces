{
 "cells": [
  {
   "cell_type": "code",
   "execution_count": 1,
   "id": "24a0c295",
   "metadata": {
    "scrolled": true
   },
   "outputs": [],
   "source": [
    "from QHD import *\n",
    "\n",
    "import matplotlib.pyplot as plt\n",
    "import numpy as np"
   ]
  },
  {
   "cell_type": "markdown",
   "id": "e23b1dff",
   "metadata": {},
   "source": [
    "# The Gaussian Potential"
   ]
  },
  {
   "cell_type": "markdown",
   "id": "88842918",
   "metadata": {},
   "source": [
    "We first must define the potential along with its parameters, as described below, given by Rossman et. al"
   ]
  },
  {
   "cell_type": "markdown",
   "id": "1d350a9c",
   "metadata": {},
   "source": [
    "### 1. The Potential"
   ]
  },
  {
   "cell_type": "markdown",
   "id": "ca1e3cdc",
   "metadata": {},
   "source": [
    "**Parameters**\n",
    "\n",
    "$v_0 = 1$ Hartree\n",
    "\n",
    "$\\sigma = 0.1$ Angstrom\n",
    "\n",
    "**Potential**\n",
    "\n",
    "$V(q)=-v_0*e^{(\\frac{-q^2}{2*\\sigma^2})}$"
   ]
  },
  {
   "cell_type": "markdown",
   "id": "cd51a57c",
   "metadata": {},
   "source": [
    "We can define this potential as `potential`, and define the given parameters as `D`, `alpha`, and `q_0` as described below. We will also need to define the dependent variable, in this case `q` as a range using the `linspace` function found in `numpy`. The parameters are all in *atomic units*."
   ]
  },
  {
   "cell_type": "code",
   "execution_count": 2,
   "id": "2fe24e97",
   "metadata": {
    "scrolled": true
   },
   "outputs": [],
   "source": [
    "v_0 = 5 # Hartree\n",
    "sigma = 0.75 # Angstrom\n",
    "sigma1 = 1.5\n",
    "\n",
    "q = np.linspace(-5, 5, 1000)\n",
    "\n",
    "alpha1 = 1/(2*sigma1**2)\n",
    "alpha = 1/(2*sigma**2)\n",
    "\n",
    "potential = -v_0*np.exp(-q**2*alpha)\n",
    "potential1 = -v_0*np.exp(-alpha1*q**2)"
   ]
  },
  {
   "cell_type": "markdown",
   "id": "0814a72d",
   "metadata": {},
   "source": [
    "Now that the parameters and potential have been defined, the potential can be plotted using the `matplotlib.pyplot` library. Any of the lines can be changed as desired."
   ]
  },
  {
   "cell_type": "code",
   "execution_count": 3,
   "id": "c6bdc0db",
   "metadata": {
    "scrolled": true
   },
   "outputs": [
    {
     "data": {
      "image/png": "[encoded data removed]",
      "text/plain": [
       "<Figure size 432x288 with 1 Axes>"
      ]
     },
     "metadata": {
      "needs_background": "light"
     },
     "output_type": "display_data"
    }
   ],
   "source": [
    "q = np.linspace(-1, 1, 1000)\n",
    "plt.plot(q, potential, 'k')\n",
    "plt.plot(q, potential1, \"m\")\n",
    "plt.legend([r\"$\\sigma$ = 0.75\", r\"$\\sigma$ = 1.5\"])\n",
    "plt.xlim(-1, 1)\n",
    "plt.xlabel(\"Position, q\")\n",
    "plt.ylabel(\"Potential, V(q)\")\n",
    "plt.savefig(\"gaussian_vVq.png\")\n",
    "plt.show()"
   ]
  },
  {
   "cell_type": "markdown",
   "id": "19377087",
   "metadata": {},
   "source": [
    "### 2. Derivation of  QHD formulas"
   ]
  },
  {
   "cell_type": "markdown",
   "id": "8b6b9a80",
   "metadata": {},
   "source": [
    "Here, we use the pysces library, able to derive the equations of motion in the QHD method. We will need to define the `q`, `p`, `p2`, `x`, `x2`, and `xp` variables. In order to do this, we must first calculate the first and second derivatives of the potential of interest, defined in section 1. We will also use a change of variables as well, described below."
   ]
  },
  {
   "cell_type": "markdown",
   "id": "fea8f2b4",
   "metadata": {},
   "source": [
    "**2.1 The First and Second Derivatives of the Potential**"
   ]
  },
  {
   "cell_type": "markdown",
   "id": "c30ec4a7",
   "metadata": {},
   "source": [
    "To take the derivatives, we must represent the potential symbolically. This can be done by:"
   ]
  },
  {
   "cell_type": "code",
   "execution_count": 4,
   "id": "91660bfc",
   "metadata": {
    "scrolled": true
   },
   "outputs": [],
   "source": [
    "# First, we must define all the parameters as stated in section 1 as symbols:\n",
    "\n",
    "v_0, sigma, q, alpha = symbols(\"v_0, sigma q alpha\")\n",
    "\n",
    "# When computing symbolically, we do not need to use the numpy exponential function.\n",
    "\n",
    "potential_sym = -v_0*exp(-alpha*q**2)"
   ]
  },
  {
   "cell_type": "markdown",
   "id": "152bf992",
   "metadata": {},
   "source": [
    "\n",
    "Now that the potential is represented symbolically, we may take the first and second derivatives, described by diff1 and diff2, respectively"
   ]
  },
  {
   "cell_type": "code",
   "execution_count": 5,
   "id": "75188ad0",
   "metadata": {
    "scrolled": true
   },
   "outputs": [
    {
     "data": {
      "image/png": "[encoded data removed]",
      "text/latex": [
       "$\\displaystyle \\left( 2 \\alpha q v_{0} e^{- \\alpha q^{2}}, \\  - 4 \\alpha^{2} q^{2} v_{0} e^{- \\alpha q^{2}} + 2 \\alpha v_{0} e^{- \\alpha q^{2}}\\right)$"
      ],
      "text/plain": [
       "⎛              2                    2               2⎞\n",
       "⎜          -α⋅q        2  2     -α⋅q            -α⋅q ⎟\n",
       "⎝2⋅α⋅q⋅v₀⋅ℯ     , - 4⋅α ⋅q ⋅v₀⋅ℯ      + 2⋅α⋅v₀⋅ℯ     ⎠"
      ]
     },
     "execution_count": 5,
     "metadata": {},
     "output_type": "execute_result"
    }
   ],
   "source": [
    "diff1 = diff(potential_sym, q)\n",
    "diff2 = diff(diff1, q)\n",
    "\n",
    "diff1, diff2"
   ]
  },
  {
   "cell_type": "markdown",
   "id": "4e222ac8",
   "metadata": {},
   "source": [
    "**2.2 Change of Variable**"
   ]
  },
  {
   "cell_type": "markdown",
   "id": "e48d4113",
   "metadata": {},
   "source": [
    "We can do a change of variable in the potential to:\n",
    "\n",
    "$$x=e^{-\\alpha*q^2}$$\n",
    "\n",
    "And so:\n",
    "\n",
    "$$V(q)=A*x$$\n",
    "\n",
    "We will now take the first and second derivatives of the original potential, and then perform the change of variables."
   ]
  },
  {
   "cell_type": "markdown",
   "id": "719cf509",
   "metadata": {},
   "source": [
    "- The First Derivative:"
   ]
  },
  {
   "cell_type": "code",
   "execution_count": 6,
   "id": "31f01035",
   "metadata": {
    "scrolled": true
   },
   "outputs": [
    {
     "data": {
      "image/png": "[encoded data removed]",
      "text/latex": [
       "$\\displaystyle 2 \\alpha q v_{0} x$"
      ],
      "text/plain": [
       "2⋅α⋅q⋅v₀⋅x"
      ]
     },
     "execution_count": 6,
     "metadata": {},
     "output_type": "execute_result"
    }
   ],
   "source": [
    "x = Symbol(\"x\")\n",
    "\n",
    "diff11 = diff1.replace(exp(-alpha*q**2), x)\n",
    "\n",
    "diff11"
   ]
  },
  {
   "cell_type": "markdown",
   "id": "39796be7",
   "metadata": {},
   "source": [
    "- The Second Derivative:"
   ]
  },
  {
   "cell_type": "code",
   "execution_count": 7,
   "id": "d4e18d54",
   "metadata": {
    "scrolled": true
   },
   "outputs": [
    {
     "data": {
      "image/png": "[encoded data removed]",
      "text/latex": [
       "$\\displaystyle - 4 \\alpha^{2} q^{2} v_{0} x + 2 \\alpha v_{0} x$"
      ],
      "text/plain": [
       "     2  2                \n",
       "- 4⋅α ⋅q ⋅v₀⋅x + 2⋅α⋅v₀⋅x"
      ]
     },
     "execution_count": 7,
     "metadata": {},
     "output_type": "execute_result"
    }
   ],
   "source": [
    "diff22 = diff2.replace(exp(-alpha*q**2), x)\n",
    "\n",
    "diff22"
   ]
  },
  {
   "cell_type": "markdown",
   "id": "bd4fc062",
   "metadata": {},
   "source": [
    "**2.3 Solving for the Equations of Motion**"
   ]
  },
  {
   "cell_type": "markdown",
   "id": "65e379f7",
   "metadata": {},
   "source": [
    "We must solve the equations of motion for `q`, `p`, `x`, `x2`, and `xp` using the parameters defined in section 1."
   ]
  },
  {
   "cell_type": "code",
   "execution_count": 8,
   "id": "8ae5f953",
   "metadata": {
    "scrolled": true
   },
   "outputs": [],
   "source": [
    "# Again, we must first define all variables as symbols. #\n",
    "\n",
    "q, p, p2, x, x2, xp, dt, mass, D, alpha, sigma, q2 = symbols(\"q, p, p2, x, x2, xp, dt, mass, D, alpha, sigma q2\")\n",
    "q_0 = 0.0\n",
    "\n",
    "########## EOM Calculations ##########\n",
    "\n",
    "# If you want to see the output of any of the below, uncomment the desired print line. #\n",
    "\n",
    "px = xp\n",
    "q1 = str(time_deriv(q, 1)*dt + q)\n",
    "#print(\"q = \" + str(q1))\n",
    "\n",
    "q21 = str(time_deriv(q, 2)*dt + q2)\n",
    "#print(q21)\n",
    "\n",
    "x = exp(-alpha*q**2)\n",
    "x1 = sympify(str(time_deriv(x, 1)).replace(\"exp(-alpha*q**2)\", \"x\"))\n",
    "x1 = str((symmetrize(x1))*(0.5)*dt + Symbol(\"x\"))\n",
    "x1 = str(x1).replace(\"p*q*x\", \"q*xp\")\n",
    "#print(\"x = \" + str(x1))\n",
    "\n",
    "p1 = str(time_deriv(p, 1)).replace(\"v(q)\", str(potential_sym))\n",
    "p1 = expand(sympify(p1).doit())\n",
    "p1 = str(p1).replace(\"exp(-2.0*q**2)\", \"x2\").replace(\"alpha**2\", \"0\")\n",
    "p1 = sympify(p1)\n",
    "p1 = str(symmetrize(p1)*(0.5)*dt + p).replace(\"exp(-alpha*q**2)\", \"x\")\n",
    "#print(\"p = \" + str(p1))\n",
    "\n",
    "x = Symbol(\"x\")\n",
    "p21 = str(time_deriv(p, 2)).replace(\"v(q)\", str(potential_sym))\n",
    "p21 = expand(sympify(p21).doit())\n",
    "p21 = str(p21).replace(\"exp(-alpha*q**2)\", \"x\").replace(\"exp(-2*alpha*q**2)\", \"x2\").replace(\"alpha**2\", \"0\")\n",
    "p21 = str(symmetrize(p21)*(0.5)*dt + p2).replace(\"exp(-alpha*q**2)\", \"x\").replace(\"exp(-2.0*q**2)\", \"x2\")\n",
    "p21 = str(p21).replace(\"p*q*v_0*x\", \"v_0*q*xp\")\n",
    "#print(\"p2 = \" + str(p21))\n",
    "\n",
    "### Please note these last two need to be in functions to work properly.\n",
    "alpha = Symbol(\"alpha\")\n",
    "\n",
    "def integrate_x2(q,p,pq,q2,p2,x,x2,xp,xq,dt,mass,alp,D):\n",
    "    x2 = x2 - (q*x*(xp - x*p))/mass*0.5*dt #4.0*(alp/mass)*x*(xp - x*p)*0.5*dt\n",
    "    x2 = exp(-2.0*alp*(dt*p/mass)**2)*x2\n",
    "    x2 = x2 - (q*x*(xp - x*p))/mass*0.5*dt  #4.0*(alp/mass)*x*(xp - x*p)*0.5*dt\n",
    "    return x2\n",
    "\n",
    "def integrate_xp(q,p,pq,q2,p2,x,x2,xp,xq,dt,mass,alp,D):\n",
    "    xp = xp + 0.5*dt*(((x*(p2-2*p*p)))/(-2*mass) - (-v_0*x2*2*alpha*q+v_0**2*4*alpha**2*q2*x2))#0.5*dt*(2.0*alp*D*(x*(3.0*x2 - 2*x*x) - x2)  - (alp*x/mass)*(p2 - 2.0*p*p) )\n",
    "    xp = exp(-2*alpha*(dt*p/mass)**2)*xp\n",
    "    xp = xp + 0.5*dt*(((x*(p2-2*p*p)))/(-2*mass) - (-v_0*x2*2*alpha*q+v_0**2*4*alpha**2*q2*x2))#0.5*dt*(2.0*alp*D*(x*(3.0*x2 - 2*x*x) - x2)  - (alp*x/mass)*(p2 - 2.0*p*p) )\n",
    "    return xp"
   ]
  },
  {
   "cell_type": "markdown",
   "id": "9cf46d70",
   "metadata": {},
   "source": [
    "Now, we are ready to make plots of the data based on the EOM's as computed above."
   ]
  },
  {
   "cell_type": "markdown",
   "id": "f0f4c430",
   "metadata": {},
   "source": [
    "# 3. Graphing"
   ]
  },
  {
   "cell_type": "markdown",
   "id": "0fb0527b",
   "metadata": {},
   "source": [
    "**3.1 Generating Time-Dependent Values**"
   ]
  },
  {
   "cell_type": "markdown",
   "id": "5d2f3329",
   "metadata": {},
   "source": [
    "We will first define all of the parameters necessary to perform the QHD calculations as followed:\n",
    "\n",
    "`hbar`: Plancks constant\n",
    "\n",
    "`convert`: A conversion factor for the mass\n",
    "\n",
    "`mass`: The mass of the particle in the potential. In this case, the mass of a hydrogen atom is used.\n",
    "\n",
    "`q0`: The starting position value\n",
    "\n",
    "`p0`: The starting momentum value\n",
    "\n",
    "`s0`:\n",
    "\n",
    "`ps0`:\n",
    "\n",
    "`sigma`: A constant in the guassian potential\n",
    "\n",
    "`alp` (`alpha`): A constant in the gaussian potential\n",
    "\n",
    "`D`: A constant in the gaussian potential\n",
    "\n",
    "`dt`: The time step used"
   ]
  },
  {
   "cell_type": "code",
   "execution_count": 9,
   "id": "8bb89580",
   "metadata": {
    "scrolled": true
   },
   "outputs": [],
   "source": [
    "##### Constants #####\n",
    "\n",
    "v_0 = 5 # Hartree\n",
    "sigma = 0.75 # Angstrom\n",
    "mass = 1836 # a.u.\n",
    "hbar = 0.6582  # eV * fs\n",
    "convert = (1.0/17.586)\n",
    "\n",
    "\n",
    "# Feel free to change any of the below parameters to observe what happens when you change them\n",
    "mass =  2980.0*convert\n",
    "q0 = -0.5\n",
    "p0 = 0.0\n",
    "s0 = 0.05\n",
    "ps0 = 0.0\n",
    "\n",
    "dt = 0.1\n",
    "alpha = 1/(2*sigma**2)\n",
    "alp = alpha"
   ]
  },
  {
   "cell_type": "markdown",
   "id": "f85a96a6",
   "metadata": {},
   "source": [
    "**Q1.** How does the `alpha` parameter change the potential, qualitatively?"
   ]
  },
  {
   "cell_type": "markdown",
   "id": "e90846cc",
   "metadata": {},
   "source": []
  },
  {
   "cell_type": "markdown",
   "id": "94976367",
   "metadata": {},
   "source": [
    "Below, the initial conditions are described. These initial conditions describe a gaussian wavepacket, and do not need to be changed."
   ]
  },
  {
   "cell_type": "code",
   "execution_count": 10,
   "id": "0c1c301f",
   "metadata": {
    "scrolled": true
   },
   "outputs": [],
   "source": [
    "##### Initial Conditions (Do Not Change) #####\n",
    "\n",
    "t = 0.0    \n",
    "Etot = 0.0\n",
    "Etot0 = 0.0\n",
    "Etot_cl = 0.0\n",
    "Etot_cl0 = 0.0\n",
    "q,p,pq,q2,p2,x,x2,xp,xq = 0.0, 0.0, 0.0, 0.0, 0.0, 0.0, 0.0, 0.0, 0.0\n",
    "q, p = q0, p0\n",
    "q_0 = 0.0\n",
    "q2 = q*q + s0*s0\n",
    "pq = ps0*s0 + q*p\n",
    "p2 = p*p + ps0*ps0 + (0.5*hbar/s0)**2\n",
    "x = exp(-alp*q0)*exp(0.5*alp*alp*s0*s0)\n",
    "x2 = exp(-2.0*alp*q0)*exp(2.0*alp*alp*s0*s0)\n",
    "xq = x*(q-alp*s0*s0)\n",
    "xp = x*(p - s0*ps0*alp)\n",
    "\n",
    "##### ----- #####\n",
    "\n",
    "xp = integrate_xp(q,p,pq,q2,p2,x,x2,xp,xq,0.5*dt,mass,alp,D)\n",
    "x2 = integrate_x2(q,p,pq,q2,p2,x,x2,xp,xq,0.5*dt,mass,alp,D)\n",
    "x = eval(x1)\n",
    "p2 = eval(p21)\n",
    "q2 = eval(q21)\n",
    "p = eval(p1)\n",
    "q = eval(q1)\n",
    "p = eval(p1)\n",
    "q2 = eval(q21)\n",
    "p2 = eval(p21)\n",
    "x = eval(x1)\n",
    "x2 = integrate_x2(q,p,pq,q2,p2,x,x2,xp,xq,0.5*dt,mass,alp,D)\n",
    "xp = integrate_xp(q,p,pq,q2,p2,x,x2,xp,xq,0.5*dt,mass,alp,D)"
   ]
  },
  {
   "cell_type": "markdown",
   "id": "10f48ae2",
   "metadata": {},
   "source": [
    "Below, empty lists are created to store the data generated. Feel free to create your own lists to examine how different variables change over time."
   ]
  },
  {
   "cell_type": "code",
   "execution_count": 11,
   "id": "2142a7fa",
   "metadata": {
    "scrolled": true
   },
   "outputs": [],
   "source": [
    "##### Empty Lists for Data Storage: #####\n",
    "\n",
    "q_list = [] \n",
    "p_list = []"
   ]
  },
  {
   "cell_type": "markdown",
   "id": "324fcc77",
   "metadata": {},
   "source": [
    "**Q2.** Create an empty list for `p2` and `q2` values and observe how this variable changes over time."
   ]
  },
  {
   "cell_type": "code",
   "execution_count": null,
   "id": "3798d891",
   "metadata": {
    "scrolled": true
   },
   "outputs": [],
   "source": []
  },
  {
   "cell_type": "markdown",
   "id": "9d2bcea2",
   "metadata": {},
   "source": [
    "Now that the parameters have been defined, we can compute the desired values of position and energy over a given time interval."
   ]
  },
  {
   "cell_type": "markdown",
   "id": "7f8bf07c",
   "metadata": {},
   "source": [
    "**Q3.** Try changing the time step (`dt`) or the finish time (`t_f`). For running dissociation, only run for `t_f=19`"
   ]
  },
  {
   "cell_type": "code",
   "execution_count": 12,
   "id": "00edfe36",
   "metadata": {
    "scrolled": true
   },
   "outputs": [
    {
     "name": "stdout",
     "output_type": "stream",
     "text": [
      "-0.499182058678901\n",
      "-0.498161793635919\n",
      "-0.496737437505241\n",
      "-0.494912960428407\n",
      "-0.492693403823695\n",
      "-0.490084834700386\n",
      "-0.487094291536524\n",
      "-0.483729722664073\n",
      "-0.479999918204664\n",
      "-0.475914436668565\n",
      "-0.471483527368790\n",
      "-0.466718049812127\n",
      "-0.461629391211458\n",
      "-0.456229383221654\n",
      "-0.450530218938244\n",
      "-0.444544371117740\n",
      "-0.438284512485055\n",
      "-0.431763438891021\n",
      "-0.424993995975334\n",
      "-0.417989009880968\n",
      "-0.410761222458199\n",
      "-0.403323231292500\n",
      "-0.395687434792746\n",
      "-0.387865982485913\n",
      "-0.379870730582843\n",
      "-0.371713202807263\n",
      "-0.363404556417283\n",
      "-0.354955553295006\n",
      "-0.346376535935255\n",
      "-0.337677408128243\n",
      "-0.328867620102618\n",
      "-0.319956157873936\n",
      "-0.310951536528472\n",
      "-0.301861797162568\n",
      "-0.292694507192698\n",
      "-0.283456763750315\n",
      "-0.274155199877745\n",
      "-0.264795993246216\n",
      "-0.255384877124061\n",
      "-0.245927153331719\n",
      "-0.236427706929970\n",
      "-0.226891022398515\n",
      "-0.217321201073273\n",
      "-0.207721979622333\n",
      "-0.198096749352207\n",
      "-0.188448576147722\n",
      "-0.178780220860354\n",
      "-0.169094159971094\n",
      "-0.159392606364814\n",
      "-0.149677530063669\n",
      "-0.139950678777151\n",
      "-0.130213598136137\n",
      "-0.120467651487495\n",
      "-0.110714039134681\n",
      "-0.100953816918165\n",
      "-0.0911879140375804\n",
      "-0.0814171500251861\n",
      "-0.0716422507876280\n",
      "-0.0618638636400793\n",
      "-0.0520825712637320\n",
      "-0.0422989045242934\n",
      "-0.0325133540956879\n",
      "-0.0227263808396026\n",
      "-0.0129384248978966\n",
      "-0.00314991346124755\n",
      "0.00663873281621961\n",
      "0.0164270947801641\n",
      "0.0262147511344781\n",
      "0.0360012762057323\n",
      "0.0457862391177137\n",
      "0.0555692043733524\n",
      "0.0653497338344143\n",
      "0.0751273900823125\n",
      "0.0849017411362601\n",
      "0.0946723664977827\n",
      "0.104438864483350\n",
      "0.114200860799601\n",
      "0.123958018308380\n",
      "0.133710047921571\n",
      "0.143456720558630\n",
      "0.153197880092706\n",
      "0.162933457204489\n",
      "0.172663484056319\n",
      "0.182388109692795\n",
      "0.192107616068088\n",
      "0.201822434594429\n",
      "0.211533163100826\n",
      "0.221240583085906\n",
      "0.230945677143955\n",
      "0.240649646438564\n",
      "0.250353928093821\n",
      "0.260060212368574\n",
      "0.269770459474862\n",
      "0.279486915896941\n",
      "0.289212130062404\n",
      "0.298948967211316\n",
      "0.308700623303055\n",
      "0.318470637793228\n",
      "0.328262905104450\n",
      "0.338081684604584\n",
      "0.347931608893941\n",
      "0.357817690188505\n",
      "0.367745324569202\n",
      "0.377720293847044\n",
      "0.387748764770371\n",
      "0.397837285272847\n",
      "0.407992777428943\n",
      "0.418222526747027\n",
      "0.428534167388289\n",
      "0.438935662852422\n",
      "0.449435281617760\n",
      "0.460041567164329\n",
      "0.470763301742873\n",
      "0.481609463181389\n",
      "0.492589173943364\n",
      "0.503711641569185\n",
      "0.514986089545082\n",
      "0.526421677553510\n",
      "0.538027409967026\n",
      "0.549812031356615\n",
      "0.561783907698026\n",
      "0.573950891879685\n",
      "0.586320172047425\n",
      "0.598898101269696\n",
      "0.611690006977754\n",
      "0.624699978634546\n",
      "0.637930632119592\n",
      "0.651382849390407\n",
      "0.665055492097686\n",
      "0.678945087992346\n",
      "0.693045489164001\n",
      "0.707347501381928\n",
      "0.721838484051033\n",
      "0.736501920513978\n",
      "0.751316958577125\n",
      "0.766257921142573\n",
      "0.781293786597140\n",
      "0.796387638019522\n",
      "0.811496079165826\n",
      "0.826568613395826\n",
      "0.841546978989481\n",
      "0.856364430427451\n",
      "0.870944949895702\n",
      "0.885202366227428\n",
      "0.899039349405812\n",
      "0.912346237302223\n",
      "0.924999637203242\n",
      "0.936860727592314\n",
      "0.947773165357223\n",
      "0.957560479982304\n",
      "0.966022809539982\n",
      "0.972932804248032\n",
      "0.978030494160859\n",
      "0.981016892995013\n",
      "0.981546099939191\n",
      "0.979215684577917\n",
      "0.973555232141462\n",
      "0.964013150302742\n",
      "0.949942301869978\n",
      "0.930585899914638\n",
      "0.905066623868166\n",
      "0.872384357678893\n",
      "0.831431439569806\n",
      "0.781038376812398\n",
      "0.720065731755131\n",
      "0.647555174553679\n",
      "0.562938705664463\n",
      "0.466276909250481\n",
      "0.358463559154206\n",
      "0.241318820166192\n",
      "0.117519370191329\n",
      "-0.00962632607371777\n",
      "-0.136495400349256\n",
      "-0.259484329945181\n",
      "-0.375307404333971\n",
      "-0.481249643481396\n",
      "-0.575398856994539\n",
      "-0.656883735799618\n",
      "-0.726095792766418\n",
      "-0.784803239866263\n",
      "-0.836060164347922\n",
      "-0.883924633368008\n",
      "-0.933156380657749\n",
      "-0.989173512581203\n",
      "-1.05868981409917\n",
      "-1.15218077009795\n",
      "-1.29384429241981\n",
      "-1.59484140060004\n",
      "-5.89521415463343\n",
      "-97899227.3174691\n",
      "-3.64743638393547e+91\n",
      "Total runtime is 4.08438515663147\n"
     ]
    }
   ],
   "source": [
    "#### --- Do Not Change Anything In This Cell --- #####\n",
    "\n",
    "### Time how long it takes to compute ###\n",
    "\n",
    "import time \n",
    "begin = time.time()\n",
    "\n",
    "\n",
    "### Compute the x values ###\n",
    "\n",
    "dt = 0.1 # step size\n",
    "t_i = 0.0 # start\n",
    "t_f = 19 # finish\n",
    "\n",
    "\n",
    "### Compute the y values ###\n",
    "\n",
    "while t_i<=t_f:\n",
    "    xp = integrate_xp(q,p,pq,q2,p2,x,x2,xp,xq,0.5*dt,mass,alp,D)\n",
    "    x2 = integrate_x2(q,p,pq,q2,p2,x,x2,xp,xq,0.5*dt,mass,alp,D)\n",
    "    x = eval(x1)\n",
    "    p2 = eval(p21)\n",
    "    q2 = eval(q21)\n",
    "    p = eval(p1)\n",
    "    q = eval(q1)\n",
    "    p = eval(p1)\n",
    "    q2 = eval(q21)\n",
    "    p2 = eval(p21)\n",
    "    x = eval(x1)\n",
    "    x2 = integrate_x2(q,p,pq,q2,p2,x,x2,xp,xq,0.5*dt,mass,alp,D)\n",
    "    xp = integrate_xp(q,p,pq,q2,p2,x,x2,xp,xq,0.5*dt,mass,alp,D)\n",
    "\n",
    "    t_i = t_i + dt\n",
    "\n",
    "    q_list.append(q)\n",
    "    p_list.append(p)\n",
    "    \n",
    "    print(q)\n",
    "\n",
    "\n",
    "### Compute the end time ###\n",
    "    \n",
    "time.sleep(1)\n",
    "# store end time\n",
    "end = time.time()\n",
    "  \n",
    "# total time taken\n",
    "print(f\"Total runtime is {end - begin}\")"
   ]
  },
  {
   "cell_type": "markdown",
   "id": "0a29468e",
   "metadata": {},
   "source": [
    "For the x values, we create a range with `(t_i, t_f, dt)` as the parameters. Due to the increasing nature of `t_i`, the initial value of `0.0` is used in its place."
   ]
  },
  {
   "cell_type": "code",
   "execution_count": 13,
   "id": "3b70b4f5",
   "metadata": {
    "scrolled": true
   },
   "outputs": [],
   "source": [
    "### Define the x values ###\n",
    "\n",
    "x_list = np.arange(0, 19.1, dt)"
   ]
  },
  {
   "cell_type": "markdown",
   "id": "2f191f7a",
   "metadata": {},
   "source": [
    "**3.2 Graphing Position versus Time**"
   ]
  },
  {
   "cell_type": "code",
   "execution_count": 14,
   "id": "f5a6f597",
   "metadata": {
    "scrolled": true
   },
   "outputs": [
    {
     "data": {
      "image/png": "[encoded data removed]",
      "text/plain": [
       "<Figure size 432x288 with 1 Axes>"
      ]
     },
     "metadata": {
      "needs_background": "light"
     },
     "output_type": "display_data"
    }
   ],
   "source": [
    "plt.plot(x_list, q_list, 'm')\n",
    "plt.xlim(0, 20)\n",
    "plt.ylim(-0.8, 1)\n",
    "plt.xlabel(\"Time (fs)\")\n",
    "plt.ylabel(\"Position, q\")\n",
    "#plt.savefig('gaussian_qVt_15.png')\n",
    "plt.show()"
   ]
  },
  {
   "cell_type": "markdown",
   "id": "38596fd7",
   "metadata": {},
   "source": [
    "**3.3 Graphing Potential versus Time**"
   ]
  },
  {
   "cell_type": "code",
   "execution_count": 15,
   "id": "45fe7f1d",
   "metadata": {
    "scrolled": true
   },
   "outputs": [
    {
     "data": {
      "image/png": "[encoded data removed]",
      "text/plain": [
       "<Figure size 432x288 with 1 Axes>"
      ]
     },
     "metadata": {
      "needs_background": "light"
     },
     "output_type": "display_data"
    }
   ],
   "source": [
    "plt.plot(x_list, p_list, 'm')\n",
    "plt.xlim(0, 20)\n",
    "plt.ylim(-0.8, 50)\n",
    "plt.xlabel(\"Time (fs)\")\n",
    "plt.ylabel(\"Momentum, p\")\n",
    "plt.savefig('gaussian_pVt_15.png')\n",
    "plt.show()"
   ]
  },
  {
   "cell_type": "markdown",
   "id": "39fbc6e9",
   "metadata": {},
   "source": [
    "**Q4.** How does increasing `sigma` to `1.5` affect the position and momentum?"
   ]
  },
  {
   "cell_type": "markdown",
   "id": "8101dd78",
   "metadata": {},
   "source": []
  },
  {
   "cell_type": "markdown",
   "id": "332c65eb",
   "metadata": {},
   "source": [
    "**Q5.** How does changing the starting position, `q0`, affect the position versus time? At what value of `q0` does the particle dissociate?"
   ]
  },
  {
   "cell_type": "markdown",
   "id": "dfe270b5",
   "metadata": {},
   "source": []
  },
  {
   "cell_type": "markdown",
   "id": "055fd893",
   "metadata": {},
   "source": [
    "# 4. Graphing Dissociation"
   ]
  },
  {
   "cell_type": "markdown",
   "id": "d523bf1f",
   "metadata": {},
   "source": [
    "Here, you will compare classical equations of motion to the QHD equations of motion as described in the previous sections. In order to do this, we must repeat some of the above codes."
   ]
  },
  {
   "cell_type": "markdown",
   "id": "3c74ce70",
   "metadata": {},
   "source": [
    "**Q6.** What do you predict the classical plot to look like? The QHD plot?"
   ]
  },
  {
   "cell_type": "markdown",
   "id": "82e77937",
   "metadata": {},
   "source": []
  },
  {
   "cell_type": "code",
   "execution_count": 16,
   "id": "6534abc5",
   "metadata": {
    "scrolled": false
   },
   "outputs": [
    {
     "name": "stdout",
     "output_type": "stream",
     "text": [
      "q = dt*p/mass + q\n",
      "2*dt*p*q/mass + q2\n",
      "p = -1.0*alpha*dt*q*v_0*exp(-alpha*q**2) + p\n",
      "p2 = -2.0*alpha*dt*p*q*v_0*exp(-alpha*q**2) + p2\n"
     ]
    }
   ],
   "source": [
    "# Again, we must first define all variables as symbols. #\n",
    "\n",
    "q, p, p2, x, x2, xp, dt, mass, D, alpha, sigma, q2 = symbols(\"q, p, p2, x, x2, xp, dt, mass, D, alpha, sigma q2\")\n",
    "q_0 = 0.0\n",
    "\n",
    "########## EOM Calculations ##########\n",
    "\n",
    "# If you want to see the output of any of the below, uncomment the desired print line. #\n",
    "\n",
    "# There are two ways to derive the EOM's, using the `time_deriv` function and then the original way is with `QHD_int`\n",
    "# The `time_deriv` function is used as it's more versatile at this time, however it's still not perfect.\n",
    "# `QHD_int` uses the `time_deriv` function\n",
    "\n",
    "px = xp\n",
    "q1 = str(time_deriv(q, 1)*dt + q)\n",
    "print(\"q = \" + str(q1))\n",
    "\n",
    "q21 = str(time_deriv(q, 2)*dt + q2)\n",
    "print(q21)\n",
    "\n",
    "p1 = str(time_deriv(p, 1)).replace(\"v(q)\", str(potential_sym))\n",
    "p1 = expand(sympify(p1).doit())\n",
    "p1 = str(p1)\n",
    "p1 = sympify(p1)\n",
    "p1 = str(symmetrize(p1)*(0.5)*dt + p)\n",
    "print(\"p = \" + str(p1))\n",
    "\n",
    "p21 = str(time_deriv(p, 2)).replace(\"v(q)\", str(potential_sym))\n",
    "p21 = expand(sympify(p21).doit())\n",
    "p21 = str(p21)\n",
    "p21 = str(symmetrize(p21)*(0.5)*dt + p2)\n",
    "p21 = str(p21)\n",
    "print(\"p2 = \" + str(p21))"
   ]
  },
  {
   "cell_type": "code",
   "execution_count": 25,
   "id": "d723fd16",
   "metadata": {
    "scrolled": true
   },
   "outputs": [],
   "source": [
    "##### Constants #####\n",
    "\n",
    "v_0 = 5 # Hartree\n",
    "sigma = 0.75 # Angstrom\n",
    "mass = 1836 # a.u.\n",
    "\n",
    "# Feel free to change any of the below parameters to observe what happens when you change them\n",
    "hbar = 0.6582  # eV * fs\n",
    "convert = (1.0/17.586)\n",
    "mass =  2980.0*convert\n",
    "q0 = -0.50\n",
    "p0 = 0.0\n",
    "s0 = 0.05\n",
    "ps0 = 0.0\n",
    "\n",
    "dt = 0.1\n",
    "alpha = 1/(2*sigma**2)\n",
    "alp = alpha"
   ]
  },
  {
   "cell_type": "code",
   "execution_count": 26,
   "id": "963f9e68",
   "metadata": {
    "scrolled": true
   },
   "outputs": [],
   "source": [
    "##### Initial Conditions (Do Not Change) #####\n",
    "\n",
    "t = 0.0    \n",
    "Etot = 0.0\n",
    "Etot0 = 0.0\n",
    "Etot_cl = 0.0\n",
    "Etot_cl0 = 0.0\n",
    "q,p,pq,q2,p2,x,x2,xp,xq = 0.0, 0.0, 0.0, 0.0, 0.0, 0.0, 0.0, 0.0, 0.0\n",
    "q, p = q0, p0\n",
    "q_0 = 0.0\n",
    "q2 = q*q + s0*s0\n",
    "pq = ps0*s0 + q*p\n",
    "p2 = p*p + ps0*ps0 + (0.5*hbar/s0)**2\n",
    "x = exp(-alp*q0)*exp(0.5*alp*alp*s0*s0)\n",
    "x2 = exp(-2.0*alp*q0)*exp(2.0*alp*alp*s0*s0)\n",
    "xq = x*(q-alp*s0*s0)\n",
    "xp = x*(p - s0*ps0*alp)\n",
    "\n",
    "##### ----- #####\n",
    "\n",
    "p2 = eval(p21)\n",
    "q2 = eval(q21)\n",
    "p = eval(p1)\n",
    "q = eval(q1)\n",
    "p = eval(p1)\n",
    "q2 = eval(q21)\n",
    "p2 = eval(p21)"
   ]
  },
  {
   "cell_type": "code",
   "execution_count": 27,
   "id": "115575ae",
   "metadata": {
    "scrolled": true
   },
   "outputs": [],
   "source": [
    "##### Empty Lists for Data Storage: #####\n",
    "\n",
    "q_list_classical = [] \n",
    "p_list_classical = []"
   ]
  },
  {
   "cell_type": "code",
   "execution_count": 28,
   "id": "1e7e41aa",
   "metadata": {
    "scrolled": true
   },
   "outputs": [
    {
     "name": "stdout",
     "output_type": "stream",
     "text": [
      "Total runtime is 64.10373401641846\n"
     ]
    }
   ],
   "source": [
    "### Time how long it takes to compute ###\n",
    "\n",
    "import time \n",
    "begin = time.time()\n",
    "\n",
    "\n",
    "### Compute the x values ###\n",
    "\n",
    "dt = 0.1 # step size\n",
    "t_i = 0.0 # start\n",
    "t_f = 1000 # finish\n",
    "\n",
    "\n",
    "### Compute the y values ###\n",
    "\n",
    "while t_i<=t_f:\n",
    "\n",
    "    p2 = eval(p21)\n",
    "    q2 = eval(q21)\n",
    "    p = eval(p1)\n",
    "    q = eval(q1)\n",
    "    p = eval(p1)\n",
    "    q2 = eval(q21)\n",
    "    p2 = eval(p21)\n",
    "\n",
    "    t_i = t_i + dt\n",
    "    \n",
    "    # Here is where you add the lists to store data\n",
    "    q_list_classical.append(q)\n",
    "    p_list_classical.append(p)\n",
    "\n",
    "### Compute the end time ###\n",
    "    \n",
    "time.sleep(1)\n",
    "# store end time\n",
    "end = time.time()\n",
    "  \n",
    "# total time taken\n",
    "print(f\"Total runtime is {end - begin}\")"
   ]
  },
  {
   "cell_type": "code",
   "execution_count": 29,
   "id": "28c4c542",
   "metadata": {
    "scrolled": true
   },
   "outputs": [],
   "source": [
    "x_list_classical = np.arange(0, t_f, dt)"
   ]
  },
  {
   "cell_type": "code",
   "execution_count": 31,
   "id": "6e238f68",
   "metadata": {
    "scrolled": true
   },
   "outputs": [
    {
     "data": {
      "image/png": "[encoded data removed]",
      "text/plain": [
       "<Figure size 432x288 with 1 Axes>"
      ]
     },
     "metadata": {
      "needs_background": "light"
     },
     "output_type": "display_data"
    }
   ],
   "source": [
    "plt.plot(x_list, q_list, 'k')\n",
    "plt.plot(x_list_classical, q_list_classical, \"m\")\n",
    "plt.xlim(0, 40)\n",
    "plt.xlabel(\"Time (fs)\")\n",
    "plt.ylim(-2, 1)\n",
    "plt.ylabel(\"Position, q\")\n",
    "plt.savefig('gaussian_qVt_classical_dissoc.png')\n",
    "plt.show()"
   ]
  },
  {
   "cell_type": "code",
   "execution_count": 38,
   "id": "b35fe14e",
   "metadata": {
    "scrolled": true
   },
   "outputs": [
    {
     "data": {
      "image/png": "[encoded data removed]",
      "text/plain": [
       "<Figure size 432x288 with 1 Axes>"
      ]
     },
     "metadata": {
      "needs_background": "light"
     },
     "output_type": "display_data"
    }
   ],
   "source": [
    "plt.plot(x_list, p_list, 'k')\n",
    "plt.plot(x_list_classical, p_list_classical, \"m\")\n",
    "plt.xlim(0, 40)\n",
    "plt.xlabel(\"Time (fs)\")\n",
    "plt.ylim(-30, 50)\n",
    "plt.ylabel(\"Position, q\")\n",
    "plt.savefig('gaussian_pVt_classical_dissoc.png')\n",
    "plt.show()"
   ]
  },
  {
   "cell_type": "code",
   "execution_count": null,
   "id": "c3dee7af",
   "metadata": {},
   "outputs": [],
   "source": []
  }
 ],
 "metadata": {
  "kernelspec": {
   "display_name": "Python 3",
   "language": "python",
   "name": "python3"
  },
  "language_info": {
   "codemirror_mode": {
    "name": "ipython",
    "version": 3
   },
   "file_extension": ".py",
   "mimetype": "text/x-python",
   "name": "python",
   "nbconvert_exporter": "python",
   "pygments_lexer": "ipython3",
   "version": "3.8.8"
  }
 },
 "nbformat": 4,
 "nbformat_minor": 5
}
