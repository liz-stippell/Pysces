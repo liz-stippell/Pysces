{
 "cells": [
  {
   "cell_type": "code",
   "execution_count": 34,
   "metadata": {},
   "outputs": [],
   "source": [
    "from sympy import *\n",
    "from sympy.functions import sqrt\n",
    "from sympy import symbols\n",
    "from sympy.physics.quantum.dagger import Dagger\n",
    "from sympy.physics.quantum.state import Ket, Bra\n",
    "from sympy.physics.quantum.operator import Operator\n",
    "\n",
    "\n",
    "from sympy import init_printing\n",
    "init_printing() \n",
    "\n",
    "A, psi, a, L = symbols(\"A psi a L\")\n",
    "\n",
    "psi, psi_inv, x = symbols('psi psi_inv x')"
   ]
  },
  {
   "cell_type": "markdown",
   "metadata": {},
   "source": [
    "# GENERAL NOTATION"
   ]
  },
  {
   "cell_type": "markdown",
   "metadata": {},
   "source": [
    "The general form of normalization is:\n",
    "\n",
    "Where psi is the wavefunction, Dagger(psi) is the complex conjugate of said wavefunction, and A is the normalization constant."
   ]
  },
  {
   "cell_type": "code",
   "execution_count": 35,
   "metadata": {
    "scrolled": true
   },
   "outputs": [
    {
     "data": {
      "image/png": "[encoded data removed]",
      "text/latex": [
       "$$\\int A^{2} \\psi \\psi^{\\dagger}\\, dx$$"
      ],
      "text/plain": [
       "⌠           \n",
       "⎮  2    †   \n",
       "⎮ A ⋅ψ⋅ψ  dx\n",
       "⌡           "
      ]
     },
     "execution_count": 35,
     "metadata": {},
     "output_type": "execute_result"
    }
   ],
   "source": [
    "Integral((A**2)*psi*Dagger(psi), x)"
   ]
  },
  {
   "cell_type": "markdown",
   "metadata": {},
   "source": [
    "Therefore, A = "
   ]
  },
  {
   "cell_type": "code",
   "execution_count": 36,
   "metadata": {
    "scrolled": true
   },
   "outputs": [
    {
     "data": {
      "image/png": "[encoded data removed]",
      "text/latex": [
       "$$\\frac{1}{\\sqrt{\\int \\psi \\psi^{\\dagger}\\, dx}}$$"
      ],
      "text/plain": [
       "       1        \n",
       "────────────────\n",
       "     ___________\n",
       "    ╱ ⌠         \n",
       "   ╱  ⎮    †    \n",
       "  ╱   ⎮ ψ⋅ψ  dx \n",
       "╲╱    ⌡         "
      ]
     },
     "execution_count": 36,
     "metadata": {},
     "output_type": "execute_result"
    }
   ],
   "source": [
    "1/sqrt(Integral(psi*Dagger(psi), x))"
   ]
  },
  {
   "cell_type": "markdown",
   "metadata": {},
   "source": [
    "These are common definitions of wavefunctions important in quantum mechanics."
   ]
  },
  {
   "cell_type": "code",
   "execution_count": 37,
   "metadata": {},
   "outputs": [],
   "source": [
    "def Planewave(x):\n",
    "    return exp(I*(k*x-omega*t))\n",
    "\n",
    "def PiB(x, L, n):\n",
    "    return sin((n*pi*x)/L)\n",
    "\n",
    "def PiB_Norm(x, L, n):\n",
    "    return sqrt(2/L)*PiB(x, L, n)\n"
   ]
  },
  {
   "cell_type": "markdown",
   "metadata": {},
   "source": [
    "The Conj() function will give us the complex conjugate of the wavefunction\n",
    "\n",
    "The Norm() function will give us the normalization constant, as defined above in the general notation."
   ]
  },
  {
   "cell_type": "code",
   "execution_count": 38,
   "metadata": {},
   "outputs": [],
   "source": [
    "def Conj(x):\n",
    "    return x.replace(I, -I)\n",
    "\n",
    "def Norm(A, x, y, z):\n",
    "    return 1/sqrt(Integral(A*Conj(A), (x, y, z)))"
   ]
  },
  {
   "cell_type": "markdown",
   "metadata": {},
   "source": [
    "# Let's take some wavefunctions from Homework 2:\n"
   ]
  },
  {
   "cell_type": "code",
   "execution_count": 39,
   "metadata": {},
   "outputs": [
    {
     "data": {
      "image/png": "[encoded data removed]",
      "text/latex": [
       "$$e^{x}$$"
      ],
      "text/plain": [
       " x\n",
       "ℯ "
      ]
     },
     "execution_count": 39,
     "metadata": {},
     "output_type": "execute_result"
    }
   ],
   "source": [
    "exp(x)"
   ]
  },
  {
   "cell_type": "markdown",
   "metadata": {},
   "source": [
    "Let's look at what the definition of the normalization constant means:\n",
    "\n",
    "Norm(A, x, y, z)\n",
    "\n",
    "A = the wavefunction (in general notiation, this is psi)\n",
    "\n",
    "x = the variable we are integrating with respect to. This is usually x\n",
    "\n",
    "y = the lower bound. This is usually going to be -oo\n",
    "\n",
    "z = the upper bound. This is usually going to be oo\n",
    "\n",
    "Note that in sympy notation, two \"o\"s (oo) represents infinity."
   ]
  },
  {
   "cell_type": "code",
   "execution_count": 40,
   "metadata": {
    "scrolled": true
   },
   "outputs": [
    {
     "data": {
      "image/png": "[encoded data removed]",
      "text/latex": [
       "$$\\frac{1}{\\sqrt{\\int_{-\\infty}^{0} e^{2 x}\\, dx}}$$"
      ],
      "text/plain": [
       "         1         \n",
       "───────────────────\n",
       "       ____________\n",
       "      ╱ 0          \n",
       "     ╱  ⌠          \n",
       "    ╱   ⎮   2⋅x    \n",
       "   ╱    ⎮  ℯ    dx \n",
       "  ╱     ⌡          \n",
       "╲╱      -∞         "
      ]
     },
     "execution_count": 40,
     "metadata": {},
     "output_type": "execute_result"
    }
   ],
   "source": [
    "Norm(exp(x), x, -oo, 0)"
   ]
  },
  {
   "cell_type": "markdown",
   "metadata": {},
   "source": [
    "The above is just symbolic notation. To calculate the integral, the .doit() function can be applied at the end of the string, as follows:"
   ]
  },
  {
   "cell_type": "code",
   "execution_count": 41,
   "metadata": {},
   "outputs": [
    {
     "data": {
      "image/png": "[encoded data removed]",
      "text/latex": [
       "$$\\sqrt{2}$$"
      ],
      "text/plain": [
       "√2"
      ]
     },
     "execution_count": 41,
     "metadata": {},
     "output_type": "execute_result"
    }
   ],
   "source": [
    "Norm(exp(x), x, -oo, 0).doit()"
   ]
  },
  {
   "cell_type": "markdown",
   "metadata": {},
   "source": [
    "Again, this is the normalization constant. To get the normalized wavefunction, simply multiply the calculated normalization constant by the original wavefunction:"
   ]
  },
  {
   "cell_type": "code",
   "execution_count": 42,
   "metadata": {},
   "outputs": [
    {
     "data": {
      "image/png": "[encoded data removed]",
      "text/latex": [
       "$$\\sqrt{2} e^{x}$$"
      ],
      "text/plain": [
       "    x\n",
       "√2⋅ℯ "
      ]
     },
     "execution_count": 42,
     "metadata": {},
     "output_type": "execute_result"
    }
   ],
   "source": [
    "Norm(exp(x), x, -oo, 0).doit()*(exp(x))"
   ]
  },
  {
   "cell_type": "markdown",
   "metadata": {},
   "source": [
    "Let's try another example over the integral (0,1)\n",
    "\n",
    "This time using psi for simplicity:"
   ]
  },
  {
   "cell_type": "code",
   "execution_count": 43,
   "metadata": {},
   "outputs": [],
   "source": [
    "psi = a*x*(x-1)"
   ]
  },
  {
   "cell_type": "code",
   "execution_count": 44,
   "metadata": {
    "scrolled": true
   },
   "outputs": [
    {
     "data": {
      "image/png": "[encoded data removed]",
      "text/latex": [
       "$$\\frac{\\sqrt{30} a x \\left(x - 1\\right)}{\\sqrt{a^{2}}}$$"
      ],
      "text/plain": [
       "√30⋅a⋅x⋅(x - 1)\n",
       "───────────────\n",
       "       ____    \n",
       "      ╱  2     \n",
       "    ╲╱  a      "
      ]
     },
     "execution_count": 44,
     "metadata": {},
     "output_type": "execute_result"
    }
   ],
   "source": [
    "Norm(psi, x, 0, 1).doit()*(psi)"
   ]
  },
  {
   "cell_type": "markdown",
   "metadata": {},
   "source": [
    "The same can be done with problems involving complex numbers:"
   ]
  },
  {
   "cell_type": "code",
   "execution_count": 46,
   "metadata": {},
   "outputs": [
    {
     "data": {
      "image/png": "[encoded data removed]",
      "text/latex": [
       "$$\\frac{e^{i x}}{\\sqrt{L}}$$"
      ],
      "text/plain": [
       " ⅈ⋅x\n",
       "ℯ   \n",
       "────\n",
       " √L "
      ]
     },
     "execution_count": 46,
     "metadata": {},
     "output_type": "execute_result"
    }
   ],
   "source": [
    "psi = exp(I*x)\n",
    "\n",
    "Norm((psi), x, 0, L).doit()*(psi)"
   ]
  }
 ],
 "metadata": {
  "kernelspec": {
   "display_name": "Python 3",
   "language": "python",
   "name": "python3"
  },
  "language_info": {
   "codemirror_mode": {
    "name": "ipython",
    "version": 3
   },
   "file_extension": ".py",
   "mimetype": "text/x-python",
   "name": "python",
   "nbconvert_exporter": "python",
   "pygments_lexer": "ipython3",
   "version": "3.7.5"
  }
 },
 "nbformat": 4,
 "nbformat_minor": 2
}
