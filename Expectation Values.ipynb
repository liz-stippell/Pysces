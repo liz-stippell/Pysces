{
 "cells": [
  {
   "cell_type": "code",
   "execution_count": 17,
   "metadata": {},
   "outputs": [],
   "source": [
    "from sympy import *\n",
    "from sympy.functions import sqrt\n",
    "from sympy import symbols\n",
    "from sympy.physics.quantum.dagger import Dagger\n",
    "from sympy.physics.quantum.state import Ket, Bra\n",
    "from sympy.physics.quantum.operator import Operator\n",
    "\n",
    "\n",
    "from sympy import init_printing\n",
    "init_printing() \n",
    "\n",
    "a, b, c, L, n = symbols(\"a b c L n\")\n",
    "\n",
    "A, B, C, x, y, z, psi = symbols(\"A B C x y z psi\")\n",
    "\n",
    "def Conj(x):\n",
    "    return x.replace(I, -I)\n",
    "\n",
    "def Norm(A, x, y, z):\n",
    "    return 1/sqrt(Integral(A*Conj(A), (x, y, z)))\n",
    "\n",
    "def Expect(A, B, x, y, z):\n",
    "    return Integral(A*Operator(B)*Operator(Conj(A)), (x, y, z))"
   ]
  },
  {
   "cell_type": "markdown",
   "metadata": {},
   "source": [
    "Let's discuss what the above definition means:\n",
    "\n",
    "An expectation value is the average value of a normalized function over an integral.\n",
    "\n",
    "A = the wavefunction (generally denoted by psi)\n",
    "B = the average value you are looking at\n",
    "x = the variable that the integration is with respect to\n",
    "y = the lower bound of integration\n",
    "z = the upper bound of integration\n",
    "\n",
    "So, a general expression would be:"
   ]
  },
  {
   "cell_type": "code",
   "execution_count": 18,
   "metadata": {},
   "outputs": [
    {
     "data": {
      "image/png": "[encoded data removed]",
      "text/latex": [
       "$$\\int_{y}^{z} \\psi B \\psi\\, dx$$"
      ],
      "text/plain": [
       "z         \n",
       "⌠         \n",
       "⎮ ψ⋅B⋅ψ dx\n",
       "⌡         \n",
       "y         "
      ]
     },
     "execution_count": 18,
     "metadata": {},
     "output_type": "execute_result"
    }
   ],
   "source": [
    "Expect(psi, B, x, y, z)"
   ]
  },
  {
   "cell_type": "markdown",
   "metadata": {},
   "source": [
    "Note that the second A variable is the complex conjugate, but is not explicitly shown as such, since:\n",
    "\n",
    "Conj(psi) = psi"
   ]
  },
  {
   "cell_type": "markdown",
   "metadata": {},
   "source": [
    "# Particle in a Box"
   ]
  },
  {
   "cell_type": "markdown",
   "metadata": {},
   "source": [
    "We can, in theory, use the above notation to examine the particle in a box problem:\n",
    "\n",
    "PiB() function is just the particle in a box function\n",
    "\n",
    "PiB_Norm() function is the normalized particle in a box function"
   ]
  },
  {
   "cell_type": "code",
   "execution_count": 19,
   "metadata": {},
   "outputs": [],
   "source": [
    "def PiB(x, L, n):\n",
    "    return sin((n*pi*x)/L)\n",
    "\n",
    "def PiB_Norm(x, L, n):\n",
    "    return sqrt(2/L)*PiB(x, L, n)"
   ]
  },
  {
   "cell_type": "markdown",
   "metadata": {},
   "source": [
    "We are looking for the average location (x) of the particle in a one-dimensional box:"
   ]
  },
  {
   "cell_type": "code",
   "execution_count": 22,
   "metadata": {},
   "outputs": [
    {
     "data": {
      "image/png": "[encoded data removed]",
      "text/latex": [
       "$$\\int_{0}^{L} \\sqrt{2} \\sqrt{\\frac{1}{L}} \\sin{\\left (\\frac{\\pi n x}{L} \\right )} x \\sqrt{2} \\sqrt{\\frac{1}{L}} \\sin{\\left (\\frac{\\pi n x}{L} \\right )}\\, dx$$"
      ],
      "text/plain": [
       "L                                                 \n",
       "⌠                                                 \n",
       "⎮        ___                     ___              \n",
       "⎮       ╱ 1     ⎛π⋅n⋅x⎞         ╱ 1     ⎛π⋅n⋅x⎞   \n",
       "⎮ √2⋅  ╱  ─ ⋅sin⎜─────⎟⋅x⋅√2⋅  ╱  ─ ⋅sin⎜─────⎟ dx\n",
       "⎮    ╲╱   L     ⎝  L  ⎠      ╲╱   L     ⎝  L  ⎠   \n",
       "⌡                                                 \n",
       "0                                                 "
      ]
     },
     "metadata": {},
     "output_type": "display_data"
    },
    {
     "data": {
      "text/latex": [
       "$$\\begin{cases} - \\frac{\\sqrt{2} L \\sqrt{\\frac{1}{L}} \\cos{\\left (\\pi n \\right )} L \\sqrt{2} \\sqrt{\\frac{1}{L}} \\sin{\\left (\\pi n \\right )}}{\\pi n} + \\frac{\\sqrt{2} L \\sqrt{\\frac{1}{L}} 0^{2}}{\\pi n} & \\text{for}\\: \\frac{\\pi n}{L} \\neq 0 \\\\0 & \\text{otherwise} \\end{cases}$$"
      ],
      "text/plain": [
       "⎧           ___                   ___                     ___                \n",
       "⎪          ╱ 1                   ╱ 1                     ╱ 1   2             \n",
       "⎪  √2⋅L⋅  ╱  ─ ⋅cos(π⋅n)⋅L⋅√2⋅  ╱  ─ ⋅sin(π⋅n)   √2⋅L⋅  ╱  ─ ⋅0              \n",
       "⎪       ╲╱   L                ╲╱   L                  ╲╱   L          π⋅n    \n",
       "⎨- ─────────────────────────────────────────── + ───────────────  for ─── ≠ 0\n",
       "⎪                      π⋅n                             π⋅n             L     \n",
       "⎪                                                                            \n",
       "⎪                               0                                  otherwise \n",
       "⎩                                                                            "
      ]
     },
     "metadata": {},
     "output_type": "display_data"
    }
   ],
   "source": [
    "psi = PiB_Norm(x, L, n)\n",
    "\n",
    "display(Expect(psi, x, x, 0, L))\n",
    "display(Expect(psi, x, x, 0, L).doit())"
   ]
  },
  {
   "cell_type": "markdown",
   "metadata": {},
   "source": [
    "However, this is an incorrect computation for the particle in a box. The correct expectation value is:\n",
    "\n",
    "2/L\n",
    "\n",
    "Indicating the most probable location for finding the particle is in the center of the box."
   ]
  },
  {
   "cell_type": "code",
   "execution_count": null,
   "metadata": {},
   "outputs": [],
   "source": []
  }
 ],
 "metadata": {
  "kernelspec": {
   "display_name": "Python 3",
   "language": "python",
   "name": "python3"
  },
  "language_info": {
   "codemirror_mode": {
    "name": "ipython",
    "version": 3
   },
   "file_extension": ".py",
   "mimetype": "text/x-python",
   "name": "python",
   "nbconvert_exporter": "python",
   "pygments_lexer": "ipython3",
   "version": "3.7.5"
  }
 },
 "nbformat": 4,
 "nbformat_minor": 2
}
