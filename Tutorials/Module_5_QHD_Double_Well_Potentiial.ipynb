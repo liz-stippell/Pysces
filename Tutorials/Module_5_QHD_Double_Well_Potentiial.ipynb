{
 "cells": [
  {
   "cell_type": "code",
   "execution_count": 1,
   "id": "6a5ea91e",
   "metadata": {},
   "outputs": [],
   "source": [
    "from QHD import *\n",
    "\n",
    "import matplotlib.pyplot as plt\n",
    "import numpy as np"
   ]
  },
  {
   "cell_type": "markdown",
   "id": "e28e62d4",
   "metadata": {},
   "source": [
    "# The Double Well Potential"
   ]
  },
  {
   "cell_type": "markdown",
   "id": "b791f30a",
   "metadata": {},
   "source": [
    "**1. The Potential**"
   ]
  },
  {
   "cell_type": "markdown",
   "id": "243d61f2",
   "metadata": {},
   "source": [
    "We first must define the potential along with its parameters, as described below."
   ]
  },
  {
   "cell_type": "markdown",
   "id": "173fe7a9",
   "metadata": {},
   "source": [
    "**Parameters**\n",
    "\n",
    "$m=1836$ This is mass\n",
    "\n",
    "$\\lambda=m$ This is a constant which can be set equal to the mass, `m`, or any other value\n",
    "\n",
    "$B=2$ This is simply a constant which can be changed as well\n",
    "\n",
    "\n",
    "\n",
    "\n",
    "**Potential**\n",
    "\n",
    "$V(q)=(q^2 - B)^2$"
   ]
  },
  {
   "cell_type": "code",
   "execution_count": 4,
   "id": "ef31ffa6",
   "metadata": {},
   "outputs": [],
   "source": [
    "B1 = 5\n",
    "B2 = 0\n",
    "B3 = 2\n",
    "q = np.linspace(-10, 10, 1000)\n",
    "\n",
    "potential1 = (q**2 - B1)**2\n",
    "potential2 = (q**2 - B2)**2\n",
    "potential3 = (q**2 - B3)**2"
   ]
  },
  {
   "cell_type": "code",
   "execution_count": 5,
   "id": "b8c0e1b1",
   "metadata": {},
   "outputs": [
    {
     "data": {
      "image/png": "[encoded data removed]",
      "text/plain": [
       "<Figure size 432x288 with 1 Axes>"
      ]
     },
     "metadata": {
      "needs_background": "light"
     },
     "output_type": "display_data"
    }
   ],
   "source": [
    "plt.plot(q, potential1, \"m\")\n",
    "plt.plot(q, potential2, \"k\")\n",
    "plt.plot(q, potential3, \"g\")\n",
    "plt.ylabel(\"Potential, V(q) / eV\", fontsize=14)\n",
    "plt.xlabel(\"Position, q / $\\AA$\", fontsize=14)\n",
    "plt.ylim(-5, 100)\n",
    "plt.xlim(-6, 6)\n",
    "plt.legend([\"B=5\", \"B=0\", \"B=2\"])\n",
    "#plt.savefig('doublewell_vVq.png')\n",
    "plt.show()"
   ]
  },
  {
   "cell_type": "markdown",
   "id": "707f12e4",
   "metadata": {},
   "source": [
    "### 2. Derivation of  QHD formulas"
   ]
  },
  {
   "cell_type": "markdown",
   "id": "6f035e35",
   "metadata": {},
   "source": [
    "Here, we use the pysces library, able to derive the equations of motion in the QHD method. We will need to define the `q`, `p`, and `p2` variables. In order to do this, we must first calculate the first and second derivatives of the potential of interest, defined in section 1. We will also use a change of variables as well, described below.\n",
    "\n",
    "Please note that because the potential is quadratic, we do not need a change of variables. "
   ]
  },
  {
   "cell_type": "markdown",
   "id": "33a35234",
   "metadata": {},
   "source": [
    "**2.1 The First and Second Derivatives of the Potential**"
   ]
  },
  {
   "cell_type": "markdown",
   "id": "e52c5ffe",
   "metadata": {},
   "source": [
    "To take the derivatives, we must represent the potential symbollically. This can be done by:"
   ]
  },
  {
   "cell_type": "code",
   "execution_count": 4,
   "id": "aa7a3a2f",
   "metadata": {},
   "outputs": [],
   "source": [
    "# First, we must define all the parameters as stated in section 1 as symbols:\n",
    "\n",
    "q, B= symbols(\"q, B\")\n",
    "\n",
    "# When computing symbolically, we do not need to use the numpy exponential function.\n",
    "\n",
    "potential_sym =(q**2 - B)**2"
   ]
  },
  {
   "cell_type": "markdown",
   "id": "247ae1a8",
   "metadata": {},
   "source": [
    "Now that the potential is represented symbolically, we may take the first and second derivatives, described by `diff1` and `diff2`, respectively. Here you can use the `diff` function, which is found in the `sympy` library. This fuction takes the derivative symbolically with respect to the variable of interest, in this case `q`"
   ]
  },
  {
   "cell_type": "code",
   "execution_count": 5,
   "id": "59215cf9",
   "metadata": {},
   "outputs": [
    {
     "data": {
      "image/png": "[encoded data removed]",
      "text/latex": [
       "$\\displaystyle \\left( 4 q \\left(- B + q^{2}\\right), \\  - 4 B + 12 q^{2}\\right)$"
      ],
      "text/plain": [
       "⎛    ⎛      2⎞             2⎞\n",
       "⎝4⋅q⋅⎝-B + q ⎠, -4⋅B + 12⋅q ⎠"
      ]
     },
     "execution_count": 5,
     "metadata": {},
     "output_type": "execute_result"
    }
   ],
   "source": [
    "diff1 = diff(potential_sym, q)\n",
    "diff2 = diff(diff1, q)\n",
    "\n",
    "diff1, diff2"
   ]
  },
  {
   "cell_type": "markdown",
   "id": "6f086723",
   "metadata": {},
   "source": [
    "**2.2 Solving for the Equations of Motion**"
   ]
  },
  {
   "cell_type": "code",
   "execution_count": 6,
   "id": "4c152071",
   "metadata": {},
   "outputs": [],
   "source": [
    "# Again, we must first define all variables as symbols. #\n",
    "\n",
    "q, p, x, x2, xp, dt, mass, alpha, D = symbols(\"q, p, x, x2, xp, dt, mass, alpha, D\")\n",
    "\n",
    "\n",
    "\n",
    "########## EOM Calculations ##########\n",
    "\n",
    "q1 = QHD_int(q, 1, dt)\n",
    "\n",
    "#print(q1)\n",
    "\n",
    "p1 = sympify(str(QHD_int(p, 1, dt)).replace(\"Derivative(v(q), q)\", str(diff1)))\n",
    "\n",
    "#print(p1)\n",
    "\n",
    "p21 = sympify(str(QHD_int(p, 2, dt)).replace(\"Derivative(v(q), (q, 2))\", str(diff2)).replace(\"Derivative(v(q), q)\", str(diff1)))\n",
    "\n",
    "#print(p21)"
   ]
  },
  {
   "cell_type": "markdown",
   "id": "9c45fa19",
   "metadata": {},
   "source": [
    "Now, we are ready to make plots of the data based on the EOM's as computed above."
   ]
  },
  {
   "cell_type": "markdown",
   "id": "65b10e5f",
   "metadata": {},
   "source": [
    "# 3. Graphing"
   ]
  },
  {
   "cell_type": "markdown",
   "id": "d20a669f",
   "metadata": {},
   "source": [
    "**3.1 Generating Time-Dependent Values**"
   ]
  },
  {
   "cell_type": "markdown",
   "id": "969e9ff9",
   "metadata": {},
   "source": [
    "We will first define all of the parameters necessary to perform the QHD calculations. The below parameters are defined as followed:\n",
    "\n",
    "`hbar`: Plancks constant\n",
    "\n",
    "`convert`: A conversion factor for the mass\n",
    "\n",
    "`mass`: The mass of the particle in the potential. In this case, the mass of a hydrogen atom is used.\n",
    "\n",
    "`q0`: The starting position value\n",
    "\n",
    "`p0`: The starting momentum value\n",
    "\n",
    "`s0`: The mean width\n",
    "\n",
    "`ps0`: The mean width momentum\n",
    "\n",
    "`B`: A constant in the double well potential\n",
    "\n",
    "`dt`: The time step used"
   ]
  },
  {
   "cell_type": "code",
   "execution_count": 52,
   "id": "62e33126",
   "metadata": {},
   "outputs": [],
   "source": [
    "##### Constants #####\n",
    "\n",
    "hbar = 0.6582  # eV * fs\n",
    "\n",
    "# Feel free to change any of the below parameters to observe what happens when you change them\n",
    "q0 = 0.15\n",
    "p0 = 0.0\n",
    "s0 = 0.05\n",
    "ps0 = 0.0\n",
    "mass = 1\n",
    "\n",
    "B = 2\n",
    "dt = 0.1"
   ]
  },
  {
   "cell_type": "markdown",
   "id": "6395f7d2",
   "metadata": {},
   "source": [
    "Below, the initial conditions are described. These initial conditions describe a gaussian wavepacket, and do not need to be changed."
   ]
  },
  {
   "cell_type": "code",
   "execution_count": 53,
   "id": "5087e0ec",
   "metadata": {},
   "outputs": [],
   "source": [
    "##### Initial Conditions (Do Not Change) #####\n",
    "\n",
    "t = 0.0    \n",
    "Etot = 0.0\n",
    "Etot0 = 0.0\n",
    "Etot_cl = 0.0\n",
    "Etot_cl0 = 0.0\n",
    "q,p,pq,q2,p2 = 0.0, 0.0, 0.0, 0.0, 0.0\n",
    "q, p = q0, p0\n",
    "q_0 = 0.0\n",
    "q2 = q*q + s0*s0\n",
    "pq = ps0*s0 + q*p\n",
    "p2 = p*p + ps0*ps0 + (0.5*hbar/s0)**2\n",
    "\n",
    "p = eval(str(p1))\n",
    "q = eval(str(q1))\n",
    "p = eval(str(p1))"
   ]
  },
  {
   "cell_type": "markdown",
   "id": "1d4f6ab7",
   "metadata": {},
   "source": [
    "Below, empty lists are created to store the data generated. Feel free to create your own lists to examine how different variables change over time."
   ]
  },
  {
   "cell_type": "code",
   "execution_count": 54,
   "id": "3d8f9cb8",
   "metadata": {},
   "outputs": [],
   "source": [
    "##### Empty Lists for Data Storage: #####\n",
    "\n",
    "q_list = []\n",
    "p_list = []"
   ]
  },
  {
   "cell_type": "markdown",
   "id": "f58d46ca",
   "metadata": {},
   "source": [
    "**Q2.** Create an empty list for `q2` values and observe how this variable changes over time."
   ]
  },
  {
   "cell_type": "code",
   "execution_count": null,
   "id": "17768211",
   "metadata": {},
   "outputs": [],
   "source": []
  },
  {
   "cell_type": "markdown",
   "id": "a9353006",
   "metadata": {},
   "source": [
    "Now that the parameters have been defined, we can compute the desired values of position and momentum over a given time interval."
   ]
  },
  {
   "cell_type": "markdown",
   "id": "0019f6ca",
   "metadata": {},
   "source": [
    "**Q3.** Try changing the time step (`dt`) or the finish time (`t_f`)."
   ]
  },
  {
   "cell_type": "code",
   "execution_count": 55,
   "id": "91cceff5",
   "metadata": {},
   "outputs": [
    {
     "name": "stdout",
     "output_type": "stream",
     "text": [
      "Total runtime is 7.783663988113403\n"
     ]
    }
   ],
   "source": [
    "### Time how long it takes to compute ###\n",
    "\n",
    "import time \n",
    "begin = time.time()\n",
    "\n",
    "dt = 0.1\n",
    "t_i = 0.0\n",
    "t_f = 1000\n",
    "\n",
    "#### --- Do Not Change Anything Below --- #####\n",
    "\n",
    "### Compute the y values ###\n",
    "\n",
    "while t_i <= t_f:\n",
    "    \n",
    "    p = eval(str(p1))\n",
    "    \n",
    "    q = eval(str(q1))\n",
    "\n",
    "    p = eval(str(p1))\n",
    "    \n",
    "    t_i = t_i + dt\n",
    "   \n",
    "##### --- #####\n",
    "\n",
    "    # Here is where you add the lists to store data\n",
    "    \n",
    "    q_list.append(q)\n",
    "    p_list.append(p)\n",
    "\n",
    "    \n",
    "### Compute the end time ###\n",
    "    \n",
    "time.sleep(1)\n",
    "# store end time\n",
    "end = time.time()\n",
    "  \n",
    "# total time taken\n",
    "print(f\"Total runtime is {end - begin}\")"
   ]
  },
  {
   "cell_type": "markdown",
   "id": "5420477e",
   "metadata": {},
   "source": [
    "For the x values, we create a range with `(t_i, t_f, dt)` as the parameters. Due to the increasing nature of `t_i`, the initial value of `0.0` is used in its place."
   ]
  },
  {
   "cell_type": "code",
   "execution_count": 56,
   "id": "90099f97",
   "metadata": {},
   "outputs": [],
   "source": [
    "x_list = np.arange(0, t_f, dt)"
   ]
  },
  {
   "cell_type": "markdown",
   "id": "e846c0d9",
   "metadata": {},
   "source": [
    "**3.2 Graphing Position versus Time**"
   ]
  },
  {
   "cell_type": "code",
   "execution_count": 57,
   "id": "a575dca3",
   "metadata": {},
   "outputs": [
    {
     "data": {
      "image/png": "[encoded data removed]",
      "text/plain": [
       "<Figure size 432x288 with 1 Axes>"
      ]
     },
     "metadata": {
      "needs_background": "light"
     },
     "output_type": "display_data"
    }
   ],
   "source": [
    "x_list = np.arange(0, 1000, 0.1)\n",
    "plt.plot(x_list, q_list, \"m\")\n",
    "plt.xlim(0, 20)\n",
    "plt.xlabel(\"Time / fs\", fontsize=14)\n",
    "plt.ylabel(\"Position, q / $\\AA$\", fontsize=14)\n",
    "#plt.savefig('doublewell_qVt_B5_-25.png')\n",
    "plt.show()"
   ]
  },
  {
   "cell_type": "code",
   "execution_count": 58,
   "id": "b333af31",
   "metadata": {},
   "outputs": [
    {
     "data": {
      "image/png": "[encoded data removed]",
      "text/plain": [
       "<Figure size 432x288 with 1 Axes>"
      ]
     },
     "metadata": {
      "needs_background": "light"
     },
     "output_type": "display_data"
    }
   ],
   "source": [
    "plt.plot(x_list, p_list, 'm')\n",
    "plt.xlim(0, 20)\n",
    "plt.xlabel(\"Time / fs\", fontsize=14)\n",
    "plt.ylabel(\"Momentum, p\", fontsize=14)\n",
    "#plt.savefig('double_well_pvt_B5_-25.png')\n",
    "plt.show()"
   ]
  },
  {
   "cell_type": "markdown",
   "id": "a6556401",
   "metadata": {},
   "source": [
    "**Q4.** How does decreasing `B` affect the position and momentum? How does it affect the shape of the potential?"
   ]
  },
  {
   "cell_type": "markdown",
   "id": "98285a37",
   "metadata": {},
   "source": []
  },
  {
   "cell_type": "markdown",
   "id": "4d84b6f3",
   "metadata": {},
   "source": [
    "**Q5.** How does changing `q0` to `0.15` affect the position and momentum graphs?"
   ]
  },
  {
   "cell_type": "markdown",
   "id": "a9d23c71",
   "metadata": {},
   "source": []
  }
 ],
 "metadata": {
  "kernelspec": {
   "display_name": "Python 3",
   "language": "python",
   "name": "python3"
  },
  "language_info": {
   "codemirror_mode": {
    "name": "ipython",
    "version": 3
   },
   "file_extension": ".py",
   "mimetype": "text/x-python",
   "name": "python",
   "nbconvert_exporter": "python",
   "pygments_lexer": "ipython3",
   "version": "3.8.8"
  }
 },
 "nbformat": 4,
 "nbformat_minor": 5
}
