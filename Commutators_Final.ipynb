{
 "cells": [
  {
   "cell_type": "code",
   "execution_count": 2,
   "metadata": {},
   "outputs": [],
   "source": [
    "from sympy import *\n",
    "from sympy.physics.quantum import Commutator, Dagger, Operator\n",
    "from sympy.abc import x, y\n",
    "from sympy import Function, Symbol\n",
    "from sympy import init_printing\n",
    "init_printing() \n",
    "\n",
    "# This simply imports a variety of information from the sympy library\n",
    "# sympy is \"symbolic python\", and so it has a large library for useful symbols for quantum mechanics"
   ]
  },
  {
   "cell_type": "code",
   "execution_count": 23,
   "metadata": {},
   "outputs": [],
   "source": [
    "m, h_b, h, x, p, omega, y, z = symbols(\"m h_b h x p omega y z\")\n",
    "\n",
    "def COMM(A, B, f):\n",
    "    return expand((Commutator(A, B)*f).doit())\n",
    "\n",
    "def x_OP():\n",
    "    return Operator(x)\n",
    "\n",
    "def p_OP(x):\n",
    "    return Operator(-I*h_b*(Derivative(\"1\", x)))\n",
    "\n",
    "def Hamiltonian(x):\n",
    "    return Operator(((-(h_b)**2)/(2*m))*((Derivative(\"1\", x, x))))\n",
    "\n",
    "def f(x):\n",
    "    return Operator(Function('f')(x))"
   ]
  },
  {
   "cell_type": "markdown",
   "metadata": {},
   "source": [
    "The first step is to pick which operators are going to be used. A few have been defined..."
   ]
  },
  {
   "cell_type": "markdown",
   "metadata": {},
   "source": [
    "The position (x) operator:"
   ]
  },
  {
   "cell_type": "code",
   "execution_count": 24,
   "metadata": {},
   "outputs": [
    {
     "data": {
      "image/png": "[encoded data removed]",
      "text/latex": [
       "$$x$$"
      ],
      "text/plain": [
       "x"
      ]
     },
     "execution_count": 24,
     "metadata": {},
     "output_type": "execute_result"
    }
   ],
   "source": [
    "x_OP()"
   ]
  },
  {
   "cell_type": "markdown",
   "metadata": {},
   "source": [
    "The momentum (p) operator:\n",
    "\n",
    "The variable x is what the momentum is with respect to"
   ]
  },
  {
   "cell_type": "code",
   "execution_count": 25,
   "metadata": {},
   "outputs": [
    {
     "data": {
      "image/png": "[encoded data removed]",
      "text/latex": [
       "$$- i h_{b} \\frac{d}{d x} 1$$"
      ],
      "text/plain": [
       "       d    \n",
       "-ⅈ⋅h_b⋅──(1)\n",
       "       dx   "
      ]
     },
     "execution_count": 25,
     "metadata": {},
     "output_type": "execute_result"
    }
   ],
   "source": [
    "p_OP(x) "
   ]
  },
  {
   "cell_type": "markdown",
   "metadata": {},
   "source": [
    "And finally, the hamiltonian operator. \n",
    "\n",
    "Again, the variable x is what the hamiltonian is with respect to"
   ]
  },
  {
   "cell_type": "code",
   "execution_count": 26,
   "metadata": {},
   "outputs": [
    {
     "data": {
      "image/png": "[encoded data removed]",
      "text/latex": [
       "$$- \\frac{h_{b}^{2} \\frac{d^{2}}{d x^{2}} 1}{2 m}$$"
      ],
      "text/plain": [
       "        2    \n",
       "    2  d     \n",
       "-h_b ⋅───(1) \n",
       "        2    \n",
       "      dx     \n",
       "─────────────\n",
       "     2⋅m     "
      ]
     },
     "execution_count": 26,
     "metadata": {},
     "output_type": "execute_result"
    }
   ],
   "source": [
    "Hamiltonian(x) "
   ]
  },
  {
   "cell_type": "markdown",
   "metadata": {},
   "source": [
    "If the operators being used are not already defined, define them as following:\n",
    "(For general variables)"
   ]
  },
  {
   "cell_type": "code",
   "execution_count": 27,
   "metadata": {},
   "outputs": [],
   "source": [
    "A = Operator(\"A\")\n",
    "B = Operator(\"B\")"
   ]
  },
  {
   "cell_type": "markdown",
   "metadata": {},
   "source": [
    "If they are specific operators (already defined operators, given in the problem)"
   ]
  },
  {
   "cell_type": "code",
   "execution_count": 28,
   "metadata": {},
   "outputs": [],
   "source": [
    "A = Operator(x**2)\n",
    "B = Operator(y**2)"
   ]
  },
  {
   "cell_type": "markdown",
   "metadata": {},
   "source": [
    "The COMM() function can then be used to expand the commutator with respect to an auxillary function, f(x)\n",
    "\n",
    "COMM(A, B, f):\n",
    "\n",
    "A = the first operator\n",
    "B = the second operator\n",
    "f = the auxillary function f(x)"
   ]
  },
  {
   "cell_type": "markdown",
   "metadata": {},
   "source": [
    "For example:"
   ]
  },
  {
   "cell_type": "code",
   "execution_count": 29,
   "metadata": {},
   "outputs": [
    {
     "data": {
      "image/png": "[encoded data removed]",
      "text/latex": [
       "$$A B f{\\left (x \\right )} - B A f{\\left (x \\right )}$$"
      ],
      "text/plain": [
       "A⋅B⋅f(x) - B⋅A⋅f(x)"
      ]
     },
     "execution_count": 29,
     "metadata": {},
     "output_type": "execute_result"
    }
   ],
   "source": [
    "A = Operator(\"A\")\n",
    "B = Operator(\"B\")\n",
    "\n",
    "COMM(A, B, f(x))"
   ]
  },
  {
   "cell_type": "markdown",
   "metadata": {},
   "source": [
    "Here is another one with specific operators:"
   ]
  },
  {
   "cell_type": "code",
   "execution_count": 30,
   "metadata": {},
   "outputs": [
    {
     "data": {
      "image/png": "[encoded data removed]",
      "text/latex": [
       "$$x \\frac{d}{d x} 1 f{\\left (x \\right )} - \\frac{d}{d x} 1 x f{\\left (x \\right )}$$"
      ],
      "text/plain": [
       "  d            d           \n",
       "x⋅──(1)⋅f(x) - ──(1)⋅x⋅f(x)\n",
       "  dx           dx          "
      ]
     },
     "execution_count": 30,
     "metadata": {},
     "output_type": "execute_result"
    }
   ],
   "source": [
    "\n",
    "A = Operator(\"x\")\n",
    "B = Operator(Derivative(\"1\", x))\n",
    "\n",
    "COMM(A, B, f(x))"
   ]
  },
  {
   "cell_type": "markdown",
   "metadata": {},
   "source": [
    "It is important to note that \"f\" should not be defined as a symbol/variable, or else you will get an error code."
   ]
  }
 ],
 "metadata": {
  "kernelspec": {
   "display_name": "Python 3",
   "language": "python",
   "name": "python3"
  },
  "language_info": {
   "codemirror_mode": {
    "name": "ipython",
    "version": 3
   },
   "file_extension": ".py",
   "mimetype": "text/x-python",
   "name": "python",
   "nbconvert_exporter": "python",
   "pygments_lexer": "ipython3",
   "version": "3.7.5"
  }
 },
 "nbformat": 4,
 "nbformat_minor": 2
}
